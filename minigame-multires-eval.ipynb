{
 "cells": [
  {
   "cell_type": "markdown",
   "metadata": {},
   "source": [
    "# Minigame 12a: Evaluation on a multi-resolution grid\n",
    "\n",
    "In this exploration, we're looking at the ability to take policies trained on small patches and to apply them to larger meshes by composition - but in this case we want to be able to handle a grid that already has different levels of resolution present."
   ]
  },
  {
   "cell_type": "code",
   "execution_count": 1,
   "metadata": {},
   "outputs": [],
   "source": [
    "# L2 sum bugfix in training\n",
    "chkptfile = \"/home/rwa/ray_results/PPO_EstimatorGame_2021-02-27_18-57-57nhfajmzk/checkpoint_75/checkpoint-75\"\n",
    "\n",
    "# All of above and sin waves in library\n",
    "chkptfile=\"/home/rwa/ray_results/PPO_EstimatorGame_2021-02-27_20-58-32bp5n1ofm/checkpoint_115/checkpoint-115\"\n"
   ]
  },
  {
   "cell_type": "code",
   "execution_count": 2,
   "metadata": {},
   "outputs": [],
   "source": [
    "import math\n",
    "from math import sin,cos\n",
    "import random"
   ]
  },
  {
   "cell_type": "code",
   "execution_count": 3,
   "metadata": {},
   "outputs": [
    {
     "name": "stdout",
     "output_type": "stream",
     "text": [
      "WARNING:tensorflow:From /home/rwa/minigame_tf1/lib/python3.6/site-packages/tensorflow_core/python/compat/v2_compat.py:68: disable_resource_variables (from tensorflow.python.ops.variable_scope) is deprecated and will be removed in a future version.\n",
      "Instructions for updating:\n",
      "non-resource variables are not supported in the long term\n"
     ]
    }
   ],
   "source": [
    "import gym\n",
    "from gym import spaces, utils\n",
    "import numpy as np\n",
    "import ray\n",
    "import ray.rllib.agents.ppo as ppo\n",
    "import ray.rllib.agents.dqn as dqn"
   ]
  },
  {
   "cell_type": "code",
   "execution_count": 4,
   "metadata": {},
   "outputs": [],
   "source": [
    "from glvis import glvis, to_stream\n",
    "from ipywidgets import Layout"
   ]
  },
  {
   "cell_type": "code",
   "execution_count": 5,
   "metadata": {},
   "outputs": [],
   "source": [
    "import matplotlib.pyplot as plt"
   ]
  },
  {
   "cell_type": "code",
   "execution_count": 6,
   "metadata": {
    "scrolled": true
   },
   "outputs": [],
   "source": [
    "from mfem import path\n",
    "import mfem.ser as mfem"
   ]
  },
  {
   "cell_type": "markdown",
   "metadata": {},
   "source": [
    "Define some synthetic test functions."
   ]
  },
  {
   "cell_type": "code",
   "execution_count": 7,
   "metadata": {},
   "outputs": [],
   "source": [
    "def rotate(x,theta):\n",
    "    x0 = x[0]\n",
    "    y0 = x[1]\n",
    "    x1 = x0*cos(theta)-y0*sin(theta)\n",
    "    y1 = x0*sin(theta)+y0*cos(theta)\n",
    "    return [x1,y1]"
   ]
  },
  {
   "cell_type": "code",
   "execution_count": 8,
   "metadata": {},
   "outputs": [],
   "source": [
    "def bump(x):\n",
    "    rsq = x[0]**2 +x[1]**2\n",
    "    return math.exp(-rsq)"
   ]
  },
  {
   "cell_type": "code",
   "execution_count": 9,
   "metadata": {},
   "outputs": [],
   "source": [
    "def step(x):\n",
    "    x0 = x[0]\n",
    "    if (x0 < 0.0):\n",
    "        return 1.0\n",
    "    else:\n",
    "        return 0.0"
   ]
  },
  {
   "cell_type": "code",
   "execution_count": 10,
   "metadata": {},
   "outputs": [],
   "source": [
    "def wave(x):\n",
    "    return sin(2.*math.pi*x[0])"
   ]
  },
  {
   "cell_type": "code",
   "execution_count": 11,
   "metadata": {},
   "outputs": [],
   "source": [
    "def smooth_step(x):\n",
    "    return 0.5*(1.0 +math.tanh(x[0]))"
   ]
  },
  {
   "cell_type": "code",
   "execution_count": 12,
   "metadata": {},
   "outputs": [],
   "source": [
    "def rotated_smooth_step(x,theta):\n",
    "    xr = rotate(x,theta)\n",
    "    return smooth_step(xr)"
   ]
  },
  {
   "cell_type": "code",
   "execution_count": 13,
   "metadata": {},
   "outputs": [],
   "source": [
    "def rotated_step(x, theta):\n",
    "    xr = rotate(x,theta)\n",
    "    return step(xr)"
   ]
  },
  {
   "cell_type": "code",
   "execution_count": 14,
   "metadata": {},
   "outputs": [],
   "source": [
    "def ramp(x):\n",
    "    if x[0] < 0.5:\n",
    "        return 0.5*x[0]+0.25\n",
    "    else:\n",
    "        return 0.25+0.25"
   ]
  },
  {
   "cell_type": "markdown",
   "metadata": {},
   "source": [
    "Create classes where we can set the parameters and then eval a bunch of points."
   ]
  },
  {
   "cell_type": "code",
   "execution_count": 15,
   "metadata": {},
   "outputs": [],
   "source": [
    "class Step(mfem.PyCoefficient):\n",
    "    \n",
    "    def SetParams(self):\n",
    "        self.theta = random.uniform(0.0, 2.0*math.pi)\n",
    "        self.dx = [random.uniform(-0.5, 0.5),random.uniform(-0.5, 0.5)]\n",
    "        self.xc = [0.5,0.5]\n",
    "    def EvalValue(self, x):\n",
    "        return rotated_step(x-self.xc+self.dx, self.theta)"
   ]
  },
  {
   "cell_type": "code",
   "execution_count": 16,
   "metadata": {},
   "outputs": [],
   "source": [
    "class Wave(mfem.PyCoefficient):\n",
    "    \n",
    "    def SetParams(self):\n",
    "        self.theta = random.uniform(0.0, 2.0*math.pi)\n",
    "        self.dx = [random.uniform(-0.5, 0.5),random.uniform(-0.5, 0.5)]\n",
    "        self.ampl = random.uniform(0.0, 1.0)\n",
    "        self.wavel = random.uniform(0.0, 1.0)\n",
    "        \n",
    "    def EvalValue(self, x):\n",
    "        x *= self.wavel\n",
    "        x -= self.dx\n",
    "        xr = rotate(x,self.theta)\n",
    "        return self.ampl*wave(xr)"
   ]
  },
  {
   "cell_type": "code",
   "execution_count": 17,
   "metadata": {},
   "outputs": [],
   "source": [
    "class Linear(mfem.PyCoefficient):\n",
    "    \n",
    "    def SetParams(self):\n",
    "        self.theta = random.uniform(0.0, 2.0*math.pi)\n",
    "        self.y0 = random.uniform(0.0,1.0)\n",
    "        self.y1 = random.uniform(0.0,1.0)\n",
    "        \n",
    "        self.m = self.y1-self.y0\n",
    "        self.b = 0.5*(self.y0+self.y1)\n",
    "        \n",
    "    def EvalValue(self, x):\n",
    "        xc = x-[0.5,0.5]\n",
    "        xr = rotate(xc,self.theta)\n",
    "        line = self.m*xr[0]+self.b\n",
    "        return line"
   ]
  },
  {
   "cell_type": "code",
   "execution_count": 18,
   "metadata": {},
   "outputs": [],
   "source": [
    "class Ramp(mfem.PyCoefficient):\n",
    "    \n",
    "    def SetParams(self):\n",
    "        pass\n",
    "        \n",
    "    def EvalValue(self, x):\n",
    "        return ramp(x)"
   ]
  },
  {
   "cell_type": "code",
   "execution_count": 19,
   "metadata": {},
   "outputs": [],
   "source": [
    "class Bump(mfem.PyCoefficient):\n",
    "    \n",
    "    def SetParams(self):\n",
    "        self.width = [random.uniform(0.01,0.5),random.uniform(0.01,0.5)]\n",
    "        self.xc = [0.5,0.5]\n",
    "        self.dx = [random.uniform(-0.5, 0.5),random.uniform(-0.5, 0.5)]\n",
    "\n",
    "    def EvalValue(self, x):\n",
    "        return bump((x-self.xc+self.dx)/self.width)"
   ]
  },
  {
   "cell_type": "code",
   "execution_count": 20,
   "metadata": {},
   "outputs": [],
   "source": [
    "class SmoothStep(mfem.PyCoefficient):\n",
    "    \n",
    "    def SetParams(self):\n",
    "        self.width = random.uniform(1.0, 15.0)\n",
    "        self.xc = [0.5,0.5]\n",
    "        self.dx = random.uniform(-0.5,0.5)\n",
    "        self.theta = random.uniform(0.0, 2.0*math.pi)\n",
    "\n",
    "    def EvalValue(self, x):\n",
    "        x -= self.xc\n",
    "        x += self.dx\n",
    "        return rotated_smooth_step(x*self.width, self.theta)"
   ]
  },
  {
   "cell_type": "code",
   "execution_count": 21,
   "metadata": {},
   "outputs": [],
   "source": [
    "class BumpAndSmoothStep(mfem.PyCoefficient):\n",
    "    \n",
    "    def SetParams(self):\n",
    "        self.bump = Bump()\n",
    "        self.bump.SetParams()\n",
    "        self.smooth_step = SmoothStep()\n",
    "        self.smooth_step.SetParams()\n",
    "\n",
    "    def EvalValue(self, x):\n",
    "        return 0.5*self.bump.EvalValue(x)+0.5*self.smooth_step.EvalValue(x)"
   ]
  },
  {
   "cell_type": "code",
   "execution_count": 22,
   "metadata": {},
   "outputs": [],
   "source": [
    "class Library(mfem.PyCoefficient):\n",
    "    \n",
    "    def SetParams(self):\n",
    "        # 0 - linear\n",
    "        # 1 - bump\n",
    "        # 2 - tanh\n",
    "        # 3 - step\n",
    "        # 4 - wave\n",
    "        pick = random.randrange(4)\n",
    "        if pick == 0:\n",
    "            self.fn = Linear()\n",
    "        elif pick == 1:\n",
    "            self.fn = Bump()\n",
    "        elif pick == 2:\n",
    "            self.fn = SmoothStep()\n",
    "        elif pick == 3:\n",
    "            self.fn = Step()\n",
    "        elif pick == 4:\n",
    "            self.fn = Wave()\n",
    "        \n",
    "        self.fn.SetParams()\n",
    "\n",
    "    def EvalValue(self, x):\n",
    "        return self.fn.EvalValue(x)"
   ]
  },
  {
   "cell_type": "code",
   "execution_count": 89,
   "metadata": {},
   "outputs": [],
   "source": [
    "class LinearCombination(mfem.PyCoefficient):\n",
    "    \n",
    "    def SetParams(self):\n",
    "        self.n = 3\n",
    "        self.fn = []\n",
    "            # 0 - linear\n",
    "            # 1 - bump\n",
    "            # 2 - tanh\n",
    "            # 3 - step\n",
    "            # 4 - wave\n",
    "        for i in range(self.n):\n",
    "            pick = random.randrange(3)\n",
    "            if pick == 0:\n",
    "                self.fn.append(Linear())\n",
    "            elif pick == 1:\n",
    "                self.fn.append(Bump())\n",
    "            elif pick == 2:\n",
    "                self.fn.append(SmoothStep())\n",
    "            elif pick == 3:\n",
    "                self.fn.append(Step())\n",
    "            self.fn[-1].SetParams()\n",
    "        \n",
    "    def EvalValue(self, x):\n",
    "        usum = 0.0\n",
    "        for i in range(self.n):\n",
    "            usum += self.fn[i].EvalValue(x)\n",
    "        return usum/self.n"
   ]
  },
  {
   "cell_type": "markdown",
   "metadata": {},
   "source": [
    "Visualize an instance of the test function. Note that each instance has randomly chosen parameters.  For the steps, it's a rotation angle and a displacement.  For the bumps, it's a width and a displacement."
   ]
  },
  {
   "cell_type": "code",
   "execution_count": 90,
   "metadata": {},
   "outputs": [],
   "source": [
    "class EstimatorGameDummy(gym.Env):\n",
    "    \n",
    "        \n",
    "    # In RLlib, you need the config arg\n",
    "    def __init__(self,config):\n",
    "        \n",
    "        # keep a copy of the unrefined mesh so we can restore it from memory\n",
    "        self.meshfile = 'inline-quad-5.mesh'\n",
    "        self.mesh0 = mfem.Mesh(self.meshfile)\n",
    "        self.mesh = mfem.Mesh(self.meshfile)\n",
    "        self.width = math.sqrt(self.mesh.GetNE())\n",
    "        \n",
    "        # The only reason we need to create an fespace and gf here\n",
    "        # is to find the sizes needed for the action and observation spaces\n",
    "        dim = self.mesh.Dimension()\n",
    "        self.order = 1\n",
    "        self.fec = mfem.L2_FECollection(self.order, dim)\n",
    "        self.fes = mfem.FiniteElementSpace(self.mesh, self.fec)\n",
    "        self.u = mfem.GridFunction(self.fes);\n",
    "\n",
    "        # actions are: do nothing (0) or refine center element (1)\n",
    "        self.action_space = spaces.Discrete(2)\n",
    "        \n",
    "        self.obsx = 42\n",
    "        self.obsy = 42\n",
    "        \n",
    "        # observation space: 42x42 image\n",
    "        self.observation_space = spaces.Box(-1.0, 2.0, shape=(self.obsx,self.obsy,1))\n",
    "        #self.get_obs_points()\n",
    "    \n",
    "    def step(self, action):\n",
    "        pass\n",
    "    \n",
    "    # similar to reset, but do not choose a new function\n",
    "    def reinit(self):\n",
    "        #print(\"reinit\")\n",
    "        del self.mesh\n",
    "        self.mesh = mfem.Mesh(self.mesh0)\n",
    "\n",
    "        del self.fes\n",
    "        self.fes = mfem.FiniteElementSpace(self.mesh, self.fec)\n",
    "\n",
    "        del self.u\n",
    "        self.u = mfem.GridFunction(self.fes)\n",
    "        self.u.ProjectCoefficient(self.u0)\n",
    "        \n",
    "        #self.get_obs_points()\n",
    "        obs = self.get_obs()\n",
    "        \n",
    "        return np.array(obs)\n",
    "    \n",
    "    # every reset of the env chooses a new synthetic function\n",
    "    def reset(self):\n",
    "        self.u0 = self.u0_coeff()\n",
    "        self.u0.SetParams()\n",
    "        return self.reinit()\n",
    "    \n",
    "    def render(self):\n",
    "        return glvis(to_stream(self.mesh,self.u) + 'keys Rjlmc',600,600)"
   ]
  },
  {
   "cell_type": "code",
   "execution_count": 91,
   "metadata": {},
   "outputs": [],
   "source": [
    "#env = EstimatorGameDummy(None)\n",
    "#env.reset()\n",
    "#env.render()"
   ]
  },
  {
   "cell_type": "markdown",
   "metadata": {},
   "source": [
    "Now we want to load a trained policy, and apply it in a strided way."
   ]
  },
  {
   "cell_type": "code",
   "execution_count": 92,
   "metadata": {},
   "outputs": [
    {
     "name": "stderr",
     "output_type": "stream",
     "text": [
      "2021-03-04 20:30:33,255\tINFO services.py:1174 -- View the Ray dashboard at \u001b[1m\u001b[32mhttp://127.0.0.1:8265\u001b[39m\u001b[22m\n"
     ]
    },
    {
     "data": {
      "text/plain": [
       "{'node_ip_address': '192.168.1.201',\n",
       " 'raylet_ip_address': '192.168.1.201',\n",
       " 'redis_address': '192.168.1.201:6379',\n",
       " 'object_store_address': '/tmp/ray/session_2021-03-04_20-30-32_746944_29772/sockets/plasma_store',\n",
       " 'raylet_socket_name': '/tmp/ray/session_2021-03-04_20-30-32_746944_29772/sockets/raylet',\n",
       " 'webui_url': '127.0.0.1:8265',\n",
       " 'session_dir': '/tmp/ray/session_2021-03-04_20-30-32_746944_29772',\n",
       " 'metrics_export_port': 55652,\n",
       " 'node_id': '0b0dc85a4febf68399d018ad7fa5a469245451718a203bcf89ac1c28'}"
      ]
     },
     "execution_count": 92,
     "metadata": {},
     "output_type": "execute_result"
    }
   ],
   "source": [
    "ray.shutdown()\n",
    "ray.init(ignore_reinit_error=True)"
   ]
  },
  {
   "cell_type": "code",
   "execution_count": 93,
   "metadata": {
    "scrolled": true
   },
   "outputs": [
    {
     "name": "stderr",
     "output_type": "stream",
     "text": [
      "\u001b[2m\u001b[36m(pid=6737)\u001b[0m WARNING:tensorflow:From /home/rwa/minigame_tf1/lib/python3.6/site-packages/tensorflow_core/python/compat/v2_compat.py:68: disable_resource_variables (from tensorflow.python.ops.variable_scope) is deprecated and will be removed in a future version.\n",
      "\u001b[2m\u001b[36m(pid=6737)\u001b[0m Instructions for updating:\n",
      "\u001b[2m\u001b[36m(pid=6737)\u001b[0m non-resource variables are not supported in the long term\n",
      "\u001b[2m\u001b[36m(pid=6737)\u001b[0m WARNING:tensorflow:From /home/rwa/minigame_tf1/lib/python3.6/site-packages/tensorflow_core/python/compat/v2_compat.py:68: disable_resource_variables (from tensorflow.python.ops.variable_scope) is deprecated and will be removed in a future version.\n",
      "\u001b[2m\u001b[36m(pid=6737)\u001b[0m Instructions for updating:\n",
      "\u001b[2m\u001b[36m(pid=6737)\u001b[0m non-resource variables are not supported in the long term\n",
      "\u001b[2m\u001b[36m(pid=6739)\u001b[0m WARNING:tensorflow:From /home/rwa/minigame_tf1/lib/python3.6/site-packages/tensorflow_core/python/compat/v2_compat.py:68: disable_resource_variables (from tensorflow.python.ops.variable_scope) is deprecated and will be removed in a future version.\n",
      "\u001b[2m\u001b[36m(pid=6739)\u001b[0m Instructions for updating:\n",
      "\u001b[2m\u001b[36m(pid=6739)\u001b[0m non-resource variables are not supported in the long term\n",
      "\u001b[2m\u001b[36m(pid=6739)\u001b[0m WARNING:tensorflow:From /home/rwa/minigame_tf1/lib/python3.6/site-packages/tensorflow_core/python/compat/v2_compat.py:68: disable_resource_variables (from tensorflow.python.ops.variable_scope) is deprecated and will be removed in a future version.\n",
      "\u001b[2m\u001b[36m(pid=6739)\u001b[0m Instructions for updating:\n",
      "\u001b[2m\u001b[36m(pid=6739)\u001b[0m non-resource variables are not supported in the long term\n",
      "\u001b[2m\u001b[36m(pid=6736)\u001b[0m WARNING:tensorflow:From /home/rwa/minigame_tf1/lib/python3.6/site-packages/tensorflow_core/python/compat/v2_compat.py:68: disable_resource_variables (from tensorflow.python.ops.variable_scope) is deprecated and will be removed in a future version.\n",
      "\u001b[2m\u001b[36m(pid=6736)\u001b[0m Instructions for updating:\n",
      "\u001b[2m\u001b[36m(pid=6736)\u001b[0m non-resource variables are not supported in the long term\n",
      "\u001b[2m\u001b[36m(pid=6736)\u001b[0m WARNING:tensorflow:From /home/rwa/minigame_tf1/lib/python3.6/site-packages/tensorflow_core/python/compat/v2_compat.py:68: disable_resource_variables (from tensorflow.python.ops.variable_scope) is deprecated and will be removed in a future version.\n",
      "\u001b[2m\u001b[36m(pid=6736)\u001b[0m Instructions for updating:\n",
      "\u001b[2m\u001b[36m(pid=6736)\u001b[0m non-resource variables are not supported in the long term\n",
      "\u001b[2m\u001b[36m(pid=6737)\u001b[0m 2021-03-04 20:30:37,072\tWARNING deprecation.py:34 -- DeprecationWarning: `framestack` has been deprecated. Use `num_framestacks (int)` instead. This will raise an error in the future!\n",
      "\u001b[2m\u001b[36m(pid=6737)\u001b[0m WARNING:tensorflow:From /home/rwa/minigame_tf1/lib/python3.6/site-packages/tensorflow_core/python/ops/resource_variable_ops.py:1630: calling BaseResourceVariable.__init__ (from tensorflow.python.ops.resource_variable_ops) with constraint is deprecated and will be removed in a future version.\n",
      "\u001b[2m\u001b[36m(pid=6737)\u001b[0m Instructions for updating:\n",
      "\u001b[2m\u001b[36m(pid=6737)\u001b[0m If using Keras pass *_constraint arguments to layers.\n",
      "\u001b[2m\u001b[36m(pid=6737)\u001b[0m 2021-03-04 20:30:37,072\tWARNING deprecation.py:34 -- DeprecationWarning: `framestack` has been deprecated. Use `num_framestacks (int)` instead. This will raise an error in the future!\n",
      "\u001b[2m\u001b[36m(pid=6737)\u001b[0m WARNING:tensorflow:From /home/rwa/minigame_tf1/lib/python3.6/site-packages/tensorflow_core/python/ops/resource_variable_ops.py:1630: calling BaseResourceVariable.__init__ (from tensorflow.python.ops.resource_variable_ops) with constraint is deprecated and will be removed in a future version.\n",
      "\u001b[2m\u001b[36m(pid=6737)\u001b[0m Instructions for updating:\n",
      "\u001b[2m\u001b[36m(pid=6737)\u001b[0m If using Keras pass *_constraint arguments to layers.\n",
      "\u001b[2m\u001b[36m(pid=6739)\u001b[0m 2021-03-04 20:30:37,074\tWARNING deprecation.py:34 -- DeprecationWarning: `framestack` has been deprecated. Use `num_framestacks (int)` instead. This will raise an error in the future!\n",
      "\u001b[2m\u001b[36m(pid=6739)\u001b[0m WARNING:tensorflow:From /home/rwa/minigame_tf1/lib/python3.6/site-packages/tensorflow_core/python/ops/resource_variable_ops.py:1630: calling BaseResourceVariable.__init__ (from tensorflow.python.ops.resource_variable_ops) with constraint is deprecated and will be removed in a future version.\n",
      "\u001b[2m\u001b[36m(pid=6739)\u001b[0m Instructions for updating:\n",
      "\u001b[2m\u001b[36m(pid=6739)\u001b[0m If using Keras pass *_constraint arguments to layers.\n",
      "\u001b[2m\u001b[36m(pid=6739)\u001b[0m 2021-03-04 20:30:37,074\tWARNING deprecation.py:34 -- DeprecationWarning: `framestack` has been deprecated. Use `num_framestacks (int)` instead. This will raise an error in the future!\n",
      "\u001b[2m\u001b[36m(pid=6739)\u001b[0m WARNING:tensorflow:From /home/rwa/minigame_tf1/lib/python3.6/site-packages/tensorflow_core/python/ops/resource_variable_ops.py:1630: calling BaseResourceVariable.__init__ (from tensorflow.python.ops.resource_variable_ops) with constraint is deprecated and will be removed in a future version.\n",
      "\u001b[2m\u001b[36m(pid=6739)\u001b[0m Instructions for updating:\n",
      "\u001b[2m\u001b[36m(pid=6739)\u001b[0m If using Keras pass *_constraint arguments to layers.\n",
      "\u001b[2m\u001b[36m(pid=6736)\u001b[0m 2021-03-04 20:30:37,101\tWARNING deprecation.py:34 -- DeprecationWarning: `framestack` has been deprecated. Use `num_framestacks (int)` instead. This will raise an error in the future!\n",
      "\u001b[2m\u001b[36m(pid=6736)\u001b[0m 2021-03-04 20:30:37,101\tWARNING deprecation.py:34 -- DeprecationWarning: `framestack` has been deprecated. Use `num_framestacks (int)` instead. This will raise an error in the future!\n",
      "\u001b[2m\u001b[36m(pid=6736)\u001b[0m WARNING:tensorflow:From /home/rwa/minigame_tf1/lib/python3.6/site-packages/tensorflow_core/python/ops/resource_variable_ops.py:1630: calling BaseResourceVariable.__init__ (from tensorflow.python.ops.resource_variable_ops) with constraint is deprecated and will be removed in a future version.\n",
      "\u001b[2m\u001b[36m(pid=6736)\u001b[0m Instructions for updating:\n",
      "\u001b[2m\u001b[36m(pid=6736)\u001b[0m If using Keras pass *_constraint arguments to layers.\n",
      "\u001b[2m\u001b[36m(pid=6736)\u001b[0m WARNING:tensorflow:From /home/rwa/minigame_tf1/lib/python3.6/site-packages/tensorflow_core/python/ops/resource_variable_ops.py:1630: calling BaseResourceVariable.__init__ (from tensorflow.python.ops.resource_variable_ops) with constraint is deprecated and will be removed in a future version.\n",
      "\u001b[2m\u001b[36m(pid=6736)\u001b[0m Instructions for updating:\n",
      "\u001b[2m\u001b[36m(pid=6736)\u001b[0m If using Keras pass *_constraint arguments to layers.\n",
      "\u001b[2m\u001b[36m(pid=6737)\u001b[0m WARNING:tensorflow:From /home/rwa/minigame_tf1/lib/python3.6/site-packages/tensorflow_core/python/ops/math_grad.py:1424: where (from tensorflow.python.ops.array_ops) is deprecated and will be removed in a future version.\n",
      "\u001b[2m\u001b[36m(pid=6737)\u001b[0m Instructions for updating:\n",
      "\u001b[2m\u001b[36m(pid=6737)\u001b[0m Use tf.where in 2.0, which has the same broadcast rule as np.where\n",
      "\u001b[2m\u001b[36m(pid=6737)\u001b[0m WARNING:tensorflow:From /home/rwa/minigame_tf1/lib/python3.6/site-packages/tensorflow_core/python/ops/math_grad.py:1424: where (from tensorflow.python.ops.array_ops) is deprecated and will be removed in a future version.\n",
      "\u001b[2m\u001b[36m(pid=6737)\u001b[0m Instructions for updating:\n",
      "\u001b[2m\u001b[36m(pid=6737)\u001b[0m Use tf.where in 2.0, which has the same broadcast rule as np.where\n",
      "\u001b[2m\u001b[36m(pid=6739)\u001b[0m WARNING:tensorflow:From /home/rwa/minigame_tf1/lib/python3.6/site-packages/tensorflow_core/python/ops/math_grad.py:1424: where (from tensorflow.python.ops.array_ops) is deprecated and will be removed in a future version.\n",
      "\u001b[2m\u001b[36m(pid=6739)\u001b[0m Instructions for updating:\n",
      "\u001b[2m\u001b[36m(pid=6739)\u001b[0m Use tf.where in 2.0, which has the same broadcast rule as np.where\n",
      "\u001b[2m\u001b[36m(pid=6739)\u001b[0m WARNING:tensorflow:From /home/rwa/minigame_tf1/lib/python3.6/site-packages/tensorflow_core/python/ops/math_grad.py:1424: where (from tensorflow.python.ops.array_ops) is deprecated and will be removed in a future version.\n",
      "\u001b[2m\u001b[36m(pid=6739)\u001b[0m Instructions for updating:\n",
      "\u001b[2m\u001b[36m(pid=6739)\u001b[0m Use tf.where in 2.0, which has the same broadcast rule as np.where\n",
      "\u001b[2m\u001b[36m(pid=6736)\u001b[0m WARNING:tensorflow:From /home/rwa/minigame_tf1/lib/python3.6/site-packages/tensorflow_core/python/ops/math_grad.py:1424: where (from tensorflow.python.ops.array_ops) is deprecated and will be removed in a future version.\n",
      "\u001b[2m\u001b[36m(pid=6736)\u001b[0m Instructions for updating:\n",
      "\u001b[2m\u001b[36m(pid=6736)\u001b[0m Use tf.where in 2.0, which has the same broadcast rule as np.where\n",
      "\u001b[2m\u001b[36m(pid=6736)\u001b[0m WARNING:tensorflow:From /home/rwa/minigame_tf1/lib/python3.6/site-packages/tensorflow_core/python/ops/math_grad.py:1424: where (from tensorflow.python.ops.array_ops) is deprecated and will be removed in a future version.\n",
      "\u001b[2m\u001b[36m(pid=6736)\u001b[0m Instructions for updating:\n",
      "\u001b[2m\u001b[36m(pid=6736)\u001b[0m Use tf.where in 2.0, which has the same broadcast rule as np.where\n"
     ]
    },
    {
     "name": "stderr",
     "output_type": "stream",
     "text": [
      "2021-03-04 20:30:38,444\tWARNING deprecation.py:34 -- DeprecationWarning: `framestack` has been deprecated. Use `num_framestacks (int)` instead. This will raise an error in the future!\n",
      "2021-03-04 20:30:41,815\tWARNING util.py:47 -- Install gputil for GPU system monitoring.\n"
     ]
    },
    {
     "data": {
      "text/plain": [
       "{'num_workers': 3,\n",
       " 'num_envs_per_worker': 1,\n",
       " 'create_env_on_driver': False,\n",
       " 'rollout_fragment_length': 200,\n",
       " 'batch_mode': 'truncate_episodes',\n",
       " 'num_gpus': 0,\n",
       " 'train_batch_size': 1000,\n",
       " 'model': {'fcnet_hiddens': [256, 256],\n",
       "  'fcnet_activation': 'tanh',\n",
       "  'conv_filters': None,\n",
       "  'conv_activation': 'relu',\n",
       "  'free_log_std': False,\n",
       "  'no_final_linear': False,\n",
       "  'vf_share_layers': False,\n",
       "  'use_lstm': False,\n",
       "  'max_seq_len': 20,\n",
       "  'lstm_cell_size': 256,\n",
       "  'lstm_use_prev_action': False,\n",
       "  'lstm_use_prev_reward': False,\n",
       "  '_time_major': False,\n",
       "  'use_attention': False,\n",
       "  'attention_num_transformer_units': 1,\n",
       "  'attention_dim': 64,\n",
       "  'attention_num_heads': 1,\n",
       "  'attention_head_dim': 32,\n",
       "  'attention_memory_inference': 50,\n",
       "  'attention_memory_training': 50,\n",
       "  'attention_position_wise_mlp_dim': 32,\n",
       "  'attention_init_gru_gate_bias': 2.0,\n",
       "  'num_framestacks': 'auto',\n",
       "  'dim': 84,\n",
       "  'grayscale': False,\n",
       "  'zero_mean': True,\n",
       "  'custom_model': None,\n",
       "  'custom_model_config': {},\n",
       "  'custom_action_dist': None,\n",
       "  'custom_preprocessor': None,\n",
       "  'lstm_use_prev_action_reward': -1,\n",
       "  'framestack': True},\n",
       " 'optimizer': {},\n",
       " 'gamma': 0.99,\n",
       " 'horizon': None,\n",
       " 'soft_horizon': False,\n",
       " 'no_done_at_end': False,\n",
       " 'env_config': {},\n",
       " 'env': None,\n",
       " 'normalize_actions': False,\n",
       " 'clip_rewards': None,\n",
       " 'clip_actions': True,\n",
       " 'preprocessor_pref': 'deepmind',\n",
       " 'lr': 5e-05,\n",
       " 'monitor': False,\n",
       " 'log_level': 'WARN',\n",
       " 'callbacks': ray.rllib.agents.callbacks.DefaultCallbacks,\n",
       " 'ignore_worker_failures': False,\n",
       " 'log_sys_usage': True,\n",
       " 'fake_sampler': False,\n",
       " 'framework': 'tf',\n",
       " 'eager_tracing': False,\n",
       " 'explore': True,\n",
       " 'exploration_config': {'type': 'StochasticSampling'},\n",
       " 'evaluation_interval': None,\n",
       " 'evaluation_num_episodes': 10,\n",
       " 'in_evaluation': False,\n",
       " 'evaluation_config': {},\n",
       " 'evaluation_num_workers': 0,\n",
       " 'custom_eval_function': None,\n",
       " 'sample_async': False,\n",
       " '_use_trajectory_view_api': True,\n",
       " 'sample_collector': ray.rllib.evaluation.collectors.simple_list_collector.SimpleListCollector,\n",
       " 'observation_filter': 'NoFilter',\n",
       " 'synchronize_filters': True,\n",
       " 'tf_session_args': {'intra_op_parallelism_threads': 2,\n",
       "  'inter_op_parallelism_threads': 2,\n",
       "  'gpu_options': {'allow_growth': True},\n",
       "  'log_device_placement': False,\n",
       "  'device_count': {'CPU': 1},\n",
       "  'allow_soft_placement': True},\n",
       " 'local_tf_session_args': {'intra_op_parallelism_threads': 8,\n",
       "  'inter_op_parallelism_threads': 8},\n",
       " 'compress_observations': False,\n",
       " 'collect_metrics_timeout': 180,\n",
       " 'metrics_smoothing_episodes': 100,\n",
       " 'remote_worker_envs': False,\n",
       " 'remote_env_batch_wait_ms': 0,\n",
       " 'min_iter_time_s': 0,\n",
       " 'timesteps_per_iteration': 0,\n",
       " 'seed': None,\n",
       " 'extra_python_environs_for_driver': {},\n",
       " 'extra_python_environs_for_worker': {},\n",
       " 'num_cpus_per_worker': 1,\n",
       " 'num_gpus_per_worker': 0,\n",
       " 'custom_resources_per_worker': {},\n",
       " 'num_cpus_for_driver': 1,\n",
       " 'memory': 0,\n",
       " 'object_store_memory': 0,\n",
       " 'memory_per_worker': 0,\n",
       " 'object_store_memory_per_worker': 0,\n",
       " 'input': 'sampler',\n",
       " 'input_evaluation': ['is', 'wis'],\n",
       " 'postprocess_inputs': False,\n",
       " 'shuffle_buffer_size': 0,\n",
       " 'output': None,\n",
       " 'output_compress_columns': ['obs', 'new_obs'],\n",
       " 'output_max_file_size': 67108864,\n",
       " 'multiagent': {'policies': {},\n",
       "  'policy_mapping_fn': None,\n",
       "  'policies_to_train': None,\n",
       "  'observation_fn': None,\n",
       "  'replay_mode': 'independent',\n",
       "  'count_steps_by': 'env_steps'},\n",
       " 'logger_config': None,\n",
       " 'replay_sequence_length': 1,\n",
       " 'use_critic': True,\n",
       " 'use_gae': True,\n",
       " 'lambda': 1.0,\n",
       " 'kl_coeff': 0.2,\n",
       " 'sgd_minibatch_size': 128,\n",
       " 'shuffle_sequences': True,\n",
       " 'num_sgd_iter': 30,\n",
       " 'lr_schedule': None,\n",
       " 'vf_loss_coeff': 1.0,\n",
       " 'entropy_coeff': 0.0,\n",
       " 'entropy_coeff_schedule': None,\n",
       " 'clip_param': 0.3,\n",
       " 'vf_clip_param': 10.0,\n",
       " 'grad_clip': None,\n",
       " 'kl_target': 0.01,\n",
       " 'simple_optimizer': False,\n",
       " '_fake_gpus': False,\n",
       " 'vf_share_layers': -1}"
      ]
     },
     "execution_count": 93,
     "metadata": {},
     "output_type": "execute_result"
    }
   ],
   "source": [
    "ppo_config = ppo.DEFAULT_CONFIG.copy()\n",
    "dqn_config = dqn.DEFAULT_CONFIG.copy()\n",
    "\n",
    "#ppo_config['framework'] = 'tfe'\n",
    "#dqn_config['num_workers'] = 1\n",
    "\n",
    "ppo_config['train_batch_size'] = 1000\n",
    "ppo_config['num_workers'] = 3\n",
    "ppo_config['num_gpus'] = 0\n",
    "\n",
    "agent = ppo.PPOTrainer(ppo_config, env=EstimatorGameDummy)\n",
    "\n",
    "#agent = dqn.DQNTrainer(dqn_config, env=AMRGameDummy)\n",
    "ppo_config"
   ]
  },
  {
   "cell_type": "markdown",
   "metadata": {},
   "source": [
    "Restore a policy"
   ]
  },
  {
   "cell_type": "markdown",
   "metadata": {},
   "source": [
    "Long trained on BumpsAndSmoothSteps"
   ]
  },
  {
   "cell_type": "code",
   "execution_count": 94,
   "metadata": {},
   "outputs": [],
   "source": [
    "#agent.restore(\"/home/rwa/ray_results/PPO_EstimatorGame_2021-02-26_22-33-45kb_md4j2/checkpoint_540/checkpoint-540\")"
   ]
  },
  {
   "cell_type": "markdown",
   "metadata": {},
   "source": [
    "Trained on Library, with linear functions"
   ]
  },
  {
   "cell_type": "code",
   "execution_count": 95,
   "metadata": {},
   "outputs": [
    {
     "name": "stderr",
     "output_type": "stream",
     "text": [
      "2021-03-04 20:30:42,048\tINFO trainable.py:372 -- Restored on 192.168.1.201 from checkpoint: /home/rwa/ray_results/PPO_EstimatorGame_2021-02-27_20-58-32bp5n1ofm/checkpoint_115/checkpoint-115\n",
      "2021-03-04 20:30:42,048\tINFO trainable.py:379 -- Current state after restoring: {'_iteration': 115, '_timesteps_total': None, '_time_total': 10348.874559640884, '_episodes_total': 138000}\n"
     ]
    }
   ],
   "source": [
    "agent.restore(chkptfile)"
   ]
  },
  {
   "cell_type": "code",
   "execution_count": 96,
   "metadata": {
    "scrolled": true
   },
   "outputs": [],
   "source": [
    "policy = agent.get_policy()"
   ]
  },
  {
   "cell_type": "markdown",
   "metadata": {},
   "source": [
    "Now we want to create the larger problem we'll be applying this local indicator on."
   ]
  },
  {
   "cell_type": "code",
   "execution_count": 97,
   "metadata": {
    "scrolled": false
   },
   "outputs": [],
   "source": [
    "class GlobalProblem:\n",
    "\n",
    "    def __init__(self,env):\n",
    "        self.mesh = mfem.Mesh('star.mesh')\n",
    "        self.mesh.UniformRefinement()\n",
    "        self.mesh.UniformRefinement()\n",
    "\n",
    "        self.mesh0 = mfem.Mesh(self.mesh)\n",
    "        self.dim = 2\n",
    "        self.p = 1\n",
    "        self.fec = mfem.L2_FECollection(self.p, self.dim)\n",
    "        self.fes = mfem.FiniteElementSpace(self.mesh, self.fec)\n",
    "        self.u = mfem.GridFunction(self.fes)\n",
    "        self.u0 = mfem.GridFunction(self.fes)\n",
    "        self.coeff = LinearCombination()\n",
    "        self.coeff.SetParams()\n",
    "        self.u.ProjectCoefficient(self.coeff)\n",
    "        self.u0.Assign(self.u) # save so we can restore later if desired\n",
    "        self.env = env\n",
    "        self.obsx = 42\n",
    "        self.obsy = 42\n",
    "        \n",
    "    def reset(self):\n",
    "        self.coeff.SetParams()\n",
    "        self.reinit()\n",
    "        \n",
    "    def reinit(self):\n",
    "        del self.mesh\n",
    "        self.mesh = mfem.Mesh(self.mesh0)\n",
    "\n",
    "        del self.fes\n",
    "        self.fes = mfem.FiniteElementSpace(self.mesh, self.fec)\n",
    "\n",
    "        del self.u\n",
    "        self.u = mfem.GridFunction(self.fes)\n",
    "        self.u.ProjectCoefficient(self.coeff)\n",
    "        \n",
    "    # compute observation points around element k\n",
    "    def compute_observation(self, k):\n",
    "        # build the matrix of sample points\n",
    "        ref_w = 2.0\n",
    "        ref_n = self.obsx\n",
    "        assert(self.obsx == self.obsy)\n",
    "        ref_lo = -ref_w\n",
    "        ref_hi = +ref_w\n",
    "        ref_dx = (ref_hi-ref_lo)/ref_n\n",
    "    \n",
    "        trk = self.mesh.GetElementTransformation(k)\n",
    "        ipk = mfem.IntegrationPoint()\n",
    "        xk = mfem.Vector(self.dim)\n",
    "\n",
    "        m = np.empty((ref_n*ref_n,self.dim))\n",
    "        k = 0\n",
    "        for j in range(ref_n):\n",
    "            ipk.y = ref_lo +(j+0.5)*ref_dx\n",
    "            for i in range(ref_n):\n",
    "                ipk.x = ref_lo +(i+0.5)*ref_dx\n",
    "                xk = trk.Transform(ipk)\n",
    "                m[k,:] = xk\n",
    "                k += 1\n",
    "        ns, self.sample_els, self.sample_ips = self.mesh.FindPoints(m)\n",
    "        \n",
    "        state = np.empty((self.obsx,self.obsy,1))\n",
    "        k = 0\n",
    "        complete = True\n",
    "        for j in range(self.obsy):\n",
    "            for i in range(self.obsx):\n",
    "                el = self.sample_els[k]\n",
    "                if self.sample_els[k] >= 0:\n",
    "                    ip = self.sample_ips[k]\n",
    "                    v = self.u.GetValue(self.sample_els[k],self.sample_ips[k])\n",
    "                    state[i][j] = v\n",
    "                else:\n",
    "                    state[i][j] = 0.0\n",
    "                    complete = False\n",
    "                k += 1\n",
    "        self.state = state\n",
    "        return state, complete     \n",
    "        \n",
    "    def refine(self):\n",
    "        \n",
    "        # algorithm:\n",
    "        # foreach element:\n",
    "        #   generate sample points\n",
    "        #   sample the function to create the obs\n",
    "        #   compute the policy action=pi(obs)\n",
    "        #   record the elements to be refined\n",
    "        \n",
    "        self.l2_0_fec = mfem.L2_FECollection(0,self.dim)\n",
    "        self.l2_0_fes = mfem.FiniteElementSpace(self.mesh,self.l2_0_fec)\n",
    "        self.complete = mfem.GridFunction(self.l2_0_fes);\n",
    "        \n",
    "        refine_list = []\n",
    "        for k in range(self.mesh.GetNE()):\n",
    "            obs, complete = self.compute_observation(k)\n",
    "            #complete = True # temp\n",
    "            self.complete[k] = complete\n",
    "            if complete:\n",
    "                action, _, info = policy.compute_single_action(obs, explore=False)\n",
    "                if action == 1:\n",
    "                    refine_list.append(k)\n",
    "        \n",
    "        if len(refine_list) > 0:\n",
    "            self.mesh.GeneralRefinement(mfem.intArray(refine_list))\n",
    "            self.fes.Update()\n",
    "            self.u.Update()\n",
    "            self.u.ProjectCoefficient(self.coeff)\n",
    "            \n",
    "            self.l2_0_fes.Update()\n",
    "            self.complete.Update()\n",
    "            \n",
    "    def refine_by_dg(self):\n",
    "        # put the L2 gridfunction into a coefficient so we can project it\n",
    "        u_disc_coeff = mfem.GridFunctionCoefficient(self.u)\n",
    "        h1_fec = mfem.H1_FECollection(self.p, self.dim)\n",
    "        h1_fes = mfem.FiniteElementSpace(self.mesh, h1_fec)\n",
    "        u_h1 = mfem.GridFunction(h1_fes)\n",
    "        u_h1.ProjectDiscCoefficient(u_disc_coeff, mfem.GridFunction.ARITHMETIC)\n",
    "\n",
    "        # put the H1 smoothed function into a coefficient\n",
    "        u_h1_coeff = mfem.GridFunctionCoefficient(u_h1)\n",
    "\n",
    "        # create a 0-order L2 field to hold errors\n",
    "        l2_0_fec = mfem.L2_FECollection(0,self.dim)\n",
    "        l2_0_fes = mfem.FiniteElementSpace(self.mesh,l2_0_fec)\n",
    "\n",
    "        # Compute elementwise \"errors\" between continuous and discontinuous fields\n",
    "        err_gf = mfem.GridFunction(l2_0_fes);\n",
    "        self.u.ComputeElementL2Errors(u_h1_coeff, err_gf);\n",
    "        \n",
    "        err = err_gf.GetDataArray()\n",
    "        refine_list = [idx for idx, val in enumerate(err) if val > 2.e-5]\n",
    "        if len(refine_list) > 0:\n",
    "            self.mesh.GeneralRefinement(mfem.intArray(refine_list))\n",
    "            self.fes.Update()\n",
    "            self.u.Update()\n",
    "            self.u.ProjectCoefficient(self.coeff)\n",
    "            \n",
    "\n",
    "    \n",
    "    def render(self):\n",
    "        return glvis( to_stream(self.mesh, self.u) +'keys Rcjm', 500, 500)\n",
    "    \n",
    "    def render_complete(self):\n",
    "        return glvis( to_stream(self.mesh, self.complete) +'keys Rcjm', 500, 500)\n",
    "    \n",
    "    def render_orig_error(self):\n",
    "        fec0 = mfem.L2_FECollection(p=0, dim=2)\n",
    "        fes0 = mfem.FiniteElementSpace(self.mesh, fec0)\n",
    "        el_err = mfem.GridFunction(fes0)\n",
    "        self.u.ComputeElementL2Errors(self.coeff, el_err)\n",
    "        return glvis( to_stream(self.mesh, el_err) +'keys Rcjm', 500, 500)\n",
    "    \n",
    "    def render_refined_error(self):\n",
    "        \n",
    "        fec0 = mfem.L2_FECollection(p=0, dim=2)\n",
    "        fes0 = mfem.FiniteElementSpace(self.mesh, fec0)\n",
    "        el_err1 = mfem.GridFunction(fes0)\n",
    "        \n",
    "        mesh0 = mfem.Mesh(self.mesh) # save coarse mesh\n",
    "\n",
    "        refine_list = [*range(self.mesh.GetNE())]\n",
    "        self.mesh.GeneralRefinement(mfem.intArray(refine_list))\n",
    "        \n",
    "        cft = self.mesh.GetRefinementTransforms()\n",
    "\n",
    "        coarse_to_fine = mfem.Table()\n",
    "        coarse_to_ref_type = mfem.intArray()\n",
    "        ref_type_to_matrix = mfem.Table()\n",
    "        ref_type_to_geom = mfem.GeometryTypeArray()\n",
    "\n",
    "        cft.GetCoarseToFineMap(self.mesh,\n",
    "                               coarse_to_fine,\n",
    "                               coarse_to_ref_type,\n",
    "                               ref_type_to_matrix,\n",
    "                               ref_type_to_geom)\n",
    "        \n",
    "        self.fes.Update()\n",
    "        self.u.Update()\n",
    "        self.u.ProjectCoefficient(self.coeff)\n",
    "        \n",
    "        # compute errors on fine mesh\n",
    "        fes_fine = mfem.FiniteElementSpace(self.mesh, fec0)\n",
    "        el_err_fine = mfem.GridFunction(fes_fine)\n",
    "        self.u.ComputeElementL2Errors(self.coeff, el_err_fine)\n",
    "        \n",
    "        # accumulate errors into coarse mesh\n",
    "        for k in range(mesh0.GetNE()):\n",
    "            els = coarse_to_fine.GetRowList(k)\n",
    "            sumsq = 0.0\n",
    "            for j in els:\n",
    "                sumsq += el_err_fine[j]**2\n",
    "            el_err1[k] = math.sqrt(sumsq)\n",
    "        \n",
    "        return glvis( to_stream(mesh0, el_err1) +'keys Rcjm', 500, 500)\n",
    "   \n",
    "    def render_error_reduction(self):\n",
    "        \n",
    "        fec0 = mfem.L2_FECollection(p=0, dim=2)\n",
    "        fes0 = mfem.FiniteElementSpace(self.mesh, fec0)\n",
    "        el_err0 = mfem.GridFunction(fes0)\n",
    "        el_err1 = mfem.GridFunction(fes0)\n",
    "        el_err_delta = mfem.GridFunction(fes0)\n",
    "        mesh0 = mfem.Mesh(self.mesh) # save coarse mesh\n",
    "\n",
    "\n",
    "        self.u.ComputeElementL2Errors(self.coeff, el_err0)\n",
    "        \n",
    "        nelements = self.mesh.GetNE()\n",
    "        \n",
    "        refine_list = [*range(self.mesh.GetNE())]\n",
    "        self.mesh.GeneralRefinement(mfem.intArray(refine_list))\n",
    "        \n",
    "        cft = self.mesh.GetRefinementTransforms()\n",
    "\n",
    "        coarse_to_fine = mfem.Table()\n",
    "        coarse_to_ref_type = mfem.intArray()\n",
    "        ref_type_to_matrix = mfem.Table()\n",
    "        ref_type_to_geom = mfem.GeometryTypeArray()\n",
    "\n",
    "        cft.GetCoarseToFineMap(self.mesh,\n",
    "                               coarse_to_fine,\n",
    "                               coarse_to_ref_type,\n",
    "                               ref_type_to_matrix,\n",
    "                               ref_type_to_geom)\n",
    "        \n",
    "        self.fes.Update()\n",
    "        self.u.Update()\n",
    "        self.u.ProjectCoefficient(self.coeff)\n",
    "        \n",
    "        # compute errors on fine mesh\n",
    "        fes_fine = mfem.FiniteElementSpace(self.mesh, fec0)\n",
    "        el_err_fine = mfem.GridFunction(fes_fine)\n",
    "        self.u.ComputeElementL2Errors(self.coeff, el_err_fine)\n",
    "        \n",
    "        for k in range(nelements):\n",
    "            els = coarse_to_fine.GetRowList(k)\n",
    "            sumsq = 0.0\n",
    "            for j in els:\n",
    "                sumsq += el_err_fine[j]**2\n",
    "            el_err1[k] = math.sqrt(sumsq)\n",
    "        \n",
    "        for k in range(nelements):\n",
    "            el_err_delta[k] = el_err0[k] -el_err1[k]\n",
    "            \n",
    "        return glvis( to_stream(mesh0, el_err_delta) +'keys Rcjm', 500, 500)\n",
    "        "
   ]
  },
  {
   "cell_type": "code",
   "execution_count": 98,
   "metadata": {},
   "outputs": [],
   "source": [
    "env = EstimatorGameDummy(None)\n",
    "g = GlobalProblem(env)"
   ]
  },
  {
   "cell_type": "code",
   "execution_count": 105,
   "metadata": {
    "scrolled": false
   },
   "outputs": [
    {
     "data": {
      "application/vnd.jupyter.widget-view+json": {
       "model_id": "7c064271fc754223b835641a879141f7",
       "version_major": 2,
       "version_minor": 0
      },
      "text/plain": [
       "glvis()"
      ]
     },
     "metadata": {},
     "output_type": "display_data"
    }
   ],
   "source": [
    "g.reset()\n",
    "g.render()"
   ]
  },
  {
   "cell_type": "code",
   "execution_count": 106,
   "metadata": {},
   "outputs": [
    {
     "data": {
      "application/vnd.jupyter.widget-view+json": {
       "model_id": "72ece99ae2c84bfeb00c2b6db8e26505",
       "version_major": 2,
       "version_minor": 0
      },
      "text/plain": [
       "glvis()"
      ]
     },
     "metadata": {},
     "output_type": "display_data"
    }
   ],
   "source": [
    "g.reinit()\n",
    "g.refine_by_dg()\n",
    "g.refine_by_dg()\n",
    "g.render()"
   ]
  },
  {
   "cell_type": "code",
   "execution_count": 107,
   "metadata": {},
   "outputs": [
    {
     "data": {
      "application/vnd.jupyter.widget-view+json": {
       "model_id": "6b6f54081c6c463ea30f5a8247eb80df",
       "version_major": 2,
       "version_minor": 0
      },
      "text/plain": [
       "glvis()"
      ]
     },
     "metadata": {},
     "output_type": "display_data"
    }
   ],
   "source": [
    "g.reinit()\n",
    "g.refine()\n",
    "g.refine()\n",
    "g.render()"
   ]
  },
  {
   "cell_type": "code",
   "execution_count": 108,
   "metadata": {},
   "outputs": [
    {
     "data": {
      "application/vnd.jupyter.widget-view+json": {
       "model_id": "7e027b12d6974d4aa8ae4136c52db0c1",
       "version_major": 2,
       "version_minor": 0
      },
      "text/plain": [
       "glvis()"
      ]
     },
     "metadata": {},
     "output_type": "display_data"
    }
   ],
   "source": [
    "g.reinit()\n",
    "g.render_error_reduction()"
   ]
  },
  {
   "cell_type": "code",
   "execution_count": null,
   "metadata": {},
   "outputs": [],
   "source": []
  },
  {
   "cell_type": "code",
   "execution_count": null,
   "metadata": {},
   "outputs": [],
   "source": []
  },
  {
   "cell_type": "code",
   "execution_count": null,
   "metadata": {},
   "outputs": [],
   "source": []
  }
 ],
 "metadata": {
  "kernelspec": {
   "display_name": "minigame_tf1",
   "language": "python",
   "name": "minigame_tf1"
  },
  "language_info": {
   "codemirror_mode": {
    "name": "ipython",
    "version": 3
   },
   "file_extension": ".py",
   "mimetype": "text/x-python",
   "name": "python",
   "nbconvert_exporter": "python",
   "pygments_lexer": "ipython3",
   "version": "3.6.9"
  }
 },
 "nbformat": 4,
 "nbformat_minor": 4
}
