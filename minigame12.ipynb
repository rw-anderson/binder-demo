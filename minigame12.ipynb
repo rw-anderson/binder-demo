{
 "cells": [
  {
   "cell_type": "markdown",
   "metadata": {},
   "source": [
    "# Minigame 12: Batched Evaluation\n",
    "\n",
    "In this exploration, we're looking at the ability to take policies trained on small patches and to apply them to larger meshes by amalgamating the logits from each of the NN evaluations."
   ]
  },
  {
   "cell_type": "code",
   "execution_count": null,
   "metadata": {},
   "outputs": [],
   "source": [
    "import math\n",
    "from math import sin,cos\n",
    "import random"
   ]
  },
  {
   "cell_type": "code",
   "execution_count": null,
   "metadata": {},
   "outputs": [],
   "source": [
    "import gym\n",
    "from gym import spaces, utils\n",
    "import numpy as np\n",
    "import ray\n",
    "import ray.rllib.agents.ppo as ppo"
   ]
  },
  {
   "cell_type": "code",
   "execution_count": null,
   "metadata": {},
   "outputs": [],
   "source": [
    "from glvis import glvis, to_stream\n",
    "from ipywidgets import Layout"
   ]
  },
  {
   "cell_type": "code",
   "execution_count": null,
   "metadata": {},
   "outputs": [],
   "source": [
    "import matplotlib.pyplot as plt"
   ]
  },
  {
   "cell_type": "code",
   "execution_count": null,
   "metadata": {
    "scrolled": true
   },
   "outputs": [],
   "source": [
    "from mfem import path\n",
    "import mfem.ser as mfem"
   ]
  },
  {
   "cell_type": "markdown",
   "metadata": {},
   "source": [
    "Define some synthetic test functions."
   ]
  },
  {
   "cell_type": "code",
   "execution_count": null,
   "metadata": {},
   "outputs": [],
   "source": [
    "def rotate(x,theta):\n",
    "    x0 = x[0]\n",
    "    y0 = x[1]\n",
    "    x1 = x0*cos(theta)-y0*sin(theta)\n",
    "    y1 = x0*sin(theta)+y0*cos(theta)\n",
    "    return [x1,y1]"
   ]
  },
  {
   "cell_type": "code",
   "execution_count": null,
   "metadata": {},
   "outputs": [],
   "source": [
    "def step(x):\n",
    "    x0 = x[0]\n",
    "    if (x0 < 0.0):\n",
    "        return 1.0\n",
    "    else:\n",
    "        return 0.0"
   ]
  },
  {
   "cell_type": "code",
   "execution_count": null,
   "metadata": {},
   "outputs": [],
   "source": [
    "def rotated_step(x, theta):\n",
    "    xr = rotate(x,theta)\n",
    "    return step(xr)"
   ]
  },
  {
   "cell_type": "code",
   "execution_count": null,
   "metadata": {},
   "outputs": [],
   "source": [
    "def bump(x):\n",
    "    rsq = x[0]**2 +x[1]**2\n",
    "    return math.exp(-rsq)"
   ]
  },
  {
   "cell_type": "code",
   "execution_count": null,
   "metadata": {},
   "outputs": [],
   "source": [
    "def smooth_step(x):\n",
    "    return 0.5*(1.0 +math.tanh(x[0]))"
   ]
  },
  {
   "cell_type": "code",
   "execution_count": null,
   "metadata": {},
   "outputs": [],
   "source": [
    "def rotated_smooth_step(x,theta):\n",
    "    xr = rotate(x,theta)\n",
    "    return smooth_step(xr)"
   ]
  },
  {
   "cell_type": "markdown",
   "metadata": {},
   "source": [
    "Create classes where we can set the parameters and then eval a bunch of points."
   ]
  },
  {
   "cell_type": "code",
   "execution_count": null,
   "metadata": {},
   "outputs": [],
   "source": [
    "class Step(mfem.PyCoefficient):\n",
    "    \n",
    "    def SetParams(self):\n",
    "        self.theta = random.uniform(0.0, 2.0*math.pi)\n",
    "        self.dx = [random.uniform(-1.0, 1.0),random.uniform(-1.0, 1.0)]\n",
    "        \n",
    "    def EvalValue(self, x):\n",
    "        return rotated_step(x+self.dx, self.theta)"
   ]
  },
  {
   "cell_type": "code",
   "execution_count": null,
   "metadata": {},
   "outputs": [],
   "source": [
    "class Bump(mfem.PyCoefficient):\n",
    "    \n",
    "    def SetParams(self):\n",
    "        self.width = random.uniform(0.1,1.0)\n",
    "        self.xc = [0.5,0.5]\n",
    "        self.dx = [random.uniform(-0.5, 0.5),random.uniform(-0.5, 0.5)]\n",
    "\n",
    "    def EvalValue(self, x):\n",
    "        return bump((x-self.xc+self.dx)/self.width)"
   ]
  },
  {
   "cell_type": "code",
   "execution_count": null,
   "metadata": {},
   "outputs": [],
   "source": [
    "class TwoBump(mfem.PyCoefficient):\n",
    "    \n",
    "    def SetParams(self):\n",
    "        self.width1 = random.uniform(0.1,0.5)\n",
    "        self.width2 = random.uniform(0.1,0.5)\n",
    "        self.xc1 = [0.5,0.5]\n",
    "        self.xc2 = [0.5,0.5]\n",
    "        self.dx1 = [random.uniform(-0.5, 0.5),random.uniform(-0.5, 0.5)]\n",
    "        self.dx2 = [random.uniform(-0.5, 0.5),random.uniform(-0.5, 0.5)]\n",
    "\n",
    "    def EvalValue(self, x):\n",
    "        #return max(bump((x-self.xc1+self.dx1)/self.width1),bump((x-self.xc2+self.dx2)/self.width2))\n",
    "        return 0.5*(bump((x-self.xc1+self.dx1)/self.width1)+bump((x-self.xc2+self.dx2)/self.width2))"
   ]
  },
  {
   "cell_type": "code",
   "execution_count": null,
   "metadata": {},
   "outputs": [],
   "source": [
    "class SmoothStep(mfem.PyCoefficient):\n",
    "    \n",
    "    def SetParams(self):\n",
    "        self.width = random.uniform(5.0, 10.0)\n",
    "        self.xc = [0.5,0.5]\n",
    "        self.dx = random.uniform(-0.5,0.5)\n",
    "        self.theta = random.uniform(0.0, 2.0*math.pi)\n",
    "\n",
    "    def EvalValue(self, x):\n",
    "        x -= self.xc\n",
    "        x += self.dx\n",
    "        return rotated_smooth_step(x*self.width, self.theta)"
   ]
  },
  {
   "cell_type": "code",
   "execution_count": null,
   "metadata": {},
   "outputs": [],
   "source": [
    "class BumpsAndSmoothStep(mfem.PyCoefficient):\n",
    "    \n",
    "    def SetParams(self):\n",
    "        self.bump = Bump()\n",
    "        self.bump.SetParams()\n",
    "        self.smooth_step = SmoothStep()\n",
    "        self.smooth_step.SetParams()\n",
    "\n",
    "    def EvalValue(self, x):\n",
    "        return 0.5*self.bump.EvalValue(x)+0.5*self.smooth_step.EvalValue(x)\n"
   ]
  },
  {
   "cell_type": "markdown",
   "metadata": {},
   "source": [
    "Visualize an instance of the test function. Note that each instance has randomly chosen parameters.  For the steps, it's a rotation angle and a displacement.  For the bumps, it's a width and a displacement."
   ]
  },
  {
   "cell_type": "code",
   "execution_count": null,
   "metadata": {},
   "outputs": [],
   "source": [
    "mesh = mfem.Mesh('inline-quad.mesh')\n",
    "mesh.UniformRefinement()\n",
    "mesh.UniformRefinement()\n",
    "fec = mfem.L2_FECollection(p=1, dim=2)\n",
    "fes = mfem.FiniteElementSpace(mesh, fec)\n",
    "u = mfem.GridFunction(fes)\n",
    "c = BumpsAndSmoothStep()\n",
    "c.SetParams()\n",
    "u.ProjectCoefficient(c)"
   ]
  },
  {
   "cell_type": "code",
   "execution_count": null,
   "metadata": {
    "scrolled": false
   },
   "outputs": [],
   "source": [
    "glvis((mesh, u), 500, 500)"
   ]
  },
  {
   "cell_type": "markdown",
   "metadata": {},
   "source": [
    "Create the gym environment. Note that in this case, this can be just a dummy environment that only serves to define the observation and action spaces for the purposes of evaluation of the policy."
   ]
  },
  {
   "cell_type": "code",
   "execution_count": null,
   "metadata": {},
   "outputs": [],
   "source": [
    "class AMRGameDummy(gym.Env):\n",
    "        \n",
    "    # In RLlib, you need the config arg\n",
    "    def __init__(self,config):\n",
    "        self.meshfile = 'inline-quad-7.mesh'\n",
    "        self.mesh = mfem.Mesh(self.meshfile)\n",
    "        \n",
    "        # The only reason we need to create a fespace and gf here\n",
    "        # is to find the sizes needed for the action and observation spaces\n",
    "        dim = self.mesh.Dimension()\n",
    "        self.order = 1\n",
    "        self.fec = mfem.L2_FECollection(self.order, dim)\n",
    "        self.fes = mfem.FiniteElementSpace(self.mesh, self.fec)\n",
    "        self.u = mfem.GridFunction(self.fes);\n",
    "\n",
    "        # actions are: refine each element, or do nothing\n",
    "        self.action_space = spaces.Discrete(self.mesh.GetNE())\n",
    "        \n",
    "        # observation space: DOFs\n",
    "        self.observation_space = spaces.Box(-1.0, 1.0, shape=(self.u.Size(),), dtype=np.float32)\n",
    "        \n",
    "    def step(self, action):\n",
    "        pass\n",
    "    \n",
    "    def reset(self):\n",
    "        pass\n",
    "    \n",
    "    def render(self):\n",
    "        pass"
   ]
  },
  {
   "cell_type": "markdown",
   "metadata": {},
   "source": [
    "Now we want to load a trained policy, and apply it in a strided way."
   ]
  },
  {
   "cell_type": "code",
   "execution_count": null,
   "metadata": {},
   "outputs": [],
   "source": [
    "ray.shutdown()\n",
    "ray.init(ignore_reinit_error=True)"
   ]
  },
  {
   "cell_type": "code",
   "execution_count": null,
   "metadata": {
    "scrolled": true
   },
   "outputs": [],
   "source": [
    "config = ppo.DEFAULT_CONFIG.copy()\n",
    "config['framework'] = 'tfe'\n",
    "agent = ppo.PPOTrainer(config, env=AMRGameDummy)"
   ]
  },
  {
   "cell_type": "markdown",
   "metadata": {},
   "source": [
    "Restore a policy"
   ]
  },
  {
   "cell_type": "code",
   "execution_count": null,
   "metadata": {},
   "outputs": [],
   "source": [
    "agent.restore(\"/home/rwa/ray_results/PPO_AMRGame_2021-02-15_22-07-44llq8wv6i/checkpoint_20/checkpoint-20\")"
   ]
  },
  {
   "cell_type": "code",
   "execution_count": null,
   "metadata": {
    "scrolled": true
   },
   "outputs": [],
   "source": [
    "policy = agent.get_policy()"
   ]
  },
  {
   "cell_type": "markdown",
   "metadata": {},
   "source": [
    "Now we want to create the larger problem we'll be applying this local indicator on."
   ]
  },
  {
   "cell_type": "code",
   "execution_count": null,
   "metadata": {
    "scrolled": false
   },
   "outputs": [],
   "source": [
    "mesh = mfem.Mesh('inline-quad-20.mesh')\n",
    "print(mesh.GetNE())\n",
    "fec = mfem.L2_FECollection(p=1, dim=2)\n",
    "fes = mfem.FiniteElementSpace(mesh, fec)\n",
    "u = mfem.GridFunction(fes)\n",
    "u0 = mfem.GridFunction(fes)\n",
    "coeff = BumpsAndSmoothStep()\n",
    "coeff.SetParams()\n",
    "u.ProjectCoefficient(coeff)\n",
    "u0.Assign(u) # save so we can restore later if desired\n",
    "    \n",
    "def new_function():\n",
    "    global mesh, fec, fes, u, u0\n",
    "    mesh = mfem.Mesh('inline-quad-20.mesh')\n",
    "    fec = mfem.L2_FECollection(p=1, dim=2)\n",
    "    fes = mfem.FiniteElementSpace(mesh, fec)\n",
    "    u = mfem.GridFunction(fes)\n",
    "    u0 = mfem.GridFunction(fes)\n",
    "    c = BumpsAndSmoothStep()\n",
    "    c.SetParams()\n",
    "    u.ProjectCoefficient(c)\n",
    "    u0.Assign(u) # save so we can restore later if desired\n",
    "    return glvis((mesh, u), 400, 400,layout = Layout(width='100%', height='400px'))"
   ]
  },
  {
   "cell_type": "code",
   "execution_count": null,
   "metadata": {},
   "outputs": [],
   "source": [
    "def restore_function():\n",
    "    global mesh, fec, fes, u\n",
    "    mesh = mfem.Mesh('inline-quad-20.mesh')\n",
    "    fec = mfem.L2_FECollection(p=1, dim=2)\n",
    "    fes = mfem.FiniteElementSpace(mesh, fec)\n",
    "    u = mfem.GridFunction(fes)\n",
    "    u.Assign(u0)\n",
    "    return glvis((mesh, u), 400, 400,layout = Layout(width='100%', height='400px'))"
   ]
  },
  {
   "cell_type": "markdown",
   "metadata": {},
   "source": [
    "Build a map from each element to the elements which consist of the \"stencil\" around it. Since not every element has a full stencil, use a dictionary that only contains the elements containing full stencils as keys."
   ]
  },
  {
   "cell_type": "code",
   "execution_count": null,
   "metadata": {},
   "outputs": [],
   "source": [
    "def build_stencils(mesh, width):\n",
    "    els = {}\n",
    "    nx = math.sqrt(mesh.GetNE())\n",
    "    dx = 1.0/nx\n",
    "    dim = mesh.Dimension()\n",
    "    els = {}\n",
    "    hw = int(width/2)\n",
    "    c = mfem.Vector(dim)\n",
    "    x = mfem.Vector(dim)\n",
    "    for k in range(0,mesh.GetNE()):\n",
    "        els[k] = []\n",
    "        mesh.GetElementCenter(k,c)\n",
    "        full = True\n",
    "        for j in range(-hw,hw+1):\n",
    "            for i in range(-hw,hw+1):\n",
    "                x[0] = c[0]+i*dx\n",
    "                x[1] = c[1]+j*dx\n",
    "                if (x[0] < 0.0): full = False\n",
    "                if (x[0] > 1.0): full = False\n",
    "                if (x[1] < 0.0): full = False\n",
    "                if (x[1] > 1.0): full = False\n",
    "                pt = [[x[0],x[1]]]\n",
    "                n, el, ip = mesh.FindPoints(pt)\n",
    "                els[k].append(el[0])\n",
    "        if (not full):\n",
    "            els.pop(k)\n",
    "    return els"
   ]
  },
  {
   "cell_type": "markdown",
   "metadata": {},
   "source": [
    "Create a function and build the stencils for it."
   ]
  },
  {
   "cell_type": "code",
   "execution_count": null,
   "metadata": {},
   "outputs": [],
   "source": [
    "new_function()\n",
    "width=7\n",
    "els = build_stencils(mesh, width)"
   ]
  },
  {
   "cell_type": "markdown",
   "metadata": {},
   "source": [
    "Create the local observation mesh into which we will copy the dofs for the purposes of creating an observation vector."
   ]
  },
  {
   "cell_type": "code",
   "execution_count": null,
   "metadata": {
    "scrolled": false
   },
   "outputs": [],
   "source": [
    "obs_mesh = mfem.Mesh('inline-quad-7.mesh')\n",
    "obs_fec = mfem.L2_FECollection(p=1, dim=2)\n",
    "obs_fes = mfem.FiniteElementSpace(obs_mesh, obs_fec)\n",
    "obs_u = mfem.GridFunction(obs_fes)\n",
    "glvis((obs_mesh), 400, 400,layout = Layout(width='100%', height='400px'))"
   ]
  },
  {
   "cell_type": "markdown",
   "metadata": {},
   "source": [
    "Also build a 0th order L2 field to look at per-element quantities (like logits or prob dist)."
   ]
  },
  {
   "cell_type": "code",
   "execution_count": null,
   "metadata": {},
   "outputs": [],
   "source": [
    "fec0 = mfem.L2_FECollection(p=0, dim=2)\n",
    "fes0 = mfem.FiniteElementSpace(obs_mesh, fec0)\n",
    "obs_u0 = mfem.GridFunction(fes0)"
   ]
  },
  {
   "cell_type": "markdown",
   "metadata": {},
   "source": [
    "Now we need a mapping from the \"logical\" space of the observation mesh into element ids. This has the same ordering as the stencil elements, so we can form a mapping for the purposes of data transfer from the src mesh to the obs mesh."
   ]
  },
  {
   "cell_type": "code",
   "execution_count": null,
   "metadata": {},
   "outputs": [],
   "source": [
    "def build_map(obs_mesh, width):\n",
    "    id_map = []\n",
    "    c = [0.5, 0.5]\n",
    "    x = [0.0, 0.0]\n",
    "    dx = 1./width\n",
    "    hw = int(width/2)\n",
    "    for j in range(-hw,hw+1):\n",
    "        for i in range(-hw,hw+1):\n",
    "            x[0] = c[0]+i*dx\n",
    "            x[1] = c[1]+j*dx\n",
    "            pt = [[x[0],x[1]]]\n",
    "            n, el, ip = obs_mesh.FindPoints(pt)\n",
    "            id_map.append(el[0])\n",
    "    return id_map"
   ]
  },
  {
   "cell_type": "code",
   "execution_count": null,
   "metadata": {},
   "outputs": [],
   "source": [
    "id_map = build_map(obs_mesh, width)"
   ]
  },
  {
   "cell_type": "markdown",
   "metadata": {},
   "source": [
    "Create a function to transfer from the stencil associated with a src element k into the observation gf."
   ]
  },
  {
   "cell_type": "code",
   "execution_count": null,
   "metadata": {},
   "outputs": [],
   "source": [
    "def transfer_stencil(k):\n",
    "    global obs_u\n",
    "    for n in range(len(els[k])):\n",
    "        dst_el = id_map[n]\n",
    "        src_el = els[k][n]\n",
    "        #print(\"el %d -> el %d\" % (src_el,dst_el))\n",
    "        src_dofs = fes.GetElementDofs(src_el)\n",
    "        dst_dofs = obs_fes.GetElementDofs(dst_el)\n",
    "        for d in range(len(src_dofs)):\n",
    "            obs_u[dst_dofs[d]] = u[src_dofs[d]]"
   ]
  },
  {
   "cell_type": "markdown",
   "metadata": {},
   "source": [
    "Visualize the observation mesh and function."
   ]
  },
  {
   "cell_type": "code",
   "execution_count": null,
   "metadata": {},
   "outputs": [],
   "source": [
    "def show_obs():\n",
    "    return glvis((obs_mesh, obs_u), 400, 400,layout = Layout(width='100%', height='400px'))"
   ]
  },
  {
   "cell_type": "markdown",
   "metadata": {},
   "source": [
    "Compute the logits for each element in the observation mesh and visualize as a p=0 L2 function."
   ]
  },
  {
   "cell_type": "code",
   "execution_count": null,
   "metadata": {},
   "outputs": [],
   "source": [
    "def show_logits():\n",
    "    obs = np.array(obs_u.GetDataArray())\n",
    "    action, _, info = policy.compute_single_action(obs, explore=False)\n",
    "    logits = np.array(info['action_dist_inputs'],dtype=np.float64)\n",
    "    obs_u0.Assign(mfem.Vector(logits))\n",
    "    return glvis((obs_mesh, obs_u0), 400, 400,layout = Layout(width='100%', height='400px'))"
   ]
  },
  {
   "cell_type": "markdown",
   "metadata": {},
   "source": [
    "Test it out on a specific src element:"
   ]
  },
  {
   "cell_type": "code",
   "execution_count": null,
   "metadata": {},
   "outputs": [],
   "source": [
    "new_function()"
   ]
  },
  {
   "cell_type": "code",
   "execution_count": null,
   "metadata": {
    "scrolled": false
   },
   "outputs": [],
   "source": [
    "transfer_stencil(14)\n",
    "show_obs()"
   ]
  },
  {
   "cell_type": "code",
   "execution_count": null,
   "metadata": {
    "scrolled": false
   },
   "outputs": [],
   "source": [
    "show_logits()"
   ]
  },
  {
   "cell_type": "code",
   "execution_count": null,
   "metadata": {
    "scrolled": false
   },
   "outputs": [],
   "source": [
    "transfer_stencil(207)\n",
    "show_obs()"
   ]
  },
  {
   "cell_type": "code",
   "execution_count": null,
   "metadata": {},
   "outputs": [],
   "source": [
    "show_logits()"
   ]
  },
  {
   "cell_type": "markdown",
   "metadata": {},
   "source": [
    "Iterate over all the elements with full stencils in the src mesh and record 'center' logits for each observation:"
   ]
  },
  {
   "cell_type": "code",
   "execution_count": null,
   "metadata": {},
   "outputs": [],
   "source": [
    "pt = [[0.5,0.5]]\n",
    "n, center_el, ip = obs_mesh.FindPoints(pt)"
   ]
  },
  {
   "cell_type": "code",
   "execution_count": null,
   "metadata": {},
   "outputs": [],
   "source": [
    "def compute_center_logits(mesh):\n",
    "    logits = [0.0]*mesh.GetNE()\n",
    "    for k in els:\n",
    "        transfer_stencil(k)\n",
    "        obs = np.array(obs_u.GetDataArray())\n",
    "        action, _, info = policy.compute_single_action(obs, explore=False)\n",
    "        #print(\"action is %d\" % action)\n",
    "        obs_logits = info['action_dist_inputs']\n",
    "        #print(obs_logits)\n",
    "        logits[k] = obs_logits[center_el]\n",
    "    return logits"
   ]
  },
  {
   "cell_type": "code",
   "execution_count": null,
   "metadata": {},
   "outputs": [],
   "source": [
    "def compute_avg_logits(mesh):\n",
    "    logits = [0.0]*mesh.GetNE()\n",
    "    count = [0]*mesh.GetNE()\n",
    "    \n",
    "    # accumulate logit sums\n",
    "    for k in els:\n",
    "        transfer_stencil(k)\n",
    "        obs = np.array(obs_u.GetDataArray())\n",
    "        action, _, info = policy.compute_single_action(obs, explore=False)\n",
    "        #print(\"action is %d\" % action)\n",
    "        obs_logits = info['action_dist_inputs']\n",
    "        #print(obs_logits)\n",
    "        for j in range(len(id_map)):\n",
    "            dst_el = els[k][j]\n",
    "            src_el = id_map[j]\n",
    "            logits[dst_el] += obs_logits[src_el]\n",
    "            count[dst_el] += 1\n",
    "    \n",
    "    # average\n",
    "    for idx,val in enumerate(logits):\n",
    "        if (count[idx] == 0.0):\n",
    "            print('zero count at %d' % idx)\n",
    "        logits[idx] /= count[idx]\n",
    "        \n",
    "    return logits"
   ]
  },
  {
   "cell_type": "code",
   "execution_count": null,
   "metadata": {},
   "outputs": [],
   "source": [
    "def compute_max_logits(mesh):\n",
    "    logits = [0.0]*mesh.GetNE()\n",
    "    \n",
    "    # accumulate logit sums\n",
    "    for k in els:\n",
    "        transfer_stencil(k)\n",
    "        obs = np.array(obs_u.GetDataArray())\n",
    "        action, _, info = policy.compute_single_action(obs, explore=False)\n",
    "        #print(\"action is %d\" % action)\n",
    "        obs_logits = info['action_dist_inputs']\n",
    "        #print(obs_logits)\n",
    "        for j in range(len(id_map)):\n",
    "            dst_el = els[k][j]\n",
    "            src_el = id_map[j]\n",
    "            logits[dst_el] = max(logits[dst_el],obs_logits[src_el])\n",
    "        \n",
    "    return logits"
   ]
  },
  {
   "cell_type": "markdown",
   "metadata": {},
   "source": [
    "Re-normalize the collected logits into a probability distribution that sums to 1."
   ]
  },
  {
   "cell_type": "code",
   "execution_count": null,
   "metadata": {
    "scrolled": true
   },
   "outputs": [],
   "source": [
    "def compute_distribution(mesh, u, method):\n",
    "    if (method == 1):\n",
    "        logits = compute_center_logits(mesh)\n",
    "    elif (method == 2):\n",
    "        logits = compute_avg_logits(mesh)\n",
    "    elif (method == 3):\n",
    "        logits = compute_max_logits(mesh)\n",
    "    sumexp = 0.0\n",
    "    dist = [0.0] * mesh.GetNE()\n",
    "    for k in range(mesh.GetNE()):        \n",
    "        logit = logits[k]\n",
    "        sumexp += math.exp(logit)\n",
    "    for k in range(mesh.GetNE()):\n",
    "        logit = logits[k]\n",
    "        dist[k] = math.exp(logit)/sumexp\n",
    "    return dist"
   ]
  },
  {
   "cell_type": "markdown",
   "metadata": {},
   "source": [
    "Create a similar function that returns elementwise errors via the dg indicator."
   ]
  },
  {
   "cell_type": "code",
   "execution_count": null,
   "metadata": {},
   "outputs": [],
   "source": [
    "def compute_dg_indicator(mesh, u):\n",
    "    \n",
    "    # put the L2 gridfunction into a coefficient so we can project it into H1\n",
    "    u_disc_coeff = mfem.GridFunctionCoefficient(u)\n",
    "    h1_fec = mfem.H1_FECollection(p=1, dim=2)\n",
    "    h1_fes = mfem.FiniteElementSpace(mesh, h1_fec)\n",
    "    u_h1 = mfem.GridFunction(h1_fes)\n",
    "    u_h1.ProjectDiscCoefficient(u_disc_coeff, mfem.GridFunction.ARITHMETIC)\n",
    "    \n",
    "    # put the H1 smoothed function into a coefficient\n",
    "    u_h1_coeff = mfem.GridFunctionCoefficient(u_h1)\n",
    "    \n",
    "    # create a 0-order L2 field to hold errors\n",
    "    l2_0_fec = mfem.L2_FECollection(p=0,dim=2)\n",
    "    l2_0_fes = mfem.FiniteElementSpace(mesh,l2_0_fec)\n",
    "\n",
    "    # Compute elementwise \"errors\" between continuous and discontinuous fields\n",
    "    err_gf = mfem.GridFunction(l2_0_fes);\n",
    "    u.ComputeElementL2Errors(u_h1_coeff, err_gf);\n",
    "    \n",
    "    return np.array(err_gf.GetDataArray())"
   ]
  },
  {
   "cell_type": "markdown",
   "metadata": {},
   "source": [
    "Given an indicator on each element, refine everything over the threshold"
   ]
  },
  {
   "cell_type": "code",
   "execution_count": null,
   "metadata": {},
   "outputs": [],
   "source": [
    "def refine_via_indicator(ind, mesh, u, thresh):\n",
    "    refine_els = []\n",
    "    for k,e in enumerate(ind):\n",
    "        if (e > thresh):\n",
    "            refine_els.append(k)\n",
    "    mesh.GeneralRefinement(mfem.intArray(refine_els))\n",
    "    u.FESpace().Update()\n",
    "    u.Update()\n",
    "    return glvis((mesh, u), 400, 400,layout = Layout(width='100%', height='400px'))"
   ]
  },
  {
   "cell_type": "markdown",
   "metadata": {},
   "source": [
    "Refine everywhere the policy is over a threshold."
   ]
  },
  {
   "cell_type": "code",
   "execution_count": null,
   "metadata": {},
   "outputs": [],
   "source": [
    "def refine_via_policy_threshold(mesh, u, thresh, method):\n",
    "    dist = compute_distribution(mesh, u, method)\n",
    "    return refine_via_indicator(dist, mesh, u, thresh)"
   ]
  },
  {
   "cell_type": "markdown",
   "metadata": {},
   "source": [
    "Refine everywhere the DG indicator is over a threshold."
   ]
  },
  {
   "cell_type": "code",
   "execution_count": null,
   "metadata": {},
   "outputs": [],
   "source": [
    "def refine_via_dg_threshold(mesh, u, thresh):\n",
    "    ind = compute_dg_indicator(mesh, u)\n",
    "    return refine_via_indicator(ind, mesh, u, thresh)"
   ]
  },
  {
   "cell_type": "code",
   "execution_count": null,
   "metadata": {
    "scrolled": false
   },
   "outputs": [],
   "source": [
    "new_function()\n",
    "refine_via_dg_threshold(mesh, u, 7.e-6)"
   ]
  },
  {
   "cell_type": "code",
   "execution_count": null,
   "metadata": {},
   "outputs": [],
   "source": [
    "restore_function()\n",
    "method = 1\n",
    "refine_via_policy_threshold(mesh, u, 0.0035, method)"
   ]
  },
  {
   "cell_type": "code",
   "execution_count": null,
   "metadata": {
    "scrolled": true
   },
   "outputs": [],
   "source": [
    "restore_function()\n",
    "method = 2\n",
    "refine_via_policy_threshold(mesh, u, 0.0035, method)"
   ]
  },
  {
   "cell_type": "code",
   "execution_count": null,
   "metadata": {},
   "outputs": [],
   "source": [
    "restore_function()\n",
    "method = 3\n",
    "refine_via_policy_threshold(mesh, u, 0.0035, method)"
   ]
  },
  {
   "cell_type": "code",
   "execution_count": null,
   "metadata": {},
   "outputs": [],
   "source": []
  },
  {
   "cell_type": "code",
   "execution_count": null,
   "metadata": {},
   "outputs": [],
   "source": []
  }
 ],
 "metadata": {
  "kernelspec": {
   "display_name": "minigame",
   "language": "python",
   "name": "minigame"
  },
  "language_info": {
   "codemirror_mode": {
    "name": "ipython",
    "version": 3
   },
   "file_extension": ".py",
   "mimetype": "text/x-python",
   "name": "python",
   "nbconvert_exporter": "python",
   "pygments_lexer": "ipython3",
   "version": "3.6.9"
  }
 },
 "nbformat": 4,
 "nbformat_minor": 4
}
