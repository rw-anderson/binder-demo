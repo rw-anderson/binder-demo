{
 "cells": [
  {
   "cell_type": "markdown",
   "metadata": {},
   "source": [
    "# Minigame 12: Patched Evaluation\n",
    "\n",
    "In this exploration, we're looking at the ability to take policies trained on small patches and to apply them to larger meshes by amalgamating the logits from each of the NN evaluations."
   ]
  },
  {
   "cell_type": "code",
   "execution_count": 1,
   "metadata": {},
   "outputs": [],
   "source": [
    "import math\n",
    "from math import sin,cos\n",
    "import random"
   ]
  },
  {
   "cell_type": "code",
   "execution_count": 2,
   "metadata": {},
   "outputs": [
    {
     "name": "stdout",
     "output_type": "stream",
     "text": [
      "WARNING:tensorflow:From /home/rwa/pyvenv/lib/python3.6/site-packages/tensorflow/python/compat/v2_compat.py:96: disable_resource_variables (from tensorflow.python.ops.variable_scope) is deprecated and will be removed in a future version.\n",
      "Instructions for updating:\n",
      "non-resource variables are not supported in the long term\n"
     ]
    }
   ],
   "source": [
    "import gym\n",
    "from gym import spaces, utils\n",
    "import numpy as np\n",
    "import ray\n",
    "import ray.rllib.agents.ppo as ppo"
   ]
  },
  {
   "cell_type": "code",
   "execution_count": 3,
   "metadata": {},
   "outputs": [],
   "source": [
    "from glvis import glvis, to_stream\n",
    "from ipywidgets import Layout"
   ]
  },
  {
   "cell_type": "code",
   "execution_count": 4,
   "metadata": {},
   "outputs": [],
   "source": [
    "import matplotlib.pyplot as plt"
   ]
  },
  {
   "cell_type": "code",
   "execution_count": 5,
   "metadata": {
    "scrolled": true
   },
   "outputs": [],
   "source": [
    "from mfem import path\n",
    "import mfem.ser as mfem"
   ]
  },
  {
   "cell_type": "markdown",
   "metadata": {},
   "source": [
    "Define some synthetic test functions."
   ]
  },
  {
   "cell_type": "code",
   "execution_count": 6,
   "metadata": {},
   "outputs": [],
   "source": [
    "def rotate(x,theta):\n",
    "    x0 = x[0]\n",
    "    y0 = x[1]\n",
    "    x1 = x0*cos(theta)-y0*sin(theta)\n",
    "    y1 = x0*sin(theta)+y0*cos(theta)\n",
    "    return [x1,y1]"
   ]
  },
  {
   "cell_type": "code",
   "execution_count": 7,
   "metadata": {},
   "outputs": [],
   "source": [
    "def bump(x):\n",
    "    rsq = x[0]**2 +x[1]**2\n",
    "    return math.exp(-rsq)"
   ]
  },
  {
   "cell_type": "code",
   "execution_count": 8,
   "metadata": {},
   "outputs": [],
   "source": [
    "def smooth_step(x):\n",
    "    return 0.5*(1.0 +math.tanh(x[0]))"
   ]
  },
  {
   "cell_type": "code",
   "execution_count": 9,
   "metadata": {},
   "outputs": [],
   "source": [
    "def rotated_smooth_step(x,theta):\n",
    "    xr = rotate(x,theta)\n",
    "    return smooth_step(xr)"
   ]
  },
  {
   "cell_type": "markdown",
   "metadata": {},
   "source": [
    "Create classes where we can set the parameters and then eval a bunch of points."
   ]
  },
  {
   "cell_type": "code",
   "execution_count": 10,
   "metadata": {},
   "outputs": [],
   "source": [
    "class Step(mfem.PyCoefficient):\n",
    "    \n",
    "    def SetParams(self):\n",
    "        self.theta = random.uniform(0.0, 2.0*math.pi)\n",
    "        self.dx = [random.uniform(-1.0, 1.0),random.uniform(-1.0, 1.0)]\n",
    "        \n",
    "    def EvalValue(self, x):\n",
    "        return rotated_step(x+self.dx, self.theta)"
   ]
  },
  {
   "cell_type": "code",
   "execution_count": 11,
   "metadata": {},
   "outputs": [],
   "source": [
    "class Bump(mfem.PyCoefficient):\n",
    "    \n",
    "    def SetParams(self):\n",
    "        self.width = random.uniform(0.05,1.0)\n",
    "        self.xc = [0.5,0.5]\n",
    "        self.dx = [random.uniform(-0.5, 0.5),random.uniform(-0.5, 0.5)]\n",
    "\n",
    "    def EvalValue(self, x):\n",
    "        return bump((x-self.xc+self.dx)/self.width)"
   ]
  },
  {
   "cell_type": "code",
   "execution_count": 12,
   "metadata": {},
   "outputs": [],
   "source": [
    "class SmoothStep(mfem.PyCoefficient):\n",
    "    \n",
    "    def SetParams(self):\n",
    "        self.width = random.uniform(5.0, 15.0)\n",
    "        self.xc = [0.5,0.5]\n",
    "        self.dx = random.uniform(-0.5,0.5)\n",
    "        self.theta = random.uniform(0.0, 2.0*math.pi)\n",
    "\n",
    "    def EvalValue(self, x):\n",
    "        x -= self.xc\n",
    "        x += self.dx\n",
    "        return rotated_smooth_step(x*self.width, self.theta)"
   ]
  },
  {
   "cell_type": "code",
   "execution_count": 13,
   "metadata": {},
   "outputs": [],
   "source": [
    "class BumpAndSmoothStep(mfem.PyCoefficient):\n",
    "    \n",
    "    def SetParams(self):\n",
    "        self.bump = Bump()\n",
    "        self.bump.SetParams()\n",
    "        self.smooth_step = SmoothStep()\n",
    "        self.smooth_step.SetParams()\n",
    "\n",
    "    def EvalValue(self, x):\n",
    "        return 0.5*self.bump.EvalValue(x)+0.5*self.smooth_step.EvalValue(x)"
   ]
  },
  {
   "cell_type": "markdown",
   "metadata": {},
   "source": [
    "Visualize an instance of the test function. Note that each instance has randomly chosen parameters.  For the steps, it's a rotation angle and a displacement.  For the bumps, it's a width and a displacement."
   ]
  },
  {
   "cell_type": "code",
   "execution_count": 14,
   "metadata": {},
   "outputs": [],
   "source": [
    "mesh = mfem.Mesh('inline-quad.mesh')\n",
    "mesh.UniformRefinement()\n",
    "mesh.UniformRefinement()\n",
    "fec = mfem.L2_FECollection(p=1, dim=2)\n",
    "fes = mfem.FiniteElementSpace(mesh, fec)\n",
    "u = mfem.GridFunction(fes)\n",
    "c = Bump()\n",
    "c.SetParams()\n",
    "u.ProjectCoefficient(c)"
   ]
  },
  {
   "cell_type": "code",
   "execution_count": 15,
   "metadata": {
    "scrolled": false
   },
   "outputs": [
    {
     "data": {
      "application/vnd.jupyter.widget-view+json": {
       "model_id": "a7d3ac71c80e4765a41497bd19c8e5a0",
       "version_major": 2,
       "version_minor": 0
      },
      "text/plain": [
       "glvis()"
      ]
     },
     "metadata": {},
     "output_type": "display_data"
    }
   ],
   "source": [
    "glvis(to_stream(mesh,u) + 'keys Rcjm', 500, 500)"
   ]
  },
  {
   "cell_type": "markdown",
   "metadata": {},
   "source": [
    "Create the gym environment. Note that in this case, this can be just a dummy environment that only serves to define the observation and action spaces for the purposes of evaluation of the policy."
   ]
  },
  {
   "cell_type": "code",
   "execution_count": 16,
   "metadata": {},
   "outputs": [],
   "source": [
    "class AMRGameDummy(gym.Env):\n",
    "        \n",
    "    # In RLlib, you need the config arg\n",
    "    def __init__(self,config):\n",
    "        self.meshfile = 'inline-quad-7.mesh'\n",
    "        self.mesh = mfem.Mesh(self.meshfile)\n",
    "        \n",
    "        # The only reason we need to create a fespace and gf here\n",
    "        # is to find the sizes needed for the action and observation spaces\n",
    "        dim = self.mesh.Dimension()\n",
    "        self.order = 1\n",
    "        self.fec = mfem.L2_FECollection(self.order, dim)\n",
    "        self.fes = mfem.FiniteElementSpace(self.mesh, self.fec)\n",
    "        self.u = mfem.GridFunction(self.fes);\n",
    "\n",
    "        # actions are: refine each element, or do nothing\n",
    "        self.action_space = spaces.Discrete(self.mesh.GetNE())\n",
    "        \n",
    "        # observation space: DOFs\n",
    "        self.observation_space = spaces.Box(-1.0, 1.0, shape=(self.u.Size(),), dtype=np.float32)\n",
    "        \n",
    "    def step(self, action):\n",
    "        pass\n",
    "    \n",
    "    def reset(self):\n",
    "        pass\n",
    "    \n",
    "    def render(self):\n",
    "        pass"
   ]
  },
  {
   "cell_type": "markdown",
   "metadata": {},
   "source": [
    "Now we want to load a trained policy, and apply it in a strided way."
   ]
  },
  {
   "cell_type": "code",
   "execution_count": 17,
   "metadata": {},
   "outputs": [
    {
     "name": "stderr",
     "output_type": "stream",
     "text": [
      "2021-02-18 14:34:54,980\tINFO services.py:1173 -- View the Ray dashboard at \u001b[1m\u001b[32mhttp://127.0.0.1:8266\u001b[39m\u001b[22m\n"
     ]
    },
    {
     "data": {
      "text/plain": [
       "{'node_ip_address': '128.15.103.29',\n",
       " 'raylet_ip_address': '128.15.103.29',\n",
       " 'redis_address': '128.15.103.29:6379',\n",
       " 'object_store_address': '/tmp/ray/session_2021-02-18_14-34-54_526415_11249/sockets/plasma_store',\n",
       " 'raylet_socket_name': '/tmp/ray/session_2021-02-18_14-34-54_526415_11249/sockets/raylet',\n",
       " 'webui_url': '127.0.0.1:8266',\n",
       " 'session_dir': '/tmp/ray/session_2021-02-18_14-34-54_526415_11249',\n",
       " 'metrics_export_port': 61714,\n",
       " 'node_id': 'd89b6bc13ac4ee34c5c85462f968450448bed363'}"
      ]
     },
     "execution_count": 17,
     "metadata": {},
     "output_type": "execute_result"
    }
   ],
   "source": [
    "ray.shutdown()\n",
    "ray.init(ignore_reinit_error=True)"
   ]
  },
  {
   "cell_type": "code",
   "execution_count": 18,
   "metadata": {
    "scrolled": true
   },
   "outputs": [
    {
     "name": "stderr",
     "output_type": "stream",
     "text": [
      "2021-02-18 14:34:57,421\tINFO trainer.py:588 -- Executing eagerly, with eager_tracing=False\n",
      "2021-02-18 14:34:57,422\tINFO trainer.py:618 -- Current log_level is WARN. For more information, set 'log_level': 'INFO' / 'DEBUG' or use the -v and -vv flags.\n",
      "\u001b[2m\u001b[36m(pid=11401)\u001b[0m WARNING:tensorflow:From /home/rwa/pyvenv/lib/python3.6/site-packages/tensorflow/python/compat/v2_compat.py:96: disable_resource_variables (from tensorflow.python.ops.variable_scope) is deprecated and will be removed in a future version.\n",
      "\u001b[2m\u001b[36m(pid=11401)\u001b[0m Instructions for updating:\n",
      "\u001b[2m\u001b[36m(pid=11401)\u001b[0m non-resource variables are not supported in the long term\n",
      "\u001b[2m\u001b[36m(pid=11400)\u001b[0m WARNING:tensorflow:From /home/rwa/pyvenv/lib/python3.6/site-packages/tensorflow/python/compat/v2_compat.py:96: disable_resource_variables (from tensorflow.python.ops.variable_scope) is deprecated and will be removed in a future version.\n",
      "\u001b[2m\u001b[36m(pid=11400)\u001b[0m Instructions for updating:\n",
      "\u001b[2m\u001b[36m(pid=11400)\u001b[0m non-resource variables are not supported in the long term\n",
      "2021-02-18 14:34:59,597\tWARNING util.py:43 -- Install gputil for GPU system monitoring.\n"
     ]
    }
   ],
   "source": [
    "config = ppo.DEFAULT_CONFIG.copy()\n",
    "config['framework'] = 'tfe'\n",
    "agent = ppo.PPOTrainer(config, env=AMRGameDummy)"
   ]
  },
  {
   "cell_type": "markdown",
   "metadata": {},
   "source": [
    "Restore a policy"
   ]
  },
  {
   "cell_type": "code",
   "execution_count": 19,
   "metadata": {},
   "outputs": [
    {
     "name": "stderr",
     "output_type": "stream",
     "text": [
      "2021-02-18 14:34:59,637\tINFO trainable.py:329 -- Restored on 128.15.103.29 from checkpoint: /home/rwa/ray_results/PPO_AMRGame_2021-02-17_18-13-50eomp_6hi/checkpoint_8/checkpoint-8\n",
      "2021-02-18 14:34:59,637\tINFO trainable.py:336 -- Current state after restoring: {'_iteration': 8, '_timesteps_total': None, '_time_total': 5470.714422464371, '_episodes_total': 403200}\n"
     ]
    }
   ],
   "source": [
    "agent.restore(\"/home/rwa/ray_results/PPO_AMRGame_2021-02-17_18-13-50eomp_6hi/checkpoint_8/checkpoint-8\")"
   ]
  },
  {
   "cell_type": "code",
   "execution_count": 20,
   "metadata": {
    "scrolled": true
   },
   "outputs": [],
   "source": [
    "policy = agent.get_policy()"
   ]
  },
  {
   "cell_type": "markdown",
   "metadata": {},
   "source": [
    "Now we want to create the larger problem we'll be applying this local indicator on."
   ]
  },
  {
   "cell_type": "code",
   "execution_count": 21,
   "metadata": {
    "scrolled": false
   },
   "outputs": [
    {
     "name": "stdout",
     "output_type": "stream",
     "text": [
      "900\n"
     ]
    }
   ],
   "source": [
    "mesh = mfem.Mesh('inline-quad-30.mesh')\n",
    "print(mesh.GetNE())\n",
    "fec = mfem.L2_FECollection(p=1, dim=2)\n",
    "fes = mfem.FiniteElementSpace(mesh, fec)\n",
    "u = mfem.GridFunction(fes)\n",
    "u0 = mfem.GridFunction(fes)\n",
    "coeff = Bump()\n",
    "coeff.SetParams()\n",
    "u.ProjectCoefficient(coeff)\n",
    "u0.Assign(u) # save so we can restore later if desired\n",
    "    \n",
    "def new_function():\n",
    "    global mesh, fec, fes, u, u0, coeff\n",
    "    mesh = mfem.Mesh('inline-quad-30.mesh')\n",
    "    fec = mfem.L2_FECollection(p=1, dim=2)\n",
    "    fes = mfem.FiniteElementSpace(mesh, fec)\n",
    "    u = mfem.GridFunction(fes)\n",
    "    u0 = mfem.GridFunction(fes)\n",
    "    coeff = Bump()\n",
    "    coeff.SetParams()\n",
    "    u.ProjectCoefficient(coeff)\n",
    "    u0.Assign(u) # save so we can restore later if desired\n",
    "    return glvis(to_stream(mesh,u) + 'keys Rcjm', 500, 500)"
   ]
  },
  {
   "cell_type": "code",
   "execution_count": 22,
   "metadata": {},
   "outputs": [],
   "source": [
    "def restore_function():\n",
    "    global mesh, fec, fes, u\n",
    "    mesh = mfem.Mesh('inline-quad-30.mesh')\n",
    "    fec = mfem.L2_FECollection(p=1, dim=2)\n",
    "    fes = mfem.FiniteElementSpace(mesh, fec)\n",
    "    u = mfem.GridFunction(fes)\n",
    "    u.Assign(u0)\n",
    "    #return glvis(to_stream(mesh,u) + 'keys Rcjm', 500, 500)"
   ]
  },
  {
   "cell_type": "markdown",
   "metadata": {},
   "source": [
    "Build a map from each element to the elements which consist of the \"stencil\" around it. Since not every element has a full stencil, use a dictionary that only contains the elements containing full stencils as keys."
   ]
  },
  {
   "cell_type": "code",
   "execution_count": 23,
   "metadata": {},
   "outputs": [],
   "source": [
    "def build_stencils(mesh, width):\n",
    "    els = {}\n",
    "    nx = math.sqrt(mesh.GetNE())\n",
    "    dx = 1.0/nx\n",
    "    dim = mesh.Dimension()\n",
    "    els = {}\n",
    "    hw = int(width/2)\n",
    "    c = mfem.Vector(dim)\n",
    "    x = mfem.Vector(dim)\n",
    "    for k in range(0,mesh.GetNE()):\n",
    "        els[k] = []\n",
    "        mesh.GetElementCenter(k,c)\n",
    "        full = True\n",
    "        for j in range(-hw,hw+1):\n",
    "            for i in range(-hw,hw+1):\n",
    "                x[0] = c[0]+i*dx\n",
    "                x[1] = c[1]+j*dx\n",
    "                if (x[0] < 0.0): full = False\n",
    "                if (x[0] > 1.0): full = False\n",
    "                if (x[1] < 0.0): full = False\n",
    "                if (x[1] > 1.0): full = False\n",
    "                pt = [[x[0],x[1]]]\n",
    "                n, el, ip = mesh.FindPoints(pt)\n",
    "                els[k].append(el[0])\n",
    "        if (not full):\n",
    "            els.pop(k)\n",
    "    return els"
   ]
  },
  {
   "cell_type": "markdown",
   "metadata": {},
   "source": [
    "Create a function and build the stencils for it."
   ]
  },
  {
   "cell_type": "code",
   "execution_count": 24,
   "metadata": {},
   "outputs": [],
   "source": [
    "new_function()\n",
    "width=7\n",
    "els = build_stencils(mesh, width)"
   ]
  },
  {
   "cell_type": "markdown",
   "metadata": {},
   "source": [
    "Create the local observation mesh into which we will copy the dofs for the purposes of creating an observation vector."
   ]
  },
  {
   "cell_type": "code",
   "execution_count": 25,
   "metadata": {
    "scrolled": false
   },
   "outputs": [
    {
     "data": {
      "application/vnd.jupyter.widget-view+json": {
       "model_id": "5d91f021188e4b8db15ce2c7010a5db5",
       "version_major": 2,
       "version_minor": 0
      },
      "text/plain": [
       "glvis(layout=Layout(height='400px', width='100%'))"
      ]
     },
     "metadata": {},
     "output_type": "display_data"
    }
   ],
   "source": [
    "obs_mesh = mfem.Mesh('inline-quad-7.mesh')\n",
    "obs_fec = mfem.L2_FECollection(p=1, dim=2)\n",
    "obs_fes = mfem.FiniteElementSpace(obs_mesh, obs_fec)\n",
    "obs_u = mfem.GridFunction(obs_fes)\n",
    "glvis((obs_mesh), 400, 400,layout = Layout(width='100%', height='400px'))"
   ]
  },
  {
   "cell_type": "markdown",
   "metadata": {},
   "source": [
    "Also build a 0th order L2 field to look at per-element quantities (like logits or prob dist)."
   ]
  },
  {
   "cell_type": "code",
   "execution_count": 26,
   "metadata": {},
   "outputs": [],
   "source": [
    "fec0 = mfem.L2_FECollection(p=0, dim=2)\n",
    "fes0 = mfem.FiniteElementSpace(obs_mesh, fec0)\n",
    "obs_u0 = mfem.GridFunction(fes0)"
   ]
  },
  {
   "cell_type": "markdown",
   "metadata": {},
   "source": [
    "Now we need a mapping from the \"logical\" space of the observation mesh into element ids. This has the same ordering as the stencil elements, so we can form a mapping for the purposes of data transfer from the src mesh to the obs mesh."
   ]
  },
  {
   "cell_type": "code",
   "execution_count": 27,
   "metadata": {},
   "outputs": [],
   "source": [
    "def build_map(obs_mesh, width):\n",
    "    id_map = []\n",
    "    c = [0.5, 0.5]\n",
    "    x = [0.0, 0.0]\n",
    "    dx = 1./width\n",
    "    hw = int(width/2)\n",
    "    for j in range(-hw,hw+1):\n",
    "        for i in range(-hw,hw+1):\n",
    "            x[0] = c[0]+i*dx\n",
    "            x[1] = c[1]+j*dx\n",
    "            pt = [[x[0],x[1]]]\n",
    "            n, el, ip = obs_mesh.FindPoints(pt)\n",
    "            id_map.append(el[0])\n",
    "    return id_map"
   ]
  },
  {
   "cell_type": "code",
   "execution_count": 28,
   "metadata": {},
   "outputs": [],
   "source": [
    "id_map = build_map(obs_mesh, width)"
   ]
  },
  {
   "cell_type": "markdown",
   "metadata": {},
   "source": [
    "Create a function to transfer from the stencil associated with a src element k into the observation gf."
   ]
  },
  {
   "cell_type": "code",
   "execution_count": 29,
   "metadata": {},
   "outputs": [],
   "source": [
    "def transfer_stencil(k):\n",
    "    global obs_u\n",
    "    for n in range(len(els[k])):\n",
    "        dst_el = id_map[n]\n",
    "        src_el = els[k][n]\n",
    "        #print(\"el %d -> el %d\" % (src_el,dst_el))\n",
    "        src_dofs = fes.GetElementDofs(src_el)\n",
    "        dst_dofs = obs_fes.GetElementDofs(dst_el)\n",
    "        for d in range(len(src_dofs)):\n",
    "            obs_u[dst_dofs[d]] = u[src_dofs[d]]"
   ]
  },
  {
   "cell_type": "markdown",
   "metadata": {},
   "source": [
    "Visualize the observation mesh and function."
   ]
  },
  {
   "cell_type": "code",
   "execution_count": 30,
   "metadata": {},
   "outputs": [],
   "source": [
    "def show_obs():\n",
    "    return glvis(to_stream(obs_mesh,obs_u) + 'keys Rcjm', 500, 500)"
   ]
  },
  {
   "cell_type": "markdown",
   "metadata": {},
   "source": [
    "Compute the logits for each element in the observation mesh and visualize as a p=0 L2 function."
   ]
  },
  {
   "cell_type": "code",
   "execution_count": 31,
   "metadata": {},
   "outputs": [],
   "source": [
    "def show_patch_logits():\n",
    "    obs = np.array(obs_u.GetDataArray())\n",
    "    action, _, info = policy.compute_single_action(obs, explore=False)\n",
    "    print(info)\n",
    "    logits = np.array(info['action_dist_inputs'],dtype=np.float64)\n",
    "    obs_u0.Assign(mfem.Vector(logits))\n",
    "    return glvis(to_stream(obs_mesh,obs_u0) + 'keys Rcjm', 500, 500)"
   ]
  },
  {
   "cell_type": "markdown",
   "metadata": {},
   "source": [
    "Test it out on a specific src element:"
   ]
  },
  {
   "cell_type": "code",
   "execution_count": 55,
   "metadata": {},
   "outputs": [
    {
     "data": {
      "application/vnd.jupyter.widget-view+json": {
       "model_id": "c27ab0be22c94f16b68e61d3f874a811",
       "version_major": 2,
       "version_minor": 0
      },
      "text/plain": [
       "glvis()"
      ]
     },
     "metadata": {},
     "output_type": "display_data"
    }
   ],
   "source": [
    "new_function()"
   ]
  },
  {
   "cell_type": "code",
   "execution_count": 56,
   "metadata": {
    "scrolled": false
   },
   "outputs": [
    {
     "data": {
      "application/vnd.jupyter.widget-view+json": {
       "model_id": "2c54a11a27c44ea8a6412b787b1770e5",
       "version_major": 2,
       "version_minor": 0
      },
      "text/plain": [
       "glvis()"
      ]
     },
     "metadata": {},
     "output_type": "display_data"
    }
   ],
   "source": [
    "transfer_stencil(10)\n",
    "show_obs()"
   ]
  },
  {
   "cell_type": "code",
   "execution_count": 57,
   "metadata": {
    "scrolled": false
   },
   "outputs": [
    {
     "name": "stdout",
     "output_type": "stream",
     "text": [
      "{'action_prob': 1.0, 'action_logp': 0.0, 'action_dist_inputs': array([ 0.3983558 ,  0.32411394,  0.02658089,  0.12445277,  0.08604131,\n",
      "       -0.03915977, -0.505314  , -0.5322843 , -0.18103397,  0.0055941 ,\n",
      "        0.15430637, -0.08639008, -0.28180975, -0.44558364, -0.17239645,\n",
      "       -0.59353364, -0.20044664, -0.0784512 ,  0.12802821,  0.02139634,\n",
      "       -0.10813664, -0.12555745, -0.44509152, -0.20525275, -0.3111641 ,\n",
      "        0.04017941,  0.23141071,  0.14934148,  0.54135334,  0.49351397,\n",
      "        0.16484351,  0.20421632,  0.11574204,  0.33057973,  0.43640792,\n",
      "        0.4813172 ,  0.27212945, -0.10150181, -0.42004895, -0.42518428,\n",
      "       -0.17669089,  0.17237099, -0.02217911, -0.24495202, -0.080006  ,\n",
      "        0.15815108,  0.12359463,  0.05708026,  0.22337668], dtype=float32), 'vf_preds': 0.00017622727}\n"
     ]
    },
    {
     "data": {
      "application/vnd.jupyter.widget-view+json": {
       "model_id": "306be52009b14b278de52cd4ee6938ba",
       "version_major": 2,
       "version_minor": 0
      },
      "text/plain": [
       "glvis()"
      ]
     },
     "metadata": {},
     "output_type": "display_data"
    }
   ],
   "source": [
    "show_patch_logits()"
   ]
  },
  {
   "cell_type": "code",
   "execution_count": 58,
   "metadata": {
    "scrolled": false
   },
   "outputs": [
    {
     "data": {
      "application/vnd.jupyter.widget-view+json": {
       "model_id": "a593a9ef8af0454698dfa0f98e502f4a",
       "version_major": 2,
       "version_minor": 0
      },
      "text/plain": [
       "glvis()"
      ]
     },
     "metadata": {},
     "output_type": "display_data"
    }
   ],
   "source": [
    "transfer_stencil(53)\n",
    "show_obs()"
   ]
  },
  {
   "cell_type": "code",
   "execution_count": 59,
   "metadata": {},
   "outputs": [
    {
     "name": "stdout",
     "output_type": "stream",
     "text": [
      "{'action_prob': 1.0, 'action_logp': 0.0, 'action_dist_inputs': array([ 0.3989856 ,  0.3243538 ,  0.02634194,  0.1242981 ,  0.08607035,\n",
      "       -0.03946233, -0.5063925 , -0.5332473 , -0.1819028 ,  0.00519418,\n",
      "        0.15367915, -0.08751276, -0.28251183, -0.44678217, -0.17258504,\n",
      "       -0.5951126 , -0.20068574, -0.07772367,  0.1293352 ,  0.02315509,\n",
      "       -0.10711592, -0.12499355, -0.44575822, -0.20527342, -0.3112556 ,\n",
      "        0.04138593,  0.23348556,  0.15063953,  0.54217094,  0.49408188,\n",
      "        0.16502304,  0.20411669,  0.11535439,  0.3295894 ,  0.4359846 ,\n",
      "        0.48123002,  0.27153623, -0.10162053, -0.4207048 , -0.42589304,\n",
      "       -0.17747036,  0.17228012, -0.02202233, -0.24518248, -0.08000149,\n",
      "        0.15830247,  0.1233688 ,  0.05657959,  0.22316612], dtype=float32), 'vf_preds': 0.00017619644}\n"
     ]
    },
    {
     "data": {
      "application/vnd.jupyter.widget-view+json": {
       "model_id": "8129ca44fd5a402697a203a63a847cb2",
       "version_major": 2,
       "version_minor": 0
      },
      "text/plain": [
       "glvis()"
      ]
     },
     "metadata": {},
     "output_type": "display_data"
    }
   ],
   "source": [
    "show_patch_logits()"
   ]
  },
  {
   "cell_type": "markdown",
   "metadata": {},
   "source": [
    "Iterate over all the elements with full stencils in the src mesh and record 'center' logits for each observation:"
   ]
  },
  {
   "cell_type": "code",
   "execution_count": 60,
   "metadata": {},
   "outputs": [
    {
     "data": {
      "text/plain": [
       "[38]"
      ]
     },
     "execution_count": 60,
     "metadata": {},
     "output_type": "execute_result"
    }
   ],
   "source": [
    "pt = [[0.5,0.5]]\n",
    "n, center_el, ip = obs_mesh.FindPoints(pt)\n",
    "center_el"
   ]
  },
  {
   "cell_type": "code",
   "execution_count": 71,
   "metadata": {},
   "outputs": [],
   "source": [
    "def compute_center_logits(mesh):\n",
    "    logits = [0.0]*mesh.GetNE()\n",
    "    for k in els:\n",
    "        transfer_stencil(k)\n",
    "        obs = np.array(obs_u.GetDataArray())\n",
    "        action, _, info = policy.compute_single_action(obs, explore=False)\n",
    "        obs_logits = info['action_dist_inputs']\n",
    "        value = info['vf_preds']\n",
    "        print(\"value is %f\" % value)\n",
    "        \n",
    "        # find minimum to use as datum\n",
    "        #min_logit = 1.e6\n",
    "        #for j in range(len(id_map)):\n",
    "        #    src_el = id_map[j]\n",
    "        #    min_logit = min(min_logit,obs_logits[src_el])\n",
    "        \n",
    "        logits[k] = value*obs_logits[center_el][0] # -min_logit\n",
    "    return logits"
   ]
  },
  {
   "cell_type": "code",
   "execution_count": 72,
   "metadata": {},
   "outputs": [
    {
     "name": "stdout",
     "output_type": "stream",
     "text": [
      "value is 0.000176\n",
      "value is 0.000172\n",
      "value is 0.000174\n",
      "value is 0.000175\n",
      "value is 0.000176\n",
      "value is 0.000176\n",
      "value is 0.000176\n",
      "value is 0.000175\n",
      "value is 0.000175\n",
      "value is 0.000174\n",
      "value is 0.000171\n",
      "value is 0.000170\n",
      "value is 0.000173\n",
      "value is 0.000173\n",
      "value is 0.000170\n",
      "value is 0.000170\n",
      "value is 0.000173\n",
      "value is 0.000175\n",
      "value is 0.000175\n",
      "value is 0.000176\n",
      "value is 0.000176\n",
      "value is 0.000176\n",
      "value is 0.000176\n",
      "value is 0.000176\n",
      "value is 0.000176\n",
      "value is 0.000176\n",
      "value is 0.000176\n",
      "value is 0.000176\n",
      "value is 0.000176\n",
      "value is 0.000176\n",
      "value is 0.000176\n",
      "value is 0.000176\n",
      "value is 0.000176\n",
      "value is 0.000177\n",
      "value is 0.000177\n",
      "value is 0.000176\n",
      "value is 0.000176\n",
      "value is 0.000177\n",
      "value is 0.000177\n",
      "value is 0.000179\n",
      "value is 0.000179\n",
      "value is 0.000177\n",
      "value is 0.000177\n",
      "value is 0.000178\n",
      "value is 0.000177\n",
      "value is 0.000175\n",
      "value is 0.000176\n",
      "value is 0.000177\n",
      "value is 0.000176\n",
      "value is 0.000176\n",
      "value is 0.000176\n",
      "value is 0.000176\n",
      "value is 0.000176\n",
      "value is 0.000176\n",
      "value is 0.000176\n",
      "value is 0.000175\n",
      "value is 0.000174\n",
      "value is 0.000175\n",
      "value is 0.000173\n",
      "value is 0.000171\n",
      "value is 0.000168\n",
      "value is 0.000172\n",
      "value is 0.000172\n",
      "value is 0.000167\n",
      "value is 0.000170\n",
      "value is 0.000179\n",
      "value is 0.000184\n",
      "value is 0.000176\n",
      "value is 0.000183\n",
      "value is 0.000192\n",
      "value is 0.000197\n",
      "value is 0.000188\n",
      "value is 0.000182\n",
      "value is 0.000178\n",
      "value is 0.000176\n",
      "value is 0.000179\n",
      "value is 0.000181\n",
      "value is 0.000185\n",
      "value is 0.000185\n",
      "value is 0.000181\n",
      "value is 0.000181\n",
      "value is 0.000184\n",
      "value is 0.000187\n",
      "value is 0.000186\n",
      "value is 0.000191\n",
      "value is 0.000189\n",
      "value is 0.000190\n",
      "value is 0.000196\n",
      "value is 0.000202\n",
      "value is 0.000203\n",
      "value is 0.000177\n",
      "value is 0.000189\n",
      "value is 0.000178\n",
      "value is 0.000160\n",
      "value is 0.000126\n",
      "value is 0.000076\n",
      "value is 0.000096\n",
      "value is 0.000149\n",
      "value is 0.000184\n",
      "value is 0.000130\n",
      "value is 0.000147\n",
      "value is 0.000142\n",
      "value is 0.000180\n",
      "value is 0.000198\n",
      "value is 0.000214\n",
      "value is 0.000209\n",
      "value is 0.000201\n",
      "value is 0.000200\n",
      "value is 0.000178\n",
      "value is 0.000188\n",
      "value is 0.000182\n",
      "value is 0.000170\n",
      "value is 0.000155\n",
      "value is 0.000159\n",
      "value is 0.000144\n",
      "value is 0.000159\n",
      "value is 0.000166\n",
      "value is 0.000169\n",
      "value is 0.000213\n",
      "value is 0.000185\n",
      "value is 0.000262\n",
      "value is 0.000349\n",
      "value is 0.000347\n",
      "value is 0.000289\n",
      "value is 0.000274\n",
      "value is 0.000303\n",
      "value is 0.000245\n",
      "value is 0.000235\n",
      "value is 0.000211\n",
      "value is 0.000224\n",
      "value is 0.000184\n",
      "value is 0.000190\n",
      "value is 0.000180\n",
      "value is 0.000187\n",
      "value is 0.000168\n",
      "value is 0.000168\n",
      "value is 0.000164\n",
      "value is 0.000166\n",
      "value is 0.000165\n",
      "value is 0.000163\n",
      "value is 0.000165\n",
      "value is 0.000166\n",
      "value is 0.000168\n",
      "value is 0.000167\n",
      "value is 0.000174\n",
      "value is 0.000171\n",
      "value is 0.000195\n",
      "value is 0.000199\n",
      "value is 0.000196\n",
      "value is 0.000175\n",
      "value is 0.000169\n",
      "value is 0.000170\n",
      "value is 0.000236\n",
      "value is 0.000291\n",
      "value is 0.000344\n",
      "value is 0.000371\n",
      "value is 0.000192\n",
      "value is 0.000235\n",
      "value is 0.000293\n",
      "value is 0.000351\n",
      "value is 0.000291\n",
      "value is 0.000206\n",
      "value is 0.000104\n",
      "value is 0.000185\n",
      "value is 0.000138\n",
      "value is 0.000163\n",
      "value is 0.000136\n",
      "value is 0.000093\n",
      "value is 0.000103\n",
      "value is 0.000129\n",
      "value is 0.000144\n",
      "value is 0.000144\n",
      "value is 0.000113\n",
      "value is 0.000088\n",
      "value is 0.000157\n",
      "value is 0.000141\n",
      "value is 0.000123\n",
      "value is 0.000110\n",
      "value is 0.000088\n",
      "value is 0.000112\n",
      "value is 0.000136\n",
      "value is 0.000112\n",
      "value is 0.000048\n",
      "value is 0.000087\n",
      "value is 0.000048\n",
      "value is 0.000002\n",
      "value is -0.000007\n",
      "value is 0.000046\n",
      "value is 0.000095\n",
      "value is 0.000078\n",
      "value is 0.000117\n",
      "value is 0.000141\n",
      "value is 0.000172\n",
      "value is 0.000153\n",
      "value is 0.000146\n",
      "value is 0.000160\n",
      "value is 0.000191\n",
      "value is 0.000199\n",
      "value is 0.000196\n",
      "value is 0.000107\n",
      "value is 0.000137\n",
      "value is 0.000186\n",
      "value is 0.000165\n",
      "value is 0.000151\n",
      "value is 0.000183\n",
      "value is 0.000167\n",
      "value is 0.000126\n",
      "value is 0.000074\n",
      "value is 0.000109\n",
      "value is 0.000065\n",
      "value is 0.000020\n",
      "value is -0.000026\n",
      "value is 0.000031\n",
      "value is 0.000014\n",
      "value is -0.000049\n",
      "value is -0.000047\n",
      "value is -0.000028\n",
      "value is 0.000032\n",
      "value is 0.000016\n",
      "value is 0.000075\n",
      "value is 0.000085\n",
      "value is 0.000073\n",
      "value is 0.000084\n",
      "value is 0.000152\n",
      "value is 0.000138\n",
      "value is 0.000102\n",
      "value is 0.000121\n",
      "value is 0.000084\n",
      "value is 0.000056\n",
      "value is 0.000001\n",
      "value is 0.000038\n",
      "value is 0.000077\n",
      "value is 0.000112\n",
      "value is 0.000135\n",
      "value is 0.000112\n",
      "value is 0.000084\n",
      "value is 0.000036\n",
      "value is -0.000009\n",
      "value is 0.000052\n",
      "value is 0.000020\n",
      "value is -0.000006\n",
      "value is -0.000089\n",
      "value is -0.000053\n",
      "value is -0.000122\n",
      "value is -0.000165\n",
      "value is -0.000223\n",
      "value is -0.000174\n",
      "value is -0.000114\n",
      "value is -0.000068\n",
      "value is -0.000014\n",
      "value is -0.000056\n",
      "value is -0.000086\n",
      "value is -0.000144\n",
      "value is -0.000157\n",
      "value is -0.000104\n",
      "value is -0.000100\n",
      "value is -0.000063\n",
      "value is -0.000072\n",
      "value is -0.000136\n",
      "value is -0.000152\n",
      "value is -0.000050\n",
      "value is -0.000002\n",
      "value is -0.000143\n",
      "value is -0.000238\n",
      "value is -0.000206\n",
      "value is -0.000204\n",
      "value is -0.000255\n",
      "value is -0.000265\n",
      "value is -0.000204\n",
      "value is -0.000171\n",
      "value is -0.000233\n",
      "value is -0.000110\n",
      "value is 0.000044\n",
      "value is 0.000074\n",
      "value is -0.000054\n",
      "value is 0.000033\n",
      "value is 0.000121\n",
      "value is 0.000162\n",
      "value is 0.000111\n",
      "value is 0.000068\n",
      "value is -0.000051\n",
      "value is -0.000079\n",
      "value is 0.000053\n",
      "value is 0.000038\n",
      "value is 0.000016\n",
      "value is -0.000073\n",
      "value is -0.000079\n",
      "value is -0.000183\n",
      "value is -0.000234\n",
      "value is -0.000178\n",
      "value is -0.000145\n",
      "value is -0.000089\n",
      "value is -0.000104\n",
      "value is -0.000021\n",
      "value is -0.000017\n",
      "value is 0.000006\n",
      "value is -0.000046\n",
      "value is 0.000014\n",
      "value is 0.000044\n",
      "value is 0.000088\n",
      "value is 0.000126\n",
      "value is 0.000114\n",
      "value is 0.000066\n",
      "value is 0.000054\n",
      "value is 0.000054\n",
      "value is 0.000108\n",
      "value is 0.000108\n",
      "value is 0.000142\n",
      "value is 0.000143\n",
      "value is 0.000161\n",
      "value is 0.000161\n",
      "value is 0.000162\n",
      "value is 0.000145\n",
      "value is 0.000151\n",
      "value is 0.000165\n",
      "value is 0.000172\n",
      "value is 0.000171\n",
      "value is 0.000174\n",
      "value is 0.000175\n",
      "value is 0.000176\n",
      "value is 0.000176\n",
      "value is 0.000176\n",
      "value is 0.000176\n",
      "value is 0.000174\n",
      "value is 0.000174\n",
      "value is 0.000170\n",
      "value is 0.000170\n",
      "value is 0.000171\n",
      "value is 0.000172\n",
      "value is 0.000175\n",
      "value is 0.000174\n",
      "value is 0.000176\n",
      "value is 0.000176\n",
      "value is 0.000176\n",
      "value is 0.000176\n",
      "value is 0.000175\n",
      "value is 0.000175\n",
      "value is 0.000173\n",
      "value is 0.000174\n",
      "value is 0.000170\n",
      "value is 0.000162\n",
      "value is 0.000157\n",
      "value is 0.000168\n",
      "value is 0.000165\n",
      "value is 0.000163\n",
      "value is 0.000146\n",
      "value is 0.000151\n",
      "value is 0.000125\n",
      "value is 0.000115\n",
      "value is 0.000064\n",
      "value is 0.000081\n",
      "value is 0.000101\n",
      "value is 0.000136\n",
      "value is 0.000147\n",
      "value is 0.000121\n",
      "value is 0.000139\n",
      "value is 0.000152\n",
      "value is 0.000164\n",
      "value is 0.000156\n",
      "value is 0.000167\n",
      "value is 0.000172\n",
      "value is 0.000174\n",
      "value is 0.000170\n",
      "value is 0.000173\n",
      "value is 0.000175\n",
      "value is 0.000169\n",
      "value is 0.000162\n",
      "value is 0.000176\n",
      "value is 0.000176\n",
      "value is 0.000176\n",
      "value is 0.000176\n",
      "value is 0.000176\n",
      "value is 0.000175\n",
      "value is 0.000175\n",
      "value is 0.000176\n",
      "value is 0.000176\n",
      "value is 0.000176\n",
      "value is 0.000176\n",
      "value is 0.000176\n",
      "value is 0.000176\n",
      "value is 0.000176\n",
      "value is 0.000176\n",
      "value is 0.000176\n",
      "value is 0.000176\n",
      "value is 0.000176\n",
      "value is 0.000176\n",
      "value is 0.000176\n",
      "value is 0.000176\n",
      "value is 0.000176\n",
      "value is 0.000176\n",
      "value is 0.000176\n",
      "value is 0.000176\n",
      "value is 0.000176\n",
      "value is 0.000176\n",
      "value is 0.000176\n",
      "value is 0.000176\n",
      "value is 0.000176\n",
      "value is 0.000176\n",
      "value is 0.000176\n",
      "value is 0.000176\n",
      "value is 0.000176\n",
      "value is 0.000176\n",
      "value is 0.000176\n",
      "value is 0.000176\n",
      "value is 0.000176\n",
      "value is 0.000176\n",
      "value is 0.000176\n",
      "value is 0.000176\n",
      "value is 0.000176\n",
      "value is 0.000176\n",
      "value is 0.000176\n",
      "value is 0.000176\n",
      "value is 0.000176\n",
      "value is 0.000176\n",
      "value is 0.000176\n",
      "value is 0.000176\n",
      "value is 0.000176\n",
      "value is 0.000176\n",
      "value is 0.000176\n",
      "value is 0.000176\n",
      "value is 0.000176\n",
      "value is 0.000176\n",
      "value is 0.000176\n",
      "value is 0.000176\n",
      "value is 0.000176\n",
      "value is 0.000176\n",
      "value is 0.000176\n",
      "value is 0.000176\n",
      "value is 0.000176\n",
      "value is 0.000176\n",
      "value is 0.000176\n",
      "value is 0.000176\n",
      "value is 0.000176\n",
      "value is 0.000176\n",
      "value is 0.000176\n",
      "value is 0.000176\n",
      "value is 0.000176\n",
      "value is 0.000176\n",
      "value is 0.000176\n",
      "value is 0.000176\n",
      "value is 0.000176\n",
      "value is 0.000176\n",
      "value is 0.000176\n",
      "value is 0.000176\n",
      "value is 0.000176\n",
      "value is 0.000176\n",
      "value is 0.000176\n",
      "value is 0.000176\n",
      "value is 0.000176\n",
      "value is 0.000176\n",
      "value is 0.000176\n",
      "value is 0.000176\n",
      "value is 0.000176\n",
      "value is 0.000176\n",
      "value is 0.000176\n",
      "value is 0.000176\n",
      "value is 0.000176\n",
      "value is 0.000176\n",
      "value is 0.000176\n",
      "value is 0.000176\n",
      "value is 0.000175\n",
      "value is 0.000173\n",
      "value is 0.000174\n",
      "value is 0.000176\n",
      "value is 0.000176\n",
      "value is 0.000176\n",
      "value is 0.000176\n",
      "value is 0.000176\n",
      "value is 0.000174\n",
      "value is 0.000176\n",
      "value is 0.000176\n",
      "value is 0.000172\n",
      "value is 0.000166\n",
      "value is 0.000172\n",
      "value is 0.000168\n",
      "value is 0.000158\n",
      "value is 0.000141\n",
      "value is 0.000156\n",
      "value is 0.000141\n",
      "value is 0.000115\n",
      "value is 0.000088\n",
      "value is 0.000127\n",
      "value is 0.000156\n",
      "value is 0.000174\n",
      "value is 0.000174\n",
      "value is 0.000161\n",
      "value is 0.000167\n",
      "value is 0.000175\n",
      "value is 0.000178\n",
      "value is 0.000179\n",
      "value is 0.000181\n",
      "value is 0.000180\n",
      "value is 0.000182\n",
      "value is 0.000184\n",
      "value is 0.000182\n",
      "value is 0.000180\n",
      "value is 0.000179\n",
      "value is 0.000180\n",
      "value is 0.000178\n",
      "value is 0.000178\n",
      "value is 0.000177\n",
      "value is 0.000177\n",
      "value is 0.000177\n",
      "value is 0.000177\n"
     ]
    },
    {
     "name": "stdout",
     "output_type": "stream",
     "text": [
      "value is 0.000178\n",
      "value is 0.000177\n",
      "value is 0.000177\n",
      "value is 0.000177\n",
      "value is 0.000177\n",
      "value is 0.000177\n",
      "value is 0.000176\n",
      "value is 0.000176\n",
      "value is 0.000176\n",
      "value is 0.000177\n",
      "value is 0.000176\n",
      "value is 0.000176\n",
      "value is 0.000176\n",
      "value is 0.000176\n",
      "value is 0.000176\n",
      "value is 0.000176\n",
      "value is 0.000176\n",
      "value is 0.000176\n",
      "value is 0.000176\n",
      "value is 0.000176\n",
      "value is 0.000176\n",
      "value is 0.000176\n",
      "value is 0.000176\n",
      "value is 0.000176\n",
      "value is 0.000177\n",
      "value is 0.000176\n",
      "value is 0.000177\n",
      "value is 0.000177\n",
      "value is 0.000177\n",
      "value is 0.000177\n",
      "value is 0.000177\n",
      "value is 0.000178\n",
      "value is 0.000178\n",
      "value is 0.000177\n",
      "value is 0.000177\n",
      "value is 0.000176\n",
      "value is 0.000176\n",
      "value is 0.000177\n",
      "value is 0.000176\n",
      "value is 0.000176\n",
      "value is 0.000176\n",
      "value is 0.000176\n",
      "value is 0.000176\n",
      "value is 0.000176\n",
      "value is 0.000176\n",
      "value is 0.000176\n",
      "value is 0.000176\n",
      "value is 0.000176\n",
      "value is 0.000176\n",
      "value is 0.000176\n",
      "value is 0.000176\n",
      "value is 0.000176\n",
      "value is 0.000176\n",
      "value is 0.000176\n",
      "value is 0.000176\n",
      "value is 0.000176\n",
      "value is 0.000176\n",
      "value is 0.000176\n",
      "value is 0.000176\n",
      "value is 0.000176\n",
      "value is 0.000176\n",
      "value is 0.000176\n",
      "value is 0.000176\n",
      "value is 0.000176\n",
      "value is 0.000176\n",
      "value is 0.000176\n",
      "value is 0.000176\n",
      "value is 0.000176\n",
      "value is 0.000176\n",
      "value is 0.000176\n",
      "value is 0.000176\n",
      "value is 0.000176\n"
     ]
    },
    {
     "data": {
      "application/vnd.jupyter.widget-view+json": {
       "model_id": "62347fe556ef42cd8f8575a47b30f5a8",
       "version_major": 2,
       "version_minor": 0
      },
      "text/plain": [
       "glvis()"
      ]
     },
     "metadata": {},
     "output_type": "display_data"
    }
   ],
   "source": [
    "logits = compute_center_logits(mesh)\n",
    "fec0fm = mfem.L2_FECollection(p=0, dim=2)\n",
    "fes0fm = mfem.FiniteElementSpace(mesh, fec0fm)\n",
    "log_fm = mfem.GridFunction(fes0)\n",
    "log_fm.Assign(mfem.Vector(np.array(logits)))\n",
    "glvis(to_stream(mesh, log_fm), 500, 500)"
   ]
  },
  {
   "cell_type": "code",
   "execution_count": 63,
   "metadata": {},
   "outputs": [],
   "source": [
    "def compute_avg_logits(mesh):\n",
    "    logits = [0.0]*mesh.GetNE()\n",
    "    count = [0]*mesh.GetNE()\n",
    "    \n",
    "    # accumulate logit sums\n",
    "    for k in els:\n",
    "        transfer_stencil(k)\n",
    "        obs = np.array(obs_u.GetDataArray())\n",
    "        action, _, info = policy.compute_single_action(obs, explore=False)\n",
    "        obs_logits = info['action_dist_inputs']\n",
    "        \n",
    "        # find minimum to use as datum\n",
    "#        min_logit = 1.e6\n",
    "#        for j in range(len(id_map)):\n",
    "#            src_el = id_map[j]\n",
    "#            min_logit = min(min_logit,obs_logits[src_el])\n",
    "\n",
    "        for j in range(len(id_map)):\n",
    "            dst_el = els[k][j]\n",
    "            src_el = id_map[j]\n",
    "            logits[dst_el] += obs_logits[src_el] #-min_logit\n",
    "            count[dst_el] += 1\n",
    "    \n",
    "    # average\n",
    "    for idx,val in enumerate(logits):\n",
    "        logits[idx] /= count[idx]\n",
    "        if (count[idx] < 16):\n",
    "            logits[idx] = -3\n",
    "        #logits[idx] /= obs_mesh.GetNE()\n",
    "\n",
    "    return logits"
   ]
  },
  {
   "cell_type": "code",
   "execution_count": 64,
   "metadata": {},
   "outputs": [
    {
     "data": {
      "application/vnd.jupyter.widget-view+json": {
       "model_id": "c7cd0e31e86145cea952dd7dce3e6225",
       "version_major": 2,
       "version_minor": 0
      },
      "text/plain": [
       "glvis()"
      ]
     },
     "metadata": {},
     "output_type": "display_data"
    }
   ],
   "source": [
    "logits = compute_avg_logits(mesh)\n",
    "fec0fm = mfem.L2_FECollection(p=0, dim=2)\n",
    "fes0fm = mfem.FiniteElementSpace(mesh, fec0fm)\n",
    "log_fm = mfem.GridFunction(fes0)\n",
    "log_fm.Assign(mfem.Vector(np.array(logits)))\n",
    "glvis(to_stream(mesh, log_fm), 500, 500)"
   ]
  },
  {
   "cell_type": "code",
   "execution_count": 42,
   "metadata": {},
   "outputs": [],
   "source": [
    "def compute_min_logits(mesh):\n",
    "    logits = [100.]*mesh.GetNE()\n",
    "    \n",
    "    # choose the max at each element\n",
    "    for k in els:\n",
    "        transfer_stencil(k)\n",
    "        obs = np.array(obs_u.GetDataArray())\n",
    "        action, _, info = policy.compute_single_action(obs, explore=False)\n",
    "        #print(\"action is %d\" % action)\n",
    "        obs_logits = info['action_dist_inputs']\n",
    "        #print(obs_logits)\n",
    "        for j in range(len(id_map)):\n",
    "            dst_el = els[k][j]\n",
    "            src_el = id_map[j]\n",
    "            logits[dst_el] = min(logits[dst_el],obs_logits[src_el])\n",
    "        \n",
    "    return logits"
   ]
  },
  {
   "cell_type": "markdown",
   "metadata": {},
   "source": [
    "Re-normalize the collected logits into a probability distribution that sums to 1."
   ]
  },
  {
   "cell_type": "code",
   "execution_count": 43,
   "metadata": {
    "scrolled": true
   },
   "outputs": [],
   "source": [
    "def compute_distribution(mesh, u, method):\n",
    "    if (method == 1):\n",
    "        logits = compute_center_logits(mesh)\n",
    "    elif (method == 2):\n",
    "        logits = compute_avg_logits(mesh)\n",
    "    elif (method == 3):\n",
    "        logits = compute_min_logits(mesh)\n",
    "    sumexp = 0.0\n",
    "    dist = [0.0] * mesh.GetNE()\n",
    "    for k in range(mesh.GetNE()):        \n",
    "        logit = logits[k]\n",
    "        sumexp += math.exp(logit)\n",
    "    for k in range(mesh.GetNE()):\n",
    "        logit = logits[k]\n",
    "        dist[k] = math.exp(logit)/sumexp\n",
    "    return dist"
   ]
  },
  {
   "cell_type": "markdown",
   "metadata": {},
   "source": [
    "Create a similar function that returns elementwise errors via the dg indicator."
   ]
  },
  {
   "cell_type": "code",
   "execution_count": 44,
   "metadata": {},
   "outputs": [],
   "source": [
    "def compute_dg_indicator(mesh, u):\n",
    "    \n",
    "    # put the L2 gridfunction into a coefficient so we can project it into H1\n",
    "    u_disc_coeff = mfem.GridFunctionCoefficient(u)\n",
    "    h1_fec = mfem.H1_FECollection(p=1, dim=2)\n",
    "    h1_fes = mfem.FiniteElementSpace(mesh, h1_fec)\n",
    "    u_h1 = mfem.GridFunction(h1_fes)\n",
    "    u_h1.ProjectDiscCoefficient(u_disc_coeff, mfem.GridFunction.ARITHMETIC)\n",
    "    \n",
    "    # put the H1 smoothed function into a coefficient\n",
    "    u_h1_coeff = mfem.GridFunctionCoefficient(u_h1)\n",
    "    \n",
    "    # create a 0-order L2 field to hold errors\n",
    "    l2_0_fec = mfem.L2_FECollection(p=0,dim=2)\n",
    "    l2_0_fes = mfem.FiniteElementSpace(mesh,l2_0_fec)\n",
    "\n",
    "    # Compute elementwise \"errors\" between continuous and discontinuous fields\n",
    "    err_gf = mfem.GridFunction(l2_0_fes);\n",
    "    u.ComputeElementL2Errors(u_h1_coeff, err_gf);\n",
    "    \n",
    "    return np.array(err_gf.GetDataArray())"
   ]
  },
  {
   "cell_type": "code",
   "execution_count": 45,
   "metadata": {},
   "outputs": [],
   "source": [
    "def compute_actual_error_reduction(mesh, u, u0):\n",
    "    init_err = u.ComputeL2Error(coeff)\n",
    "    print(\"init_err: %f\" % init_err)\n",
    "    delta_elem_err = []\n",
    "    for k in range(mesh.GetNE()):\n",
    "        mesh = mfem.Mesh('inline-quad-30.mesh')\n",
    "        fec = mfem.L2_FECollection(p=1, dim=2)\n",
    "        fes = mfem.FiniteElementSpace(mesh, fec)\n",
    "        u = mfem.GridFunction(fes)\n",
    "        u.Assign(u0)\n",
    "    \n",
    "        refine_els = []\n",
    "        refine_els.append(k)\n",
    "        mesh.GeneralRefinement(mfem.intArray(refine_els))\n",
    "        u.FESpace().Update()\n",
    "        u.Update()\n",
    "        u.ProjectCoefficient(coeff)\n",
    "        new_err = u.ComputeL2Error(coeff)\n",
    "        print(\"delta for %d is %e\" % (k,init_err-new_err))\n",
    "        delta_elem_err.append(init_err -new_err)\n",
    "\n",
    "    return delta_elem_err"
   ]
  },
  {
   "cell_type": "markdown",
   "metadata": {},
   "source": [
    "Given an indicator on each element, refine everything over the threshold"
   ]
  },
  {
   "cell_type": "code",
   "execution_count": 46,
   "metadata": {},
   "outputs": [],
   "source": [
    "def refine_via_indicator(ind, mesh, u, thresh):\n",
    "    refine_els = []\n",
    "    for k,e in enumerate(ind):\n",
    "        if (e > thresh):\n",
    "            refine_els.append(k)\n",
    "    mesh.GeneralRefinement(mfem.intArray(refine_els))\n",
    "    u.FESpace().Update()\n",
    "    u.Update()\n",
    "    return glvis(to_stream(mesh,u) + 'keys Rcjm', 500, 500)"
   ]
  },
  {
   "cell_type": "markdown",
   "metadata": {},
   "source": [
    "Refine everywhere the policy is over a threshold."
   ]
  },
  {
   "cell_type": "code",
   "execution_count": 47,
   "metadata": {},
   "outputs": [],
   "source": [
    "def refine_via_policy_threshold(mesh, u, thresh, method):\n",
    "    dist = compute_distribution(mesh, u, method)\n",
    "    return refine_via_indicator(dist, mesh, u, thresh)"
   ]
  },
  {
   "cell_type": "markdown",
   "metadata": {},
   "source": [
    "Refine everywhere the DG indicator is over a threshold."
   ]
  },
  {
   "cell_type": "code",
   "execution_count": 48,
   "metadata": {},
   "outputs": [],
   "source": [
    "def refine_via_dg_threshold(mesh, u, thresh):\n",
    "    ind = compute_dg_indicator(mesh, u)\n",
    "    return refine_via_indicator(ind, mesh, u, thresh)"
   ]
  },
  {
   "cell_type": "code",
   "execution_count": 49,
   "metadata": {},
   "outputs": [],
   "source": [
    "def refine_topk_via_indicator(ind, mesh, u, K):\n",
    "    refine_els = []\n",
    "    indsort = np.argsort(ind)[::-1]\n",
    "    for i in range(K):\n",
    "        refine_els.append(indsort[i])\n",
    "    mesh.GeneralRefinement(mfem.intArray(refine_els))\n",
    "    u.FESpace().Update()\n",
    "    u.Update()\n",
    "    return glvis(to_stream(mesh,u) + 'keys Rjm', 400, 400,layout = Layout(width='100%', height='400px'))\n",
    " \n",
    "def refine_topk_via_policy(mesh, u, K, method):\n",
    "    dist = compute_distribution(mesh, u, method)\n",
    "    return refine_topk_via_indicator(dist, mesh, u, K)\n",
    " \n",
    "def refine_topk_via_dg(mesh, u, K):\n",
    "    ind = compute_dg_indicator(mesh, u)\n",
    "    return refine_topk_via_indicator(ind, mesh, u, K)\n",
    "\n",
    "def refine_topk_via_delta_elem_err(mesh, u, K):\n",
    "    return refine_topk_via_indicator(delta_elem_err, mesh, u, K)"
   ]
  },
  {
   "cell_type": "code",
   "execution_count": 50,
   "metadata": {},
   "outputs": [
    {
     "data": {
      "application/vnd.jupyter.widget-view+json": {
       "model_id": "0359d9551abe45519d4170d97b53ed14",
       "version_major": 2,
       "version_minor": 0
      },
      "text/plain": [
       "glvis()"
      ]
     },
     "metadata": {},
     "output_type": "display_data"
    }
   ],
   "source": [
    "new_function()"
   ]
  },
  {
   "cell_type": "code",
   "execution_count": 51,
   "metadata": {},
   "outputs": [
    {
     "name": "stdout",
     "output_type": "stream",
     "text": [
      "init_err: 0.001019\n",
      "delta for 0 is 0.000000e+00\n",
      "delta for 1 is 2.168404e-19\n",
      "delta for 2 is 4.336809e-18\n",
      "delta for 3 is 2.168404e-19\n",
      "delta for 4 is 2.602085e-18\n",
      "delta for 5 is 2.905662e-17\n",
      "delta for 6 is 7.121040e-16\n",
      "delta for 7 is 6.245005e-17\n",
      "delta for 8 is 1.173974e-15\n",
      "delta for 9 is 1.299872e-14\n",
      "delta for 10 is 1.776957e-13\n",
      "delta for 11 is 1.667741e-14\n",
      "delta for 12 is 1.193923e-15\n",
      "delta for 13 is 8.131516e-17\n",
      "delta for 14 is 4.336809e-18\n",
      "delta for 15 is 6.461845e-17\n",
      "delta for 16 is 7.496174e-16\n",
      "delta for 17 is 1.343305e-14\n",
      "delta for 18 is 1.165888e-13\n",
      "delta for 19 is 6.700586e-15\n",
      "delta for 20 is 4.632406e-14\n",
      "delta for 21 is 2.478074e-13\n",
      "delta for 22 is 4.125277e-12\n",
      "delta for 23 is 7.858352e-13\n",
      "delta for 24 is 9.784185e-12\n",
      "delta for 25 is 4.991626e-11\n",
      "delta for 26 is 4.376779e-10\n",
      "delta for 27 is 8.967513e-11\n",
      "delta for 28 is 1.453572e-11\n",
      "delta for 29 is 1.505448e-12\n",
      "delta for 30 is 1.805025e-13\n",
      "delta for 31 is 1.835993e-12\n",
      "delta for 32 is 1.433403e-11\n",
      "delta for 33 is 8.732209e-11\n",
      "delta for 34 is 6.039391e-10\n",
      "delta for 35 is 1.064332e-10\n",
      "delta for 36 is 6.107823e-10\n",
      "delta for 37 is 2.781465e-09\n",
      "delta for 38 is 1.293793e-08\n",
      "delta for 39 is 3.157715e-09\n",
      "delta for 40 is 1.285365e-08\n",
      "delta for 41 is 4.551485e-08\n",
      "delta for 42 is 1.298981e-07\n",
      "delta for 43 is 4.301762e-08\n",
      "delta for 44 is 9.953134e-09\n",
      "delta for 45 is 2.724529e-09\n",
      "delta for 46 is 4.209723e-10\n",
      "delta for 47 is 1.614412e-09\n",
      "delta for 48 is 1.855899e-10\n",
      "delta for 49 is 1.527827e-11\n",
      "delta for 50 is 3.808188e-12\n",
      "delta for 51 is 4.705430e-11\n",
      "delta for 52 is 9.358043e-12\n",
      "delta for 53 is 1.460452e-12\n",
      "delta for 54 is 1.110763e-13\n",
      "delta for 55 is 7.371469e-13\n",
      "delta for 56 is 4.258421e-14\n",
      "delta for 57 is 6.262352e-15\n",
      "delta for 58 is 2.610759e-16\n",
      "delta for 59 is 1.805197e-15\n",
      "delta for 60 is 9.608633e-15\n",
      "delta for 61 is 2.239526e-13\n",
      "delta for 62 is 9.082706e-13\n",
      "delta for 63 is 3.924877e-14\n",
      "delta for 64 is 1.225227e-13\n",
      "delta for 65 is 2.909728e-13\n",
      "delta for 66 is 6.706949e-12\n",
      "delta for 67 is 2.826181e-12\n",
      "delta for 68 is 4.730516e-11\n",
      "delta for 69 is 5.700796e-10\n",
      "delta for 70 is 1.348985e-09\n",
      "delta for 71 is 1.121385e-10\n",
      "delta for 72 is 2.019921e-10\n",
      "delta for 73 is 2.432442e-09\n",
      "delta for 74 is 3.314797e-09\n",
      "delta for 75 is 2.749097e-10\n",
      "delta for 76 is 1.641850e-11\n",
      "delta for 77 is 1.207323e-11\n",
      "delta for 78 is 5.235617e-13\n",
      "delta for 79 is 7.116280e-13\n",
      "delta for 80 is 7.294501e-13\n",
      "delta for 81 is 1.683054e-11\n",
      "delta for 82 is 1.300287e-11\n",
      "delta for 83 is 5.638161e-13\n",
      "delta for 84 is 3.290627e-13\n",
      "delta for 85 is 7.585129e-12\n",
      "delta for 86 is 1.268266e-10\n",
      "delta for 87 is 1.525779e-09\n",
      "delta for 88 is 2.620861e-09\n",
      "delta for 89 is 2.175811e-10\n",
      "delta for 90 is 2.818308e-10\n",
      "delta for 91 is 3.398677e-09\n",
      "delta for 92 is 2.920107e-08\n",
      "delta for 93 is 1.760113e-07\n",
      "delta for 94 is 1.349602e-07\n",
      "delta for 95 is 2.247364e-08\n",
      "delta for 96 is 1.305520e-08\n",
      "delta for 97 is 7.808150e-08\n",
      "delta for 98 is 3.173970e-07\n",
      "delta for 99 is 8.336294e-07\n",
      "delta for 100 is 1.484661e-06\n",
      "delta for 101 is 5.533456e-07\n",
      "delta for 102 is 7.272620e-07\n",
      "delta for 103 is 1.988047e-06\n",
      "delta for 104 is 1.932282e-06\n",
      "delta for 105 is 1.367581e-06\n",
      "delta for 106 is 5.119661e-07\n",
      "delta for 107 is 7.082784e-07\n",
      "delta for 108 is 1.715608e-07\n",
      "delta for 109 is 2.847422e-08\n",
      "delta for 110 is 2.084845e-08\n",
      "delta for 111 is 1.250931e-07\n",
      "delta for 112 is 6.901095e-08\n",
      "delta for 113 is 1.154114e-08\n",
      "delta for 114 is 4.892305e-09\n",
      "delta for 115 is 2.942283e-08\n",
      "delta for 116 is 1.209974e-07\n",
      "delta for 117 is 2.803934e-07\n",
      "delta for 118 is 7.355692e-07\n",
      "delta for 119 is 3.270241e-07\n",
      "delta for 120 is 5.453317e-07\n",
      "delta for 121 is 1.115523e-06\n",
      "delta for 122 is 6.985354e-07\n",
      "delta for 123 is 5.402145e-07\n",
      "delta for 124 is 6.040859e-07\n",
      "delta for 125 is 1.690760e-06\n",
      "delta for 126 is 1.410235e-06\n",
      "delta for 127 is 1.242932e-08\n",
      "delta for 128 is 1.528954e-06\n",
      "delta for 129 is 5.305955e-06\n",
      "delta for 130 is 1.186842e-05\n",
      "delta for 131 is 4.602878e-06\n",
      "delta for 132 is 3.588618e-06\n",
      "delta for 133 is 1.876743e-06\n",
      "delta for 134 is 2.198797e-06\n",
      "delta for 135 is 3.308858e-06\n",
      "delta for 136 is 3.423885e-06\n",
      "delta for 137 is 3.782750e-06\n",
      "delta for 138 is 2.189490e-06\n",
      "delta for 139 is 2.419853e-06\n",
      "delta for 140 is 1.269202e-06\n",
      "delta for 141 is 8.145833e-07\n",
      "delta for 142 is 7.383009e-08\n",
      "delta for 143 is 1.704628e-06\n",
      "delta for 144 is 6.467959e-06\n",
      "delta for 145 is 2.056117e-06\n",
      "delta for 146 is 4.972035e-06\n",
      "delta for 147 is 1.263526e-05\n",
      "delta for 148 is 2.444387e-05\n",
      "delta for 149 is 2.680327e-05\n",
      "delta for 150 is 1.586295e-05\n",
      "delta for 151 is 1.426414e-05\n",
      "delta for 152 is 5.434848e-06\n",
      "delta for 153 is 6.230616e-06\n",
      "delta for 154 is 2.848298e-06\n",
      "delta for 155 is 2.234601e-07\n",
      "delta for 156 is 2.791889e-06\n",
      "delta for 157 is 8.941183e-06\n",
      "delta for 158 is 1.646188e-05\n",
      "delta for 159 is 6.500851e-06\n",
      "delta for 160 is 6.032386e-06\n",
      "delta for 161 is 2.117558e-06\n",
      "delta for 162 is 7.500701e-06\n",
      "delta for 163 is 1.553375e-05\n",
      "delta for 164 is 2.547183e-05\n",
      "delta for 165 is 2.320178e-05\n",
      "delta for 166 is 1.226647e-05\n",
      "delta for 167 is 1.370428e-05\n",
      "delta for 168 is 5.366891e-06\n",
      "delta for 169 is 4.669854e-06\n",
      "delta for 170 is 3.482220e-06\n",
      "delta for 171 is 3.843722e-06\n",
      "delta for 172 is 2.266009e-06\n",
      "delta for 173 is 2.407430e-06\n",
      "delta for 174 is 1.316248e-07\n",
      "delta for 175 is 8.027315e-07\n",
      "delta for 176 is 1.340936e-06\n",
      "delta for 177 is 2.542028e-06\n",
      "delta for 178 is 1.612106e-06\n",
      "delta for 179 is 9.191770e-07\n",
      "delta for 180 is 3.616300e-07\n",
      "delta for 181 is 9.151503e-08\n",
      "delta for 182 is 1.552308e-07\n",
      "delta for 183 is 6.192772e-07\n",
      "delta for 184 is 7.978490e-07\n",
      "delta for 185 is 1.984574e-07\n"
     ]
    },
    {
     "ename": "KeyboardInterrupt",
     "evalue": "",
     "output_type": "error",
     "traceback": [
      "\u001b[0;31m---------------------------------------------------------------------------\u001b[0m",
      "\u001b[0;31mKeyboardInterrupt\u001b[0m                         Traceback (most recent call last)",
      "\u001b[0;32m<ipython-input-51-f2629cf77ee8>\u001b[0m in \u001b[0;36m<module>\u001b[0;34m\u001b[0m\n\u001b[0;32m----> 1\u001b[0;31m \u001b[0mdelta_elem_err\u001b[0m \u001b[0;34m=\u001b[0m \u001b[0mcompute_actual_error_reduction\u001b[0m\u001b[0;34m(\u001b[0m\u001b[0mmesh\u001b[0m\u001b[0;34m,\u001b[0m \u001b[0mu\u001b[0m\u001b[0;34m,\u001b[0m \u001b[0mu0\u001b[0m\u001b[0;34m)\u001b[0m\u001b[0;34m\u001b[0m\u001b[0;34m\u001b[0m\u001b[0m\n\u001b[0m",
      "\u001b[0;32m<ipython-input-45-e658f4a17280>\u001b[0m in \u001b[0;36mcompute_actual_error_reduction\u001b[0;34m(mesh, u, u0)\u001b[0m\n\u001b[1;32m     16\u001b[0m         \u001b[0mu\u001b[0m\u001b[0;34m.\u001b[0m\u001b[0mUpdate\u001b[0m\u001b[0;34m(\u001b[0m\u001b[0;34m)\u001b[0m\u001b[0;34m\u001b[0m\u001b[0;34m\u001b[0m\u001b[0m\n\u001b[1;32m     17\u001b[0m         \u001b[0mu\u001b[0m\u001b[0;34m.\u001b[0m\u001b[0mProjectCoefficient\u001b[0m\u001b[0;34m(\u001b[0m\u001b[0mcoeff\u001b[0m\u001b[0;34m)\u001b[0m\u001b[0;34m\u001b[0m\u001b[0;34m\u001b[0m\u001b[0m\n\u001b[0;32m---> 18\u001b[0;31m         \u001b[0mnew_err\u001b[0m \u001b[0;34m=\u001b[0m \u001b[0mu\u001b[0m\u001b[0;34m.\u001b[0m\u001b[0mComputeL2Error\u001b[0m\u001b[0;34m(\u001b[0m\u001b[0mcoeff\u001b[0m\u001b[0;34m)\u001b[0m\u001b[0;34m\u001b[0m\u001b[0;34m\u001b[0m\u001b[0m\n\u001b[0m\u001b[1;32m     19\u001b[0m         \u001b[0mprint\u001b[0m\u001b[0;34m(\u001b[0m\u001b[0;34m\"delta for %d is %e\"\u001b[0m \u001b[0;34m%\u001b[0m \u001b[0;34m(\u001b[0m\u001b[0mk\u001b[0m\u001b[0;34m,\u001b[0m\u001b[0minit_err\u001b[0m\u001b[0;34m-\u001b[0m\u001b[0mnew_err\u001b[0m\u001b[0;34m)\u001b[0m\u001b[0;34m)\u001b[0m\u001b[0;34m\u001b[0m\u001b[0;34m\u001b[0m\u001b[0m\n\u001b[1;32m     20\u001b[0m         \u001b[0mdelta_elem_err\u001b[0m\u001b[0;34m.\u001b[0m\u001b[0mappend\u001b[0m\u001b[0;34m(\u001b[0m\u001b[0minit_err\u001b[0m \u001b[0;34m-\u001b[0m\u001b[0mnew_err\u001b[0m\u001b[0;34m)\u001b[0m\u001b[0;34m\u001b[0m\u001b[0;34m\u001b[0m\u001b[0m\n",
      "\u001b[0;32m~/pyvenv/lib/python3.6/site-packages/mfem/_ser/coefficient.py\u001b[0m in \u001b[0;36m_EvalPy\u001b[0;34m(self, x)\u001b[0m\n\u001b[1;32m   1982\u001b[0m    \u001b[0;32mdef\u001b[0m \u001b[0m__init__\u001b[0m\u001b[0;34m(\u001b[0m\u001b[0mself\u001b[0m\u001b[0;34m)\u001b[0m\u001b[0;34m:\u001b[0m\u001b[0;34m\u001b[0m\u001b[0;34m\u001b[0m\u001b[0m\n\u001b[1;32m   1983\u001b[0m        \u001b[0mPyCoefficientBase\u001b[0m\u001b[0;34m.\u001b[0m\u001b[0m__init__\u001b[0m\u001b[0;34m(\u001b[0m\u001b[0mself\u001b[0m\u001b[0;34m,\u001b[0m \u001b[0;36m0\u001b[0m\u001b[0;34m)\u001b[0m\u001b[0;34m\u001b[0m\u001b[0;34m\u001b[0m\u001b[0m\n\u001b[0;32m-> 1984\u001b[0;31m    \u001b[0;32mdef\u001b[0m \u001b[0m_EvalPy\u001b[0m\u001b[0;34m(\u001b[0m\u001b[0mself\u001b[0m\u001b[0;34m,\u001b[0m \u001b[0mx\u001b[0m\u001b[0;34m)\u001b[0m\u001b[0;34m:\u001b[0m\u001b[0;34m\u001b[0m\u001b[0;34m\u001b[0m\u001b[0m\n\u001b[0m\u001b[1;32m   1985\u001b[0m        \u001b[0;32mreturn\u001b[0m \u001b[0mself\u001b[0m\u001b[0;34m.\u001b[0m\u001b[0mEvalValue\u001b[0m\u001b[0;34m(\u001b[0m\u001b[0mx\u001b[0m\u001b[0;34m.\u001b[0m\u001b[0mGetDataArray\u001b[0m\u001b[0;34m(\u001b[0m\u001b[0;34m)\u001b[0m\u001b[0;34m)\u001b[0m\u001b[0;34m\u001b[0m\u001b[0;34m\u001b[0m\u001b[0m\n\u001b[1;32m   1986\u001b[0m    \u001b[0;32mdef\u001b[0m \u001b[0mEvalValue\u001b[0m\u001b[0;34m(\u001b[0m\u001b[0mself\u001b[0m\u001b[0;34m,\u001b[0m \u001b[0mx\u001b[0m\u001b[0;34m)\u001b[0m\u001b[0;34m:\u001b[0m\u001b[0;34m\u001b[0m\u001b[0;34m\u001b[0m\u001b[0m\n",
      "\u001b[0;31mKeyboardInterrupt\u001b[0m: "
     ]
    }
   ],
   "source": [
    "delta_elem_err = compute_actual_error_reduction(mesh, u, u0)"
   ]
  },
  {
   "cell_type": "code",
   "execution_count": null,
   "metadata": {},
   "outputs": [],
   "source": [
    "restore_function()\n",
    "refine_topk_via_delta_elem_err(mesh, u, 100)"
   ]
  },
  {
   "cell_type": "code",
   "execution_count": null,
   "metadata": {
    "scrolled": false
   },
   "outputs": [],
   "source": [
    "restore_function()\n",
    "refine_topk_via_dg(mesh, u, 100)"
   ]
  },
  {
   "cell_type": "code",
   "execution_count": null,
   "metadata": {},
   "outputs": [],
   "source": [
    "restore_function()\n",
    "method = 1 # center\n",
    "refine_topk_via_policy(mesh, u, 100, method)"
   ]
  },
  {
   "cell_type": "code",
   "execution_count": null,
   "metadata": {
    "scrolled": true
   },
   "outputs": [],
   "source": [
    "restore_function()\n",
    "method = 2 # avg\n",
    "refine_topk_via_policy(mesh, u, 100, method)"
   ]
  },
  {
   "cell_type": "code",
   "execution_count": null,
   "metadata": {},
   "outputs": [],
   "source": [
    "restore_function()\n",
    "method = 3 # min\n",
    "refine_topk_via_policy(mesh, u, 100, method)"
   ]
  },
  {
   "cell_type": "code",
   "execution_count": null,
   "metadata": {},
   "outputs": [],
   "source": [
    "new_function()\n",
    "refine_topk_via_dg(mesh, u, 100)"
   ]
  },
  {
   "cell_type": "code",
   "execution_count": null,
   "metadata": {},
   "outputs": [],
   "source": [
    "restore_function()\n",
    "method = 1 # center\n",
    "refine_topk_via_policy(mesh, u, 100, method)"
   ]
  },
  {
   "cell_type": "code",
   "execution_count": null,
   "metadata": {},
   "outputs": [],
   "source": [
    "restore_function()\n",
    "method = 2 # avg\n",
    "refine_topk_via_policy(mesh, u, 100, method)"
   ]
  },
  {
   "cell_type": "code",
   "execution_count": null,
   "metadata": {},
   "outputs": [],
   "source": []
  },
  {
   "cell_type": "code",
   "execution_count": null,
   "metadata": {},
   "outputs": [],
   "source": []
  }
 ],
 "metadata": {
  "kernelspec": {
   "display_name": "minigame",
   "language": "python",
   "name": "minigame"
  },
  "language_info": {
   "codemirror_mode": {
    "name": "ipython",
    "version": 3
   },
   "file_extension": ".py",
   "mimetype": "text/x-python",
   "name": "python",
   "nbconvert_exporter": "python",
   "pygments_lexer": "ipython3",
   "version": "3.6.9"
  }
 },
 "nbformat": 4,
 "nbformat_minor": 4
}
