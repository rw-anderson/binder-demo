{
 "cells": [
  {
   "cell_type": "markdown",
   "metadata": {},
   "source": [
    "# Minigame 11: Choose One Element To Refine And Advect Mesh\n",
    "\n",
    "Experiment: try a 50/50 chance of advecting one element left or one element right, with the direction as part of the observation.\n",
    "\n",
    "This is like minigame10, except that we're now \"advecting\" the field by displacing the mesh. This is like a remap method, where the remap is just to re-project the known function onto the new mesh.\n",
    "\n",
    "In this context, we want to refine not where our finest features are right now, but where they will be after the advection. In this sense, the policy has a way to do \"anticipatory\" refinement, which is a new strategic consideration for the policy. The DG indicator doesn't take this into account, so the policy at least in principle may be able to get ahead here.\n",
    "\n",
    "In a typical AMR code, this is usually accounted for by \"buffering\" refined areas, so that refined features do not leave a refined zone before the next regrid phase. This buffering is ad-hoc and doesn't usually take into account, for example, the local direction of advection.\n",
    "\n",
    "Setup PyMFEM:"
   ]
  },
  {
   "cell_type": "code",
   "execution_count": 1,
   "metadata": {},
   "outputs": [],
   "source": [
    "import math\n",
    "from math import cos,sin\n",
    "import random"
   ]
  },
  {
   "cell_type": "code",
   "execution_count": 2,
   "metadata": {},
   "outputs": [
    {
     "name": "stdout",
     "output_type": "stream",
     "text": [
      "WARNING:tensorflow:From /home/rwa/pyvenv/lib/python3.6/site-packages/tensorflow/python/compat/v2_compat.py:96: disable_resource_variables (from tensorflow.python.ops.variable_scope) is deprecated and will be removed in a future version.\n",
      "Instructions for updating:\n",
      "non-resource variables are not supported in the long term\n"
     ]
    }
   ],
   "source": [
    "import sys\n",
    "import gym\n",
    "from gym import spaces, utils\n",
    "import numpy as np\n",
    "import ray\n",
    "import ray.rllib.agents.ppo as ppo"
   ]
  },
  {
   "cell_type": "code",
   "execution_count": 3,
   "metadata": {},
   "outputs": [],
   "source": [
    "from pyglvis import GlvisWidget"
   ]
  },
  {
   "cell_type": "code",
   "execution_count": 4,
   "metadata": {},
   "outputs": [],
   "source": [
    "import matplotlib.pyplot as plt"
   ]
  },
  {
   "cell_type": "code",
   "execution_count": 5,
   "metadata": {
    "scrolled": true
   },
   "outputs": [],
   "source": [
    "from mfem import path\n",
    "import mfem.ser as mfem"
   ]
  },
  {
   "cell_type": "markdown",
   "metadata": {},
   "source": [
    "This is a utility function for using pyglvis"
   ]
  },
  {
   "cell_type": "code",
   "execution_count": 6,
   "metadata": {},
   "outputs": [],
   "source": [
    "def get_solnstream(mesh,soln):\n",
    "    mesh.Print(\",tmpmesh\")\n",
    "    with open(\",tmpmesh\",\"r\") as f:\n",
    "        meshdata = f.read()\n",
    "    soln.Save(\",tmpsoln\")\n",
    "    with open(\",tmpsoln\",\"r\") as f:\n",
    "        solndata = f.read()\n",
    "    solndata = \"solution\\n\"+meshdata+solndata\n",
    "    return solndata"
   ]
  },
  {
   "cell_type": "markdown",
   "metadata": {},
   "source": [
    "Define some synthetic test functions: steps and bumps."
   ]
  },
  {
   "cell_type": "code",
   "execution_count": 7,
   "metadata": {},
   "outputs": [],
   "source": [
    "def rotate(x,theta):\n",
    "    x0 = x[0]\n",
    "    y0 = x[1]\n",
    "    x1 = x0*cos(theta)-y0*sin(theta)\n",
    "    y1 = x0*sin(theta)+y0*cos(theta)\n",
    "    return [x1,y1]"
   ]
  },
  {
   "cell_type": "code",
   "execution_count": 8,
   "metadata": {},
   "outputs": [],
   "source": [
    "def step(x):\n",
    "    x0 = x[0]\n",
    "    if (x0 < 0.0):\n",
    "        return 1.0\n",
    "    else:\n",
    "        return 0.0"
   ]
  },
  {
   "cell_type": "code",
   "execution_count": 9,
   "metadata": {},
   "outputs": [],
   "source": [
    "def rotated_step(x, theta):\n",
    "    xr = rotate(x,theta)\n",
    "    return step(xr)"
   ]
  },
  {
   "cell_type": "code",
   "execution_count": 10,
   "metadata": {},
   "outputs": [],
   "source": [
    "def bump(x):\n",
    "    rsq = x[0]**2 +x[1]**2\n",
    "    return math.exp(-rsq)"
   ]
  },
  {
   "cell_type": "code",
   "execution_count": 11,
   "metadata": {},
   "outputs": [],
   "source": [
    "def smooth_step(x):\n",
    "    return 0.5*(1.0 +math.tanh(x[0]))"
   ]
  },
  {
   "cell_type": "code",
   "execution_count": 12,
   "metadata": {},
   "outputs": [],
   "source": [
    "def rotated_smooth_step(x,theta):\n",
    "    xr = rotate(x,theta)\n",
    "    return smooth_step(xr)"
   ]
  },
  {
   "cell_type": "markdown",
   "metadata": {},
   "source": [
    "Create classes where we can set the parameters and then eval a bunch of points."
   ]
  },
  {
   "cell_type": "code",
   "execution_count": 13,
   "metadata": {},
   "outputs": [],
   "source": [
    "class Step(mfem.PyCoefficient):\n",
    "    \n",
    "    def SetParams(self):\n",
    "        self.theta = random.uniform(0.0, 2.0*math.pi)\n",
    "        self.dx = [random.uniform(-1.0, 1.0),random.uniform(-1.0, 1.0)]\n",
    "        \n",
    "    def EvalValue(self, x):\n",
    "        return rotated_step(x+self.dx, self.theta)"
   ]
  },
  {
   "cell_type": "code",
   "execution_count": 14,
   "metadata": {},
   "outputs": [],
   "source": [
    "class Bump(mfem.PyCoefficient):\n",
    "    \n",
    "    def SetParams(self):\n",
    "        self.width = random.uniform(0.1,1.0)\n",
    "        self.xc = [0.5,0.5]\n",
    "        self.dx = [random.uniform(-0.5, 0.5),random.uniform(-0.5, 0.5)]\n",
    "\n",
    "    def EvalValue(self, x):\n",
    "        return bump((x-self.xc+self.dx)/self.width)"
   ]
  },
  {
   "cell_type": "code",
   "execution_count": 15,
   "metadata": {},
   "outputs": [],
   "source": [
    "class TwoBump(mfem.PyCoefficient):\n",
    "    \n",
    "    def SetParams(self):\n",
    "        self.width1 = random.uniform(0.1,0.5)\n",
    "        self.width2 = random.uniform(0.1,0.5)\n",
    "        self.xc1 = [0.5,0.5]\n",
    "        self.xc2 = [0.5,0.5]\n",
    "        self.dx1 = [random.uniform(-0.5, 0.5),random.uniform(-0.5, 0.5)]\n",
    "        self.dx2 = [random.uniform(-0.5, 0.5),random.uniform(-0.5, 0.5)]\n",
    "\n",
    "    def EvalValue(self, x):\n",
    "        #return max(bump((x-self.xc1+self.dx1)/self.width1),bump((x-self.xc2+self.dx2)/self.width2))\n",
    "        return 0.5*(bump((x-self.xc1+self.dx1)/self.width1)+bump((x-self.xc2+self.dx2)/self.width2))"
   ]
  },
  {
   "cell_type": "code",
   "execution_count": 16,
   "metadata": {},
   "outputs": [],
   "source": [
    "class SmoothStep(mfem.PyCoefficient):\n",
    "    \n",
    "    def SetParams(self):\n",
    "        self.width = random.uniform(5.0, 10.0)\n",
    "        self.xc = [0.5,0.5]\n",
    "        self.theta = random.uniform(0.0, 2.0*math.pi)\n",
    "\n",
    "    def EvalValue(self, x):\n",
    "        x -= self.xc\n",
    "        return rotated_smooth_step(x*self.width, self.theta)"
   ]
  },
  {
   "cell_type": "code",
   "execution_count": 17,
   "metadata": {},
   "outputs": [],
   "source": [
    "class BumpsAndSmoothStep(mfem.PyCoefficient):\n",
    "    \n",
    "    def SetParams(self):\n",
    "        self.bump = Bump()\n",
    "        self.bump.SetParams()\n",
    "        self.smooth_step = SmoothStep()\n",
    "        self.smooth_step.SetParams()\n",
    "\n",
    "    def EvalValue(self, x):\n",
    "        return 0.5*self.bump.EvalValue(x)+0.5*self.smooth_step.EvalValue(x)\n"
   ]
  },
  {
   "cell_type": "markdown",
   "metadata": {},
   "source": [
    "Visualize an instance of the test function. Note that each instance has randomly chosen parameters.  For the steps, it's a rotation angle and a displacement.  For the bumps, it's a width and a displacement."
   ]
  },
  {
   "cell_type": "code",
   "execution_count": 18,
   "metadata": {},
   "outputs": [],
   "source": [
    "mesh = mfem.Mesh('inline-quad.mesh')\n",
    "mesh.UniformRefinement()\n",
    "mesh.UniformRefinement()\n",
    "mesh.UniformRefinement()\n",
    "fec = mfem.L2_FECollection(p=1, dim=2)\n",
    "fes = mfem.FiniteElementSpace(mesh, fec)\n",
    "u = mfem.GridFunction(fes)\n",
    "c = BumpsAndSmoothStep()\n",
    "c.SetParams()\n",
    "u.ProjectCoefficient(c)"
   ]
  },
  {
   "cell_type": "code",
   "execution_count": 19,
   "metadata": {
    "scrolled": true
   },
   "outputs": [
    {
     "data": {
      "application/vnd.jupyter.widget-view+json": {
       "model_id": "907afcf5db6941fbbf386bdd98050116",
       "version_major": 2,
       "version_minor": 0
      },
      "text/plain": [
       "GlvisWidget()"
      ]
     },
     "metadata": {},
     "output_type": "display_data"
    }
   ],
   "source": [
    "gl = GlvisWidget(get_solnstream(mesh,u))\n",
    "gl"
   ]
  },
  {
   "cell_type": "markdown",
   "metadata": {},
   "source": [
    "Create the gym environment."
   ]
  },
  {
   "cell_type": "code",
   "execution_count": 20,
   "metadata": {},
   "outputs": [],
   "source": [
    "class AMRGame(gym.Env):\n",
    "    \n",
    "    class u0_coeff(mfem.PyCoefficient):\n",
    "        \n",
    "        def SetParams(self):\n",
    "            self.fn = BumpsAndSmoothStep()\n",
    "            self.fn.SetParams()\n",
    "            \n",
    "        def EvalValue(self, x):\n",
    "            return self.fn.EvalValue(x)\n",
    "    \n",
    "    def set_displ(self):\n",
    "        self.ud = random.uniform(-1.0, 1.0)\n",
    "        self.vd = random.uniform(-1.0, 1.0)\n",
    "        \n",
    "        # tmp - simpler velocity model\n",
    "        self.ud = 0.0\n",
    "        self.vd = 0.0\n",
    "        alpha = random.uniform(0.0, 1.0)\n",
    "        if (alpha > 0.5):\n",
    "            self.ud = 1.0\n",
    "        else:\n",
    "            self.ud = -1.0\n",
    "\n",
    "        mag = math.sqrt(self.ud**2 +self.vd**2)\n",
    "        nx = math.sqrt(self.mesh.GetNE())\n",
    "        self.ud /= mag\n",
    "        self.ud /= nx\n",
    "        self.vd /= mag\n",
    "        self.vd /= nx\n",
    "            \n",
    "        nv = self.mesh.GetNV()\n",
    "        uda = np.full((nv),self.ud)\n",
    "        vda = np.full((nv),self.vd)\n",
    "        uvda = np.concatenate((uda,vda))\n",
    "        self.displ = mfem.Vector(nv*2)\n",
    "        self.displ.Assign(uvda)\n",
    "        \n",
    "    # In RLlib, you need the config arg\n",
    "    def __init__(self,config):\n",
    "        self.meshfile = 'inline-quad-7.mesh'\n",
    "        \n",
    "        # keep a copy of the unrefined mesh so we can restore it\n",
    "        self.mesh0 = mfem.Mesh(self.meshfile)\n",
    "        self.mesh = mfem.Mesh(self.meshfile)\n",
    "        \n",
    "        # The only reason we need to create a fespace and gf here\n",
    "        # is to find the sizes needed for the action and observation spaces\n",
    "        dim = self.mesh.Dimension()\n",
    "        self.order = 1\n",
    "        self.fec = mfem.L2_FECollection(self.order, dim)\n",
    "        self.fes = mfem.FiniteElementSpace(self.mesh, self.fec)\n",
    "        self.u = mfem.GridFunction(self.fes);\n",
    "\n",
    "        # actions are: refine each element, or do nothing\n",
    "        self.action_space = spaces.Discrete(self.mesh.GetNE())\n",
    "        \n",
    "        # observation space: DOFs plus two velocity components\n",
    "        self.observation_space = spaces.Box(-1.0, 1.0, shape=(self.u.Size()+2,), dtype=np.float32)\n",
    "        \n",
    "        # call reset to create the first synthetic function\n",
    "        self.reset()\n",
    "                \n",
    "    def get_ne(self):\n",
    "        return self.mesh.GetNE()\n",
    "    \n",
    "    def get_size(self):\n",
    "        return self.u.Size()\n",
    "    \n",
    "    # Compute L2 error wrt to the analytic fn definition\n",
    "    def get_error(self):\n",
    "        err = self.u.ComputeL2Error(self.u0)\n",
    "        return err\n",
    "    \n",
    "    # Manually refine the elements, then update and re-project\n",
    "    def refine_elems(self, elems):\n",
    "        self.mesh.GeneralRefinement(mfem.intArray(elems))\n",
    "        self.fes.Update()\n",
    "        self.u.Update()\n",
    "        self.u.ProjectCoefficient(self.u0)\n",
    "        \n",
    "    # action is the number of the element to refine\n",
    "    def step(self, action):\n",
    "        err1 = self.get_error()\n",
    "        self.mesh.MoveVertices(self.displ)\n",
    "        self.refine_elems([action])\n",
    "        \n",
    "        err2 = self.get_error()\n",
    "        reward = err1-err2\n",
    "        done = True\n",
    "        \n",
    "        obs = self.u.GetDataArray()\n",
    "        obs = np.append(obs,[self.ud, self.vd])\n",
    "        return np.array(obs), reward, done, {}\n",
    "    \n",
    "    # similar to reset, but do not choose a new function\n",
    "    def reinit(self):\n",
    "        del self.mesh\n",
    "        self.mesh = mfem.Mesh(self.mesh0)\n",
    "\n",
    "        del self.fes\n",
    "        self.fes = mfem.FiniteElementSpace(self.mesh, self.fec)\n",
    "\n",
    "        del self.u\n",
    "        self.u = mfem.GridFunction(self.fes)\n",
    "        self.u.ProjectCoefficient(self.u0)\n",
    "        \n",
    "        obs = self.u.GetDataArray()\n",
    "        obs = np.append(obs,[self.ud, self.vd])\n",
    "        return np.array(obs)\n",
    "    \n",
    "    # every reset of the env chooses a new synthetic function\n",
    "    def reset(self):\n",
    "        self.u0 = self.u0_coeff()\n",
    "        \n",
    "        # set the random function parameters\n",
    "        self.u0.SetParams()\n",
    "        \n",
    "        # set the random mesh displacement\n",
    "        self.set_displ()\n",
    "        \n",
    "        return self.reinit()\n",
    "    \n",
    "    def render(self):\n",
    "        return GlvisWidget(get_solnstream(self.mesh,self.u))"
   ]
  },
  {
   "cell_type": "markdown",
   "metadata": {},
   "source": [
    "Instantiate the environment and sanity check it."
   ]
  },
  {
   "cell_type": "code",
   "execution_count": 21,
   "metadata": {},
   "outputs": [],
   "source": [
    "env = AMRGame(None)"
   ]
  },
  {
   "cell_type": "code",
   "execution_count": 22,
   "metadata": {},
   "outputs": [],
   "source": [
    "env = AMRGame(None)\n",
    "obs = env.reset()"
   ]
  },
  {
   "cell_type": "code",
   "execution_count": 23,
   "metadata": {},
   "outputs": [
    {
     "data": {
      "application/vnd.jupyter.widget-view+json": {
       "model_id": "44c5adb45a9c45b1ae02ea64c2b041cb",
       "version_major": 2,
       "version_minor": 0
      },
      "text/plain": [
       "GlvisWidget()"
      ]
     },
     "metadata": {},
     "output_type": "display_data"
    }
   ],
   "source": [
    "env.render()"
   ]
  },
  {
   "cell_type": "code",
   "execution_count": 24,
   "metadata": {
    "scrolled": true
   },
   "outputs": [],
   "source": [
    "state, reward, done, info = env.step(0)"
   ]
  },
  {
   "cell_type": "code",
   "execution_count": 25,
   "metadata": {
    "scrolled": true
   },
   "outputs": [
    {
     "data": {
      "application/vnd.jupyter.widget-view+json": {
       "model_id": "eb85df7173c541af821804c40740117d",
       "version_major": 2,
       "version_minor": 0
      },
      "text/plain": [
       "GlvisWidget()"
      ]
     },
     "metadata": {},
     "output_type": "display_data"
    }
   ],
   "source": [
    "env.render()"
   ]
  },
  {
   "cell_type": "markdown",
   "metadata": {},
   "source": [
    "Show with refinement of element 0. Then we'll test resetting it to the original state.  We're going to need this to go through a searching for the best actions."
   ]
  },
  {
   "cell_type": "code",
   "execution_count": 26,
   "metadata": {
    "scrolled": true
   },
   "outputs": [
    {
     "data": {
      "application/vnd.jupyter.widget-view+json": {
       "model_id": "d821ec2251084c6e8b4ffbc6faf95f64",
       "version_major": 2,
       "version_minor": 0
      },
      "text/plain": [
       "GlvisWidget()"
      ]
     },
     "metadata": {},
     "output_type": "display_data"
    }
   ],
   "source": [
    "env.reinit()\n",
    "env.render()"
   ]
  },
  {
   "cell_type": "markdown",
   "metadata": {},
   "source": [
    "Ok, try training a policy"
   ]
  },
  {
   "cell_type": "code",
   "execution_count": 27,
   "metadata": {},
   "outputs": [
    {
     "name": "stderr",
     "output_type": "stream",
     "text": [
      "2021-02-14 22:05:27,974\tINFO services.py:1173 -- View the Ray dashboard at \u001b[1m\u001b[32mhttp://127.0.0.1:8267\u001b[39m\u001b[22m\n"
     ]
    },
    {
     "data": {
      "text/plain": [
       "{'num_workers': 3,\n",
       " 'num_envs_per_worker': 1,\n",
       " 'create_env_on_driver': False,\n",
       " 'rollout_fragment_length': 200,\n",
       " 'batch_mode': 'truncate_episodes',\n",
       " 'num_gpus': 0,\n",
       " 'train_batch_size': 10000,\n",
       " 'model': {'fcnet_hiddens': [256, 256],\n",
       "  'fcnet_activation': 'tanh',\n",
       "  'conv_filters': None,\n",
       "  'conv_activation': 'relu',\n",
       "  'free_log_std': False,\n",
       "  'no_final_linear': False,\n",
       "  'vf_share_layers': True,\n",
       "  'use_lstm': False,\n",
       "  'max_seq_len': 20,\n",
       "  'lstm_cell_size': 256,\n",
       "  'lstm_use_prev_action': False,\n",
       "  'lstm_use_prev_reward': False,\n",
       "  '_time_major': False,\n",
       "  'framestack': True,\n",
       "  'dim': 84,\n",
       "  'grayscale': False,\n",
       "  'zero_mean': True,\n",
       "  'custom_model': None,\n",
       "  'custom_model_config': {},\n",
       "  'custom_action_dist': None,\n",
       "  'custom_preprocessor': None,\n",
       "  'lstm_use_prev_action_reward': -1},\n",
       " 'optimizer': {},\n",
       " 'gamma': 0.99,\n",
       " 'horizon': None,\n",
       " 'soft_horizon': False,\n",
       " 'no_done_at_end': False,\n",
       " 'env_config': {},\n",
       " 'env': None,\n",
       " 'normalize_actions': False,\n",
       " 'clip_rewards': None,\n",
       " 'clip_actions': True,\n",
       " 'preprocessor_pref': 'deepmind',\n",
       " 'lr': 5e-05,\n",
       " 'monitor': False,\n",
       " 'log_level': 'WARN',\n",
       " 'callbacks': ray.rllib.agents.callbacks.DefaultCallbacks,\n",
       " 'ignore_worker_failures': False,\n",
       " 'log_sys_usage': True,\n",
       " 'fake_sampler': False,\n",
       " 'framework': 'tfe',\n",
       " 'eager_tracing': False,\n",
       " 'explore': True,\n",
       " 'exploration_config': {'type': 'StochasticSampling'},\n",
       " 'evaluation_interval': None,\n",
       " 'evaluation_num_episodes': 10,\n",
       " 'in_evaluation': False,\n",
       " 'evaluation_config': {},\n",
       " 'evaluation_num_workers': 0,\n",
       " 'custom_eval_function': None,\n",
       " 'sample_async': False,\n",
       " '_use_trajectory_view_api': True,\n",
       " 'observation_filter': 'NoFilter',\n",
       " 'synchronize_filters': True,\n",
       " 'tf_session_args': {'intra_op_parallelism_threads': 2,\n",
       "  'inter_op_parallelism_threads': 2,\n",
       "  'gpu_options': {'allow_growth': True},\n",
       "  'log_device_placement': False,\n",
       "  'device_count': {'CPU': 1},\n",
       "  'allow_soft_placement': True},\n",
       " 'local_tf_session_args': {'intra_op_parallelism_threads': 8,\n",
       "  'inter_op_parallelism_threads': 8},\n",
       " 'compress_observations': False,\n",
       " 'collect_metrics_timeout': 180,\n",
       " 'metrics_smoothing_episodes': 100,\n",
       " 'remote_worker_envs': False,\n",
       " 'remote_env_batch_wait_ms': 0,\n",
       " 'min_iter_time_s': 0,\n",
       " 'timesteps_per_iteration': 0,\n",
       " 'seed': None,\n",
       " 'extra_python_environs_for_driver': {},\n",
       " 'extra_python_environs_for_worker': {},\n",
       " 'num_cpus_per_worker': 1,\n",
       " 'num_gpus_per_worker': 0,\n",
       " 'custom_resources_per_worker': {},\n",
       " 'num_cpus_for_driver': 1,\n",
       " 'memory': 0,\n",
       " 'object_store_memory': 0,\n",
       " 'memory_per_worker': 0,\n",
       " 'object_store_memory_per_worker': 0,\n",
       " 'input': 'sampler',\n",
       " 'input_evaluation': ['is', 'wis'],\n",
       " 'postprocess_inputs': False,\n",
       " 'shuffle_buffer_size': 0,\n",
       " 'output': None,\n",
       " 'output_compress_columns': ['obs', 'new_obs'],\n",
       " 'output_max_file_size': 67108864,\n",
       " 'multiagent': {'policies': {},\n",
       "  'policy_mapping_fn': None,\n",
       "  'policies_to_train': None,\n",
       "  'observation_fn': None,\n",
       "  'replay_mode': 'independent'},\n",
       " 'logger_config': None,\n",
       " 'replay_sequence_length': 1,\n",
       " 'use_critic': True,\n",
       " 'use_gae': True,\n",
       " 'lambda': 1.0,\n",
       " 'kl_coeff': 0.2,\n",
       " 'sgd_minibatch_size': 128,\n",
       " 'shuffle_sequences': True,\n",
       " 'num_sgd_iter': 30,\n",
       " 'lr_schedule': None,\n",
       " 'vf_share_layers': False,\n",
       " 'vf_loss_coeff': 1.0,\n",
       " 'entropy_coeff': 0.0,\n",
       " 'entropy_coeff_schedule': None,\n",
       " 'clip_param': 0.3,\n",
       " 'vf_clip_param': 10.0,\n",
       " 'grad_clip': None,\n",
       " 'kl_target': 0.01,\n",
       " 'simple_optimizer': False,\n",
       " '_fake_gpus': False}"
      ]
     },
     "execution_count": 27,
     "metadata": {},
     "output_type": "execute_result"
    }
   ],
   "source": [
    "ray.shutdown()\n",
    "# This env setting is necessary to avoid problems within rllib due to serialization and workers\n",
    "ray.init(ignore_reinit_error=True)\n",
    "config = ppo.DEFAULT_CONFIG.copy()\n",
    "config['train_batch_size'] = int(1e4)\n",
    "config['num_workers'] = 3\n",
    "config['framework'] = 'tfe'\n",
    "config"
   ]
  },
  {
   "cell_type": "code",
   "execution_count": 28,
   "metadata": {},
   "outputs": [
    {
     "name": "stderr",
     "output_type": "stream",
     "text": [
      "2021-02-14 22:05:30,575\tINFO trainer.py:588 -- Executing eagerly, with eager_tracing=False\n",
      "2021-02-14 22:05:30,576\tINFO trainer.py:618 -- Current log_level is WARN. For more information, set 'log_level': 'INFO' / 'DEBUG' or use the -v and -vv flags.\n",
      "\u001b[2m\u001b[36m(pid=18092)\u001b[0m WARNING:tensorflow:From /home/rwa/pyvenv/lib/python3.6/site-packages/tensorflow/python/compat/v2_compat.py:96: disable_resource_variables (from tensorflow.python.ops.variable_scope) is deprecated and will be removed in a future version.\n",
      "\u001b[2m\u001b[36m(pid=18092)\u001b[0m Instructions for updating:\n",
      "\u001b[2m\u001b[36m(pid=18092)\u001b[0m non-resource variables are not supported in the long term\n",
      "\u001b[2m\u001b[36m(pid=18090)\u001b[0m WARNING:tensorflow:From /home/rwa/pyvenv/lib/python3.6/site-packages/tensorflow/python/compat/v2_compat.py:96: disable_resource_variables (from tensorflow.python.ops.variable_scope) is deprecated and will be removed in a future version.\n",
      "\u001b[2m\u001b[36m(pid=18090)\u001b[0m Instructions for updating:\n",
      "\u001b[2m\u001b[36m(pid=18090)\u001b[0m non-resource variables are not supported in the long term\n",
      "\u001b[2m\u001b[36m(pid=18093)\u001b[0m WARNING:tensorflow:From /home/rwa/pyvenv/lib/python3.6/site-packages/tensorflow/python/compat/v2_compat.py:96: disable_resource_variables (from tensorflow.python.ops.variable_scope) is deprecated and will be removed in a future version.\n",
      "\u001b[2m\u001b[36m(pid=18093)\u001b[0m Instructions for updating:\n",
      "\u001b[2m\u001b[36m(pid=18093)\u001b[0m non-resource variables are not supported in the long term\n",
      "2021-02-14 22:05:33,977\tWARNING util.py:43 -- Install gputil for GPU system monitoring.\n"
     ]
    }
   ],
   "source": [
    "\n",
    "config['train_batch_size'] = int(1e3)\n",
    "agent = ppo.PPOTrainer(config, env=AMRGame)"
   ]
  },
  {
   "cell_type": "code",
   "execution_count": 29,
   "metadata": {},
   "outputs": [
    {
     "name": "stderr",
     "output_type": "stream",
     "text": [
      "\u001b[2m\u001b[36m(pid=18093)\u001b[0m 2021-02-14 22:05:33,993\tWARNING deprecation.py:30 -- DeprecationWarning: `env_index` has been deprecated. Use `episode.env_id` instead. This will raise an error in the future!\n",
      "\u001b[2m\u001b[36m(pid=18090)\u001b[0m /home/rwa/pyvenv/lib/python3.6/site-packages/ray/rllib/evaluation/collectors/simple_list_collector.py:31: VisibleDeprecationWarning: Creating an ndarray from ragged nested sequences (which is a list-or-tuple of lists-or-tuples-or ndarrays with different lengths or shapes) is deprecated. If you meant to do this, you must specify 'dtype=object' when creating the ndarray\n",
      "\u001b[2m\u001b[36m(pid=18090)\u001b[0m   arr = np.array(v)\n",
      "\u001b[2m\u001b[36m(pid=18092)\u001b[0m /home/rwa/pyvenv/lib/python3.6/site-packages/ray/rllib/evaluation/collectors/simple_list_collector.py:31: VisibleDeprecationWarning: Creating an ndarray from ragged nested sequences (which is a list-or-tuple of lists-or-tuples-or ndarrays with different lengths or shapes) is deprecated. If you meant to do this, you must specify 'dtype=object' when creating the ndarray\n",
      "\u001b[2m\u001b[36m(pid=18092)\u001b[0m   arr = np.array(v)\n",
      "\u001b[2m\u001b[36m(pid=18093)\u001b[0m /home/rwa/pyvenv/lib/python3.6/site-packages/ray/rllib/evaluation/collectors/simple_list_collector.py:31: VisibleDeprecationWarning: Creating an ndarray from ragged nested sequences (which is a list-or-tuple of lists-or-tuples-or ndarrays with different lengths or shapes) is deprecated. If you meant to do this, you must specify 'dtype=object' when creating the ndarray\n",
      "\u001b[2m\u001b[36m(pid=18093)\u001b[0m   arr = np.array(v)\n"
     ]
    },
    {
     "name": "stdout",
     "output_type": "stream",
     "text": [
      "WARNING:tensorflow:From /home/rwa/pyvenv/lib/python3.6/site-packages/ray/rllib/policy/tf_policy.py:852: Variable.load (from tensorflow.python.ops.variables) is deprecated and will be removed in a future version.\n",
      "Instructions for updating:\n",
      "Prefer Variable.assign which has equivalent behavior in 2.X.\n",
      "episode reward mean: -0.000135 \n",
      "CPU times: user 7.22 s, sys: 225 ms, total: 7.45 s\n",
      "Wall time: 16.6 s\n"
     ]
    },
    {
     "name": "stderr",
     "output_type": "stream",
     "text": [
      "\u001b[2m\u001b[36m(pid=18090)\u001b[0m WARNING:tensorflow:From /home/rwa/pyvenv/lib/python3.6/site-packages/ray/rllib/policy/tf_policy.py:852: Variable.load (from tensorflow.python.ops.variables) is deprecated and will be removed in a future version.\n",
      "\u001b[2m\u001b[36m(pid=18090)\u001b[0m Instructions for updating:\n",
      "\u001b[2m\u001b[36m(pid=18090)\u001b[0m Prefer Variable.assign which has equivalent behavior in 2.X.\n",
      "\u001b[2m\u001b[36m(pid=18093)\u001b[0m WARNING:tensorflow:From /home/rwa/pyvenv/lib/python3.6/site-packages/ray/rllib/policy/tf_policy.py:852: Variable.load (from tensorflow.python.ops.variables) is deprecated and will be removed in a future version.\n",
      "\u001b[2m\u001b[36m(pid=18093)\u001b[0m Instructions for updating:\n",
      "\u001b[2m\u001b[36m(pid=18093)\u001b[0m Prefer Variable.assign which has equivalent behavior in 2.X.\n"
     ]
    }
   ],
   "source": [
    "%%time\n",
    "for n in range(1):\n",
    "    result = agent.train()\n",
    "    print(\"episode reward mean: %f \" % result[\"episode_reward_mean\"])"
   ]
  },
  {
   "cell_type": "code",
   "execution_count": 30,
   "metadata": {
    "scrolled": true
   },
   "outputs": [
    {
     "name": "stdout",
     "output_type": "stream",
     "text": [
      "Model: \"model\"\n",
      "__________________________________________________________________________________________________\n",
      "Layer (type)                    Output Shape         Param #     Connected to                     \n",
      "==================================================================================================\n",
      "observations (InputLayer)       [(None, 198)]        0                                            \n",
      "__________________________________________________________________________________________________\n",
      "fc_1 (Dense)                    (None, 256)          50944       observations[0][0]               \n",
      "__________________________________________________________________________________________________\n",
      "fc_value_1 (Dense)              (None, 256)          50944       observations[0][0]               \n",
      "__________________________________________________________________________________________________\n",
      "fc_2 (Dense)                    (None, 256)          65792       fc_1[0][0]                       \n",
      "__________________________________________________________________________________________________\n",
      "fc_value_2 (Dense)              (None, 256)          65792       fc_value_1[0][0]                 \n",
      "__________________________________________________________________________________________________\n",
      "fc_out (Dense)                  (None, 49)           12593       fc_2[0][0]                       \n",
      "__________________________________________________________________________________________________\n",
      "value_out (Dense)               (None, 1)            257         fc_value_2[0][0]                 \n",
      "==================================================================================================\n",
      "Total params: 246,322\n",
      "Trainable params: 246,322\n",
      "Non-trainable params: 0\n",
      "__________________________________________________________________________________________________\n",
      "None\n"
     ]
    }
   ],
   "source": [
    "policy = agent.get_policy()\n",
    "model = policy.model\n",
    "print(model.base_model.summary())"
   ]
  },
  {
   "cell_type": "markdown",
   "metadata": {},
   "source": [
    "Create a convenience function for applying a policy to a given observation"
   ]
  },
  {
   "cell_type": "code",
   "execution_count": 31,
   "metadata": {},
   "outputs": [],
   "source": [
    "def apply_policy(model, obs):\n",
    "    action = agent.compute_action(obs, explore=False) # use deterministic mode\n",
    "    state, reward, done, info = env.step(action)\n",
    "    #print(\"policy chooses action %d with reward %f\" % (action, reward))\n",
    "    return action, reward"
   ]
  },
  {
   "cell_type": "code",
   "execution_count": 32,
   "metadata": {},
   "outputs": [
    {
     "name": "stderr",
     "output_type": "stream",
     "text": [
      "\u001b[2m\u001b[36m(pid=18092)\u001b[0m WARNING:tensorflow:From /home/rwa/pyvenv/lib/python3.6/site-packages/ray/rllib/policy/tf_policy.py:852: Variable.load (from tensorflow.python.ops.variables) is deprecated and will be removed in a future version.\n",
      "\u001b[2m\u001b[36m(pid=18092)\u001b[0m Instructions for updating:\n",
      "\u001b[2m\u001b[36m(pid=18092)\u001b[0m Prefer Variable.assign which has equivalent behavior in 2.X.\n"
     ]
    },
    {
     "data": {
      "application/vnd.jupyter.widget-view+json": {
       "model_id": "5a56897d022b4fa29b6b2fb52db5219f",
       "version_major": 2,
       "version_minor": 0
      },
      "text/plain": [
       "GlvisWidget()"
      ]
     },
     "metadata": {},
     "output_type": "display_data"
    }
   ],
   "source": [
    "obs = env.reset()\n",
    "env.render()"
   ]
  },
  {
   "cell_type": "code",
   "execution_count": 33,
   "metadata": {},
   "outputs": [
    {
     "data": {
      "application/vnd.jupyter.widget-view+json": {
       "model_id": "21da824936f24de58d7cbf6826faf64a",
       "version_major": 2,
       "version_minor": 0
      },
      "text/plain": [
       "GlvisWidget()"
      ]
     },
     "metadata": {},
     "output_type": "display_data"
    }
   ],
   "source": [
    "action, reward = apply_policy(model, obs)\n",
    "action, reward\n",
    "env.render()"
   ]
  },
  {
   "cell_type": "code",
   "execution_count": 34,
   "metadata": {
    "scrolled": true
   },
   "outputs": [
    {
     "data": {
      "text/plain": [
       "(37, -0.0007983550520610262)"
      ]
     },
     "execution_count": 34,
     "metadata": {},
     "output_type": "execute_result"
    }
   ],
   "source": [
    "obs = env.reinit()\n",
    "action, reward = apply_policy(model, obs)\n",
    "action, reward"
   ]
  },
  {
   "cell_type": "code",
   "execution_count": 35,
   "metadata": {},
   "outputs": [
    {
     "data": {
      "application/vnd.jupyter.widget-view+json": {
       "model_id": "7d04397602ad4f07ba173dd182b4b89e",
       "version_major": 2,
       "version_minor": 0
      },
      "text/plain": [
       "GlvisWidget()"
      ]
     },
     "metadata": {},
     "output_type": "display_data"
    }
   ],
   "source": [
    "env.render()"
   ]
  },
  {
   "cell_type": "markdown",
   "metadata": {},
   "source": [
    "Brute force search for the best choice by trying each one, remembering to reset the environment after each action and after we're done."
   ]
  },
  {
   "cell_type": "code",
   "execution_count": 36,
   "metadata": {
    "scrolled": true
   },
   "outputs": [],
   "source": [
    "def find_optimal(obs):\n",
    "    u0 = mfem.Vector(obs)\n",
    "    maxr = 0.0;\n",
    "    maxel = -1;\n",
    "    env.reinit()\n",
    "    ne = env.get_ne()\n",
    "    for n in range(ne):\n",
    "        env.reinit()\n",
    "        state, reward, done, info = env.step(n)\n",
    "        if reward > maxr:\n",
    "            maxr = reward\n",
    "            maxel = n\n",
    "    #print(\"max reward is %f by refining element %d\" % (maxr, maxel))\n",
    "    env.reinit()\n",
    "    return maxel, maxr"
   ]
  },
  {
   "cell_type": "code",
   "execution_count": 37,
   "metadata": {
    "scrolled": false
   },
   "outputs": [
    {
     "data": {
      "application/vnd.jupyter.widget-view+json": {
       "model_id": "a04e0087be5f4014a6b1251f664db7c3",
       "version_major": 2,
       "version_minor": 0
      },
      "text/plain": [
       "GlvisWidget()"
      ]
     },
     "metadata": {},
     "output_type": "display_data"
    }
   ],
   "source": [
    "obs = env.reinit()\n",
    "maxel, maxr = find_optimal(obs)\n",
    "env.step(maxel)\n",
    "env.render()"
   ]
  },
  {
   "cell_type": "markdown",
   "metadata": {},
   "source": [
    "Compare with what the policy does:"
   ]
  },
  {
   "cell_type": "code",
   "execution_count": 38,
   "metadata": {
    "scrolled": true
   },
   "outputs": [
    {
     "data": {
      "application/vnd.jupyter.widget-view+json": {
       "model_id": "11e21c2598c04b899950e9aea5f2bba2",
       "version_major": 2,
       "version_minor": 0
      },
      "text/plain": [
       "GlvisWidget()"
      ]
     },
     "metadata": {},
     "output_type": "display_data"
    }
   ],
   "source": [
    "env.reinit()\n",
    "apply_policy(model,obs)\n",
    "env.render()"
   ]
  },
  {
   "cell_type": "markdown",
   "metadata": {},
   "source": [
    "Define an error estimator based on the difference between the discontinuous and continuous representations. This is only valid for L2 FE spaces."
   ]
  },
  {
   "cell_type": "code",
   "execution_count": 39,
   "metadata": {},
   "outputs": [],
   "source": [
    "def find_dgjumps(env):\n",
    "    \n",
    "    mesh = env.mesh\n",
    "    u = env.u\n",
    "    \n",
    "    # put the L2 gridfunction into a coefficient so we can project it\n",
    "    u_disc_coeff = mfem.GridFunctionCoefficient(u)\n",
    "    h1_fec = mfem.H1_FECollection(p=1, dim=2)\n",
    "    h1_fes = mfem.FiniteElementSpace(mesh, h1_fec)\n",
    "    u_h1 = mfem.GridFunction(h1_fes)\n",
    "    u_h1.ProjectDiscCoefficient(u_disc_coeff, mfem.GridFunction.ARITHMETIC)\n",
    "    \n",
    "    # put the H1 smoothed function into a coefficient\n",
    "    u_h1_coeff = mfem.GridFunctionCoefficient(u_h1)\n",
    "    \n",
    "    # create a 0-order L2 field to hold errors\n",
    "    l2_0_fec = mfem.L2_FECollection(p=0,dim=2)\n",
    "    l2_0_fes = mfem.FiniteElementSpace(mesh,l2_0_fec)\n",
    "\n",
    "    # Compute elementwise \"errors\" between continuous and discontinuous fields\n",
    "    err_gf = mfem.GridFunction(l2_0_fes);\n",
    "    u.ComputeElementL2Errors(u_h1_coeff, err_gf);\n",
    "    \n",
    "    best_action = np.argmax(err_gf.GetDataArray())\n",
    "    \n",
    "    state, reward, done, info = env.step(best_action)\n",
    "    env.reinit()\n",
    "\n",
    "    return best_action, reward"
   ]
  },
  {
   "cell_type": "code",
   "execution_count": 40,
   "metadata": {
    "scrolled": true
   },
   "outputs": [
    {
     "data": {
      "application/vnd.jupyter.widget-view+json": {
       "model_id": "f8aecaaf5d96435db8ca19c26436ae89",
       "version_major": 2,
       "version_minor": 0
      },
      "text/plain": [
       "GlvisWidget()"
      ]
     },
     "metadata": {},
     "output_type": "display_data"
    }
   ],
   "source": [
    "env.reinit()\n",
    "action, reward = find_dgjumps(env)\n",
    "env.step(action)\n",
    "env.render()"
   ]
  },
  {
   "cell_type": "markdown",
   "metadata": {},
   "source": [
    "A random policy gives us a scale for the low end."
   ]
  },
  {
   "cell_type": "code",
   "execution_count": 41,
   "metadata": {},
   "outputs": [],
   "source": [
    "def apply_random_policy(obs):\n",
    "    ne = env.get_ne()\n",
    "    ir = np.random.randint(0,ne)\n",
    "    state, reward, done, info = env.step(ir)\n",
    "    env.reinit()\n",
    "    return ir, reward"
   ]
  },
  {
   "cell_type": "markdown",
   "metadata": {},
   "source": [
    "Run a more systematic evaluation using an ensemble of samples:"
   ]
  },
  {
   "cell_type": "code",
   "execution_count": 42,
   "metadata": {},
   "outputs": [],
   "source": [
    "def eval_ensemble(model, ntrials):\n",
    "    \n",
    "    ncorrect = 0\n",
    "    sumsq = 0.0\n",
    "    maxerrsq = 0.0\n",
    "    \n",
    "    dg_ncorrect = 0\n",
    "    dg_sumsq = 0.0\n",
    "    dg_maxerrsq = 0.0\n",
    "    \n",
    "    rand_ncorrect = 0\n",
    "    rand_sumsq = 0.0\n",
    "    rand_maxerrsq = 0.0\n",
    "    for n in range(ntrials):\n",
    "        obs = env.reset()\n",
    "        \n",
    "        bestaction, bestreward = find_optimal(obs) # this reinits\n",
    "        dgaction, dgreward = find_dgjumps(env)     # this reinits\n",
    "        action, reward = apply_policy(model,obs)   # this doesn't reinit\n",
    "        env.reinit()\n",
    "        rand_action, rand_reward = apply_random_policy(obs)\n",
    "        \n",
    "        err = bestreward-reward\n",
    "        maxerrsq = max(err**2,maxerrsq)\n",
    "        sumsq += err**2\n",
    "        \n",
    "        dg_err = bestreward-dgreward\n",
    "        dg_maxerrsq = max(dg_err**2,dg_maxerrsq)\n",
    "        dg_sumsq += dg_err**2\n",
    "        \n",
    "        rand_err = bestreward-rand_reward\n",
    "        rand_maxerrsq = max(rand_err**2,rand_maxerrsq)\n",
    "        rand_sumsq += rand_err**2\n",
    "        \n",
    "        if (bestaction == action):\n",
    "            ncorrect += 1\n",
    "        if (bestaction == dgaction):\n",
    "            dg_ncorrect += 1\n",
    "        if (bestaction == rand_action):\n",
    "            rand_ncorrect += 1\n",
    "    \n",
    "    rms = math.sqrt(sumsq/ntrials)\n",
    "    corr = 100.*ncorrect/ntrials\n",
    "    print(\"policy rms error: \",rms,flush=True)\n",
    "    print(\"policy max sq error: \",math.sqrt(maxerrsq),flush=True)\n",
    "    print(\"policy % correct: \",corr,flush=True)\n",
    "    \n",
    "    dg_rms = math.sqrt(dg_sumsq/ntrials)\n",
    "    dg_corr = 100.*dg_ncorrect/ntrials\n",
    "    print(\"dg rms error: \",dg_rms,flush=True)\n",
    "    print(\"dg max sq error: \",math.sqrt(dg_maxerrsq),flush=True)\n",
    "    print(\"dg % correct: \",dg_corr,flush=True)\n",
    "    \n",
    "    rand_rms = math.sqrt(rand_sumsq/ntrials)\n",
    "    rand_corr = 100.*rand_ncorrect/ntrials\n",
    "    print(\"rand rms error: \",rand_rms,flush=True)\n",
    "    print(\"rand max sq error: \",math.sqrt(rand_maxerrsq),flush=True)\n",
    "    print(\"rand % correct: \",rand_corr,flush=True)\n",
    "    \n",
    "    return rms, math.sqrt(maxerrsq), corr, dg_rms, math.sqrt(dg_maxerrsq), dg_corr, rand_rms, math.sqrt(rand_maxerrsq), rand_corr"
   ]
  },
  {
   "cell_type": "markdown",
   "metadata": {
    "scrolled": true
   },
   "source": [
    "eval_ensemble(model, 100)"
   ]
  },
  {
   "cell_type": "markdown",
   "metadata": {},
   "source": [
    "Run a few eval sample sizes to get a sense of how many are needed to estimate the metrics of the policy"
   ]
  },
  {
   "cell_type": "markdown",
   "metadata": {},
   "source": [
    "eval_ensemble(model, 200)"
   ]
  },
  {
   "cell_type": "markdown",
   "metadata": {},
   "source": [
    "eval_ensemble(model, 400)"
   ]
  },
  {
   "cell_type": "markdown",
   "metadata": {},
   "source": [
    "Let's see if the training process is making progress:"
   ]
  },
  {
   "cell_type": "code",
   "execution_count": 43,
   "metadata": {},
   "outputs": [],
   "source": [
    "def train_phase(nbatches, neval):\n",
    "    start_batches = len(rms)\n",
    "    for n in range(nbatches):\n",
    "        done_batches = len(rms)\n",
    "        print(\"training batch %d/%d (%d episodes)\" % (done_batches,start_batches+nbatches,batch_size))\n",
    "        agent.train()\n",
    "        agent.save()\n",
    "        print(\"evaluating on %d instances...\" %  neval)\n",
    "        rms0, maxerr0, cor0, dg_rms0, dg_maxerr0, dg_cor0, rand_rms0, rand_maxerr0, rand_cor0 = eval_ensemble(model, neval)\n",
    "        rms.append(rms0)\n",
    "        maxerr.append(maxerr0)\n",
    "        cor.append(cor0)\n",
    "        dg_rms.append(dg_rms0)\n",
    "        dg_maxerr.append(dg_maxerr0)\n",
    "        dg_cor.append(dg_cor0)\n",
    "        rand_rms.append(rand_rms0)\n",
    "        rand_maxerr.append(rand_maxerr0)\n",
    "        rand_cor.append(rand_cor0)"
   ]
  },
  {
   "cell_type": "code",
   "execution_count": 44,
   "metadata": {
    "scrolled": true
   },
   "outputs": [
    {
     "name": "stderr",
     "output_type": "stream",
     "text": [
      "\u001b[2m\u001b[36m(pid=18091)\u001b[0m WARNING:tensorflow:From /home/rwa/pyvenv/lib/python3.6/site-packages/tensorflow/python/compat/v2_compat.py:96: disable_resource_variables (from tensorflow.python.ops.variable_scope) is deprecated and will be removed in a future version.\n",
      "\u001b[2m\u001b[36m(pid=18091)\u001b[0m Instructions for updating:\n",
      "\u001b[2m\u001b[36m(pid=18091)\u001b[0m non-resource variables are not supported in the long term\n",
      "2021-02-14 22:05:54,578\tWARNING util.py:43 -- Install gputil for GPU system monitoring.\n"
     ]
    }
   ],
   "source": [
    "phase_episodes = 5.e5\n",
    "nbatches = 5\n",
    "batch_size = phase_episodes/nbatches\n",
    "neval = 400\n",
    "\n",
    "del agent\n",
    "config['train_batch_size'] = int(batch_size)\n",
    "agent = ppo.PPOTrainer(config, env=AMRGame)\n",
    "policy = agent.get_policy()\n",
    "model = policy.model\n",
    "\n",
    "rms = []\n",
    "maxerr = []\n",
    "cor = []\n",
    "dg_rms = []\n",
    "dg_maxerr = []\n",
    "dg_cor = []\n",
    "rand_rms = []\n",
    "rand_maxerr = []\n",
    "rand_cor = []"
   ]
  },
  {
   "cell_type": "code",
   "execution_count": 45,
   "metadata": {},
   "outputs": [
    {
     "name": "stdout",
     "output_type": "stream",
     "text": [
      "training batch 0/5 (100000 episodes)\n"
     ]
    },
    {
     "name": "stderr",
     "output_type": "stream",
     "text": [
      "\u001b[2m\u001b[36m(pid=18365)\u001b[0m WARNING:tensorflow:From /home/rwa/pyvenv/lib/python3.6/site-packages/tensorflow/python/compat/v2_compat.py:96: disable_resource_variables (from tensorflow.python.ops.variable_scope) is deprecated and will be removed in a future version.\n",
      "\u001b[2m\u001b[36m(pid=18365)\u001b[0m Instructions for updating:\n",
      "\u001b[2m\u001b[36m(pid=18365)\u001b[0m non-resource variables are not supported in the long term\n",
      "\u001b[2m\u001b[36m(pid=18367)\u001b[0m WARNING:tensorflow:From /home/rwa/pyvenv/lib/python3.6/site-packages/tensorflow/python/compat/v2_compat.py:96: disable_resource_variables (from tensorflow.python.ops.variable_scope) is deprecated and will be removed in a future version.\n",
      "\u001b[2m\u001b[36m(pid=18367)\u001b[0m Instructions for updating:\n",
      "\u001b[2m\u001b[36m(pid=18367)\u001b[0m non-resource variables are not supported in the long term\n",
      "\u001b[2m\u001b[36m(pid=18091)\u001b[0m 2021-02-14 22:05:57,920\tWARNING deprecation.py:30 -- DeprecationWarning: `env_index` has been deprecated. Use `episode.env_id` instead. This will raise an error in the future!\n",
      "\u001b[2m\u001b[36m(pid=18091)\u001b[0m /home/rwa/pyvenv/lib/python3.6/site-packages/ray/rllib/evaluation/collectors/simple_list_collector.py:31: VisibleDeprecationWarning: Creating an ndarray from ragged nested sequences (which is a list-or-tuple of lists-or-tuples-or ndarrays with different lengths or shapes) is deprecated. If you meant to do this, you must specify 'dtype=object' when creating the ndarray\n",
      "\u001b[2m\u001b[36m(pid=18091)\u001b[0m   arr = np.array(v)\n",
      "\u001b[2m\u001b[36m(pid=18365)\u001b[0m /home/rwa/pyvenv/lib/python3.6/site-packages/ray/rllib/evaluation/collectors/simple_list_collector.py:31: VisibleDeprecationWarning: Creating an ndarray from ragged nested sequences (which is a list-or-tuple of lists-or-tuples-or ndarrays with different lengths or shapes) is deprecated. If you meant to do this, you must specify 'dtype=object' when creating the ndarray\n",
      "\u001b[2m\u001b[36m(pid=18365)\u001b[0m   arr = np.array(v)\n",
      "\u001b[2m\u001b[36m(pid=18367)\u001b[0m /home/rwa/pyvenv/lib/python3.6/site-packages/ray/rllib/evaluation/collectors/simple_list_collector.py:31: VisibleDeprecationWarning: Creating an ndarray from ragged nested sequences (which is a list-or-tuple of lists-or-tuples-or ndarrays with different lengths or shapes) is deprecated. If you meant to do this, you must specify 'dtype=object' when creating the ndarray\n",
      "\u001b[2m\u001b[36m(pid=18367)\u001b[0m   arr = np.array(v)\n",
      "\u001b[2m\u001b[36m(pid=18091)\u001b[0m WARNING:tensorflow:From /home/rwa/pyvenv/lib/python3.6/site-packages/ray/rllib/policy/tf_policy.py:852: Variable.load (from tensorflow.python.ops.variables) is deprecated and will be removed in a future version.\n",
      "\u001b[2m\u001b[36m(pid=18091)\u001b[0m Instructions for updating:\n",
      "\u001b[2m\u001b[36m(pid=18091)\u001b[0m Prefer Variable.assign which has equivalent behavior in 2.X.\n",
      "\u001b[2m\u001b[36m(pid=18365)\u001b[0m WARNING:tensorflow:From /home/rwa/pyvenv/lib/python3.6/site-packages/ray/rllib/policy/tf_policy.py:852: Variable.load (from tensorflow.python.ops.variables) is deprecated and will be removed in a future version.\n",
      "\u001b[2m\u001b[36m(pid=18365)\u001b[0m Instructions for updating:\n",
      "\u001b[2m\u001b[36m(pid=18365)\u001b[0m Prefer Variable.assign which has equivalent behavior in 2.X.\n",
      "\u001b[2m\u001b[36m(pid=18367)\u001b[0m WARNING:tensorflow:From /home/rwa/pyvenv/lib/python3.6/site-packages/ray/rllib/policy/tf_policy.py:852: Variable.load (from tensorflow.python.ops.variables) is deprecated and will be removed in a future version.\n",
      "\u001b[2m\u001b[36m(pid=18367)\u001b[0m Instructions for updating:\n",
      "\u001b[2m\u001b[36m(pid=18367)\u001b[0m Prefer Variable.assign which has equivalent behavior in 2.X.\n"
     ]
    },
    {
     "name": "stdout",
     "output_type": "stream",
     "text": [
      "evaluating on 400 instances...\n",
      "policy rms error:  0.0004899636345431394\n",
      "policy max sq error:  0.0023890152698299695\n",
      "policy % correct:  2.5\n",
      "dg rms error:  0.0003924039173737348\n",
      "dg max sq error:  0.0020401561015551154\n",
      "dg % correct:  8.0\n",
      "rand rms error:  0.0004862213171173368\n",
      "rand max sq error:  0.002382961110101945\n",
      "rand % correct:  2.25\n",
      "training batch 1/5 (100000 episodes)\n",
      "evaluating on 400 instances...\n",
      "policy rms error:  0.0005880505019909671\n",
      "policy max sq error:  0.004067021464096893\n",
      "policy % correct:  4.75\n",
      "dg rms error:  0.0005112923223985645\n",
      "dg max sq error:  0.003694416106626278\n",
      "dg % correct:  6.0\n",
      "rand rms error:  0.0005854705729294449\n",
      "rand max sq error:  0.0038389212367868335\n",
      "rand % correct:  2.5\n",
      "training batch 2/5 (100000 episodes)\n",
      "evaluating on 400 instances...\n",
      "policy rms error:  0.0004909115812047739\n",
      "policy max sq error:  0.003351044248972552\n",
      "policy % correct:  6.75\n",
      "dg rms error:  0.00041161361075468876\n",
      "dg max sq error:  0.002690644855932109\n",
      "dg % correct:  4.75\n",
      "rand rms error:  0.0005247676058469915\n",
      "rand max sq error:  0.003351171241237615\n",
      "rand % correct:  1.75\n",
      "training batch 3/5 (100000 episodes)\n",
      "evaluating on 400 instances...\n",
      "policy rms error:  0.0004545116841929409\n",
      "policy max sq error:  0.003940714828033041\n",
      "policy % correct:  7.0\n",
      "dg rms error:  0.00040138573509038454\n",
      "dg max sq error:  0.003542826150937371\n",
      "dg % correct:  6.0\n",
      "rand rms error:  0.0005070866750279922\n",
      "rand max sq error:  0.003948735385764677\n",
      "rand % correct:  1.75\n",
      "training batch 4/5 (100000 episodes)\n",
      "evaluating on 400 instances...\n",
      "policy rms error:  0.0005405197591779466\n",
      "policy max sq error:  0.004923960268012902\n",
      "policy % correct:  10.5\n",
      "dg rms error:  0.00046959283818809707\n",
      "dg max sq error:  0.004207906762608118\n",
      "dg % correct:  4.75\n",
      "rand rms error:  0.0005616001016877768\n",
      "rand max sq error:  0.004921039154200609\n",
      "rand % correct:  2.5\n"
     ]
    }
   ],
   "source": [
    "train_phase(nbatches, neval)"
   ]
  },
  {
   "cell_type": "code",
   "execution_count": 46,
   "metadata": {
    "scrolled": true
   },
   "outputs": [],
   "source": [
    "%matplotlib inline\n",
    "\n",
    "def plotprogress():\n",
    "    isteps = list(range(len(rms)))\n",
    "    asteps = [(i+1)*config['train_batch_size'] for i in isteps]\n",
    "    ax = plt.subplot(211)\n",
    "    #ax.set_ylim(0.0001,0.01)\n",
    "    ax.set_ylabel('Loss')\n",
    "    line1, = plt.semilogy(asteps,rms, marker='o')\n",
    "    line2, = plt.semilogy(asteps,dg_rms, marker='x')\n",
    "    line3, = plt.semilogy(asteps,rand_rms)\n",
    "\n",
    "    line4, = plt.semilogy(asteps,maxerr, marker='.')\n",
    "    line5, = plt.semilogy(asteps,dg_maxerr, marker='+')\n",
    "    line6, = plt.semilogy(asteps,rand_maxerr)\n",
    "\n",
    "    line1.set_label('RL rms')\n",
    "    line2.set_label('DG rms')\n",
    "    line3.set_label('RNG rms')\n",
    "    line4.set_label('RL max')\n",
    "    line5.set_label('DG max')\n",
    "    line6.set_label('RNG max')\n",
    "    ax.legend(loc='center left', bbox_to_anchor=(1, 0.5))\n",
    "    plt.ticklabel_format(style='sci', axis='x', scilimits=(0,0))\n",
    "\n",
    "    ax = plt.subplot(212)\n",
    "    ax.set_ylim(1,100)\n",
    "    ax.set_ylabel('% correct')\n",
    "    ax.set_xlabel('training episodes')\n",
    "    line1, = plt.semilogy(asteps,cor, marker='o')\n",
    "    line2, = plt.semilogy(asteps,dg_cor, marker='x')\n",
    "    line3, = plt.semilogy(asteps,rand_cor)\n",
    "\n",
    "    line1.set_label('RL')\n",
    "    line2.set_label('DG')\n",
    "    line3.set_label('RNG')\n",
    "    ax.legend(loc='center left', bbox_to_anchor=(1, 0.5))\n",
    "    plt.ticklabel_format(style='sci', axis='x', scilimits=(0,0))"
   ]
  },
  {
   "cell_type": "code",
   "execution_count": 47,
   "metadata": {
    "scrolled": true
   },
   "outputs": [
    {
     "data": {
      "image/png": "[encoded data removed]",
      "text/plain": [
       "<Figure size 432x288 with 2 Axes>"
      ]
     },
     "metadata": {
      "needs_background": "light"
     },
     "output_type": "display_data"
    }
   ],
   "source": [
    "plotprogress()"
   ]
  },
  {
   "cell_type": "code",
   "execution_count": 48,
   "metadata": {},
   "outputs": [
    {
     "name": "stdout",
     "output_type": "stream",
     "text": [
      "training batch 5/10 (100000 episodes)\n",
      "evaluating on 400 instances...\n",
      "policy rms error:  0.00047939292449630566\n",
      "policy max sq error:  0.004467290499534069\n",
      "policy % correct:  9.25\n",
      "dg rms error:  0.0004111591666773545\n",
      "dg max sq error:  0.003727840328422577\n",
      "dg % correct:  6.25\n",
      "rand rms error:  0.0005291009092211208\n",
      "rand max sq error:  0.004467446673210319\n",
      "rand % correct:  2.0\n",
      "training batch 6/10 (100000 episodes)\n",
      "evaluating on 400 instances...\n",
      "policy rms error:  0.0005123374619473343\n",
      "policy max sq error:  0.003833936033702032\n",
      "policy % correct:  13.5\n",
      "dg rms error:  0.00047272636603412307\n",
      "dg max sq error:  0.003415862687239756\n",
      "dg % correct:  4.25\n",
      "rand rms error:  0.0005859203763401369\n",
      "rand max sq error:  0.003830936926453741\n",
      "rand % correct:  1.75\n",
      "training batch 7/10 (100000 episodes)\n",
      "evaluating on 400 instances...\n",
      "policy rms error:  0.0006198499338097253\n",
      "policy max sq error:  0.004271699968091061\n",
      "policy % correct:  12.25\n",
      "dg rms error:  0.0005475633358246718\n",
      "dg max sq error:  0.0036518521143103395\n",
      "dg % correct:  6.25\n",
      "rand rms error:  0.0006645637797935965\n",
      "rand max sq error:  0.004273245745297055\n",
      "rand % correct:  1.5\n",
      "training batch 8/10 (100000 episodes)\n",
      "evaluating on 400 instances...\n",
      "policy rms error:  0.0005275882102509448\n",
      "policy max sq error:  0.004221602960096159\n",
      "policy % correct:  13.75\n",
      "dg rms error:  0.00048506542791953706\n",
      "dg max sq error:  0.003921884563368652\n",
      "dg % correct:  6.0\n",
      "rand rms error:  0.0005908576998829753\n",
      "rand max sq error:  0.004244408000675759\n",
      "rand % correct:  1.75\n",
      "training batch 9/10 (100000 episodes)\n",
      "evaluating on 400 instances...\n",
      "policy rms error:  0.0005554505700827591\n",
      "policy max sq error:  0.0036608917274405343\n",
      "policy % correct:  17.5\n",
      "dg rms error:  0.0005149686937055192\n",
      "dg max sq error:  0.0033217153553338737\n",
      "dg % correct:  6.5\n",
      "rand rms error:  0.0006451437598215546\n",
      "rand max sq error:  0.0038662009249317746\n",
      "rand % correct:  1.0\n"
     ]
    }
   ],
   "source": [
    "train_phase(nbatches, neval)"
   ]
  },
  {
   "cell_type": "code",
   "execution_count": 49,
   "metadata": {},
   "outputs": [
    {
     "data": {
      "image/png": "[encoded data removed]",
      "text/plain": [
       "<Figure size 432x288 with 2 Axes>"
      ]
     },
     "metadata": {
      "needs_background": "light"
     },
     "output_type": "display_data"
    }
   ],
   "source": [
    "plotprogress()"
   ]
  },
  {
   "cell_type": "code",
   "execution_count": 50,
   "metadata": {},
   "outputs": [
    {
     "name": "stdout",
     "output_type": "stream",
     "text": [
      "training batch 10/15 (100000 episodes)\n",
      "evaluating on 400 instances...\n",
      "policy rms error:  0.0005218642937857421\n",
      "policy max sq error:  0.003211543022778947\n",
      "policy % correct:  15.75\n",
      "dg rms error:  0.0004958179186223643\n",
      "dg max sq error:  0.002833524312951324\n",
      "dg % correct:  6.75\n",
      "rand rms error:  0.0006106276460621503\n",
      "rand max sq error:  0.003220687109654571\n",
      "rand % correct:  1.75\n",
      "training batch 11/15 (100000 episodes)\n",
      "evaluating on 400 instances...\n",
      "policy rms error:  0.00036253213952916165\n",
      "policy max sq error:  0.002646582003323685\n",
      "policy % correct:  19.25\n",
      "dg rms error:  0.00043335529381464765\n",
      "dg max sq error:  0.0029148270728444822\n",
      "dg % correct:  4.25\n",
      "rand rms error:  0.0004973658097367496\n",
      "rand max sq error:  0.003471151485535142\n",
      "rand % correct:  3.25\n",
      "training batch 12/15 (100000 episodes)\n",
      "evaluating on 400 instances...\n",
      "policy rms error:  0.0003625931597503138\n",
      "policy max sq error:  0.0026408154513561013\n",
      "policy % correct:  20.5\n",
      "dg rms error:  0.00042653065544040084\n",
      "dg max sq error:  0.0031344327748535307\n",
      "dg % correct:  5.5\n",
      "rand rms error:  0.0005318913615769632\n",
      "rand max sq error:  0.0035406182707825922\n",
      "rand % correct:  2.25\n",
      "training batch 13/15 (100000 episodes)\n",
      "evaluating on 400 instances...\n",
      "policy rms error:  0.00045678295881818753\n",
      "policy max sq error:  0.003879188689041491\n",
      "policy % correct:  23.25\n",
      "dg rms error:  0.0005786261673632031\n",
      "dg max sq error:  0.003879188689041491\n",
      "dg % correct:  5.75\n",
      "rand rms error:  0.0006875229482985437\n",
      "rand max sq error:  0.004223259075760329\n",
      "rand % correct:  2.25\n",
      "training batch 14/15 (100000 episodes)\n",
      "evaluating on 400 instances...\n",
      "policy rms error:  0.0004395710492738314\n",
      "policy max sq error:  0.0034467175487044744\n",
      "policy % correct:  24.0\n",
      "dg rms error:  0.0004909107908472565\n",
      "dg max sq error:  0.0034467175487044744\n",
      "dg % correct:  6.75\n",
      "rand rms error:  0.0006132591738504916\n",
      "rand max sq error:  0.003597118574119062\n",
      "rand % correct:  1.25\n"
     ]
    }
   ],
   "source": [
    "train_phase(nbatches, neval)"
   ]
  },
  {
   "cell_type": "code",
   "execution_count": 51,
   "metadata": {},
   "outputs": [
    {
     "data": {
      "image/png": "[encoded data removed]",
      "text/plain": [
       "<Figure size 432x288 with 2 Axes>"
      ]
     },
     "metadata": {
      "needs_background": "light"
     },
     "output_type": "display_data"
    }
   ],
   "source": [
    "plotprogress()"
   ]
  },
  {
   "cell_type": "code",
   "execution_count": 52,
   "metadata": {},
   "outputs": [
    {
     "name": "stdout",
     "output_type": "stream",
     "text": [
      "training batch 15/20 (100000 episodes)\n",
      "evaluating on 400 instances...\n",
      "policy rms error:  0.0004289260220399312\n",
      "policy max sq error:  0.00444736089893045\n",
      "policy % correct:  27.25\n",
      "dg rms error:  0.0006007021351025198\n",
      "dg max sq error:  0.00444736089893045\n",
      "dg % correct:  4.75\n",
      "rand rms error:  0.0007129059296225891\n",
      "rand max sq error:  0.005047937693991469\n",
      "rand % correct:  1.25\n",
      "training batch 16/20 (100000 episodes)\n",
      "evaluating on 400 instances...\n",
      "policy rms error:  0.0003758529113278041\n",
      "policy max sq error:  0.0035138048208813253\n",
      "policy % correct:  22.75\n",
      "dg rms error:  0.0005540337283669703\n",
      "dg max sq error:  0.003671629184700014\n",
      "dg % correct:  7.0\n",
      "rand rms error:  0.0006800877935251067\n",
      "rand max sq error:  0.004382380245329176\n",
      "rand % correct:  2.0\n",
      "training batch 17/20 (100000 episodes)\n",
      "evaluating on 400 instances...\n",
      "policy rms error:  0.00021053434676362117\n",
      "policy max sq error:  0.0016272671284956464\n",
      "policy % correct:  28.75\n",
      "dg rms error:  0.0004121035150711173\n",
      "dg max sq error:  0.0037746376366884146\n",
      "dg % correct:  6.5\n",
      "rand rms error:  0.0005121675331002532\n",
      "rand max sq error:  0.004373229100149629\n",
      "rand % correct:  2.25\n",
      "training batch 18/20 (100000 episodes)\n",
      "evaluating on 400 instances...\n",
      "policy rms error:  0.0003633155283226195\n",
      "policy max sq error:  0.004604112892675142\n",
      "policy % correct:  27.75\n",
      "dg rms error:  0.0005171177196429707\n",
      "dg max sq error:  0.004631876004080657\n",
      "dg % correct:  7.75\n",
      "rand rms error:  0.0006147090638332085\n",
      "rand max sq error:  0.00510524742707385\n",
      "rand % correct:  1.75\n",
      "training batch 19/20 (100000 episodes)\n",
      "evaluating on 400 instances...\n",
      "policy rms error:  0.00031078250868323725\n",
      "policy max sq error:  0.003387478890635634\n",
      "policy % correct:  27.5\n",
      "dg rms error:  0.0004679486087941441\n",
      "dg max sq error:  0.0028582569638767336\n",
      "dg % correct:  7.75\n",
      "rand rms error:  0.000569065715969839\n",
      "rand max sq error:  0.0034086373279094313\n",
      "rand % correct:  2.5\n"
     ]
    }
   ],
   "source": [
    "train_phase(nbatches, neval)"
   ]
  },
  {
   "cell_type": "code",
   "execution_count": 53,
   "metadata": {},
   "outputs": [
    {
     "data": {
      "image/png": "[encoded data removed]",
      "text/plain": [
       "<Figure size 432x288 with 2 Axes>"
      ]
     },
     "metadata": {
      "needs_background": "light"
     },
     "output_type": "display_data"
    }
   ],
   "source": [
    "plotprogress()"
   ]
  },
  {
   "cell_type": "markdown",
   "metadata": {},
   "source": [
    "Let's look for cases where the policy gets it right and the DG method gets it wrong."
   ]
  },
  {
   "cell_type": "markdown",
   "metadata": {},
   "source": [
    "for n in range(500):\n",
    "    obs = env.reset()\n",
    "    opt_action, opt_reward = find_optimal(obs)\n",
    "    dg_action, dg_reward = find_dgjumps(env)\n",
    "    pol_action, pol_reward = apply_policy(model, obs)\n",
    "    if ((pol_action == opt_action) and (dg_action != opt_action)):\n",
    "        break\n",
    "env.reinit()\n",
    "env.step(pol_action)\n",
    "env.render()"
   ]
  },
  {
   "cell_type": "markdown",
   "metadata": {},
   "source": [
    "env.reinit()\n",
    "env.step(dg_action)\n",
    "env.render()"
   ]
  },
  {
   "cell_type": "code",
   "execution_count": 54,
   "metadata": {},
   "outputs": [
    {
     "name": "stdout",
     "output_type": "stream",
     "text": [
      "training batch 20/25 (100000 episodes)\n",
      "evaluating on 400 instances...\n",
      "policy rms error:  0.000346001842108791\n",
      "policy max sq error:  0.0033319746630079\n",
      "policy % correct:  31.75\n",
      "dg rms error:  0.0005164254491227194\n",
      "dg max sq error:  0.0033319746630079\n",
      "dg % correct:  5.75\n",
      "rand rms error:  0.0006448298377549167\n",
      "rand max sq error:  0.0037592229488657408\n",
      "rand % correct:  3.0\n",
      "training batch 21/25 (100000 episodes)\n",
      "evaluating on 400 instances...\n",
      "policy rms error:  0.00044919575846011703\n",
      "policy max sq error:  0.0040567688360149436\n",
      "policy % correct:  29.75\n",
      "dg rms error:  0.000573209253524108\n",
      "dg max sq error:  0.003759502118006519\n",
      "dg % correct:  6.25\n",
      "rand rms error:  0.0007090655842461778\n",
      "rand max sq error:  0.004559101306740634\n",
      "rand % correct:  1.0\n",
      "training batch 22/25 (100000 episodes)\n",
      "evaluating on 400 instances...\n",
      "policy rms error:  0.00021846083720230677\n",
      "policy max sq error:  0.0024866917866264403\n",
      "policy % correct:  31.75\n",
      "dg rms error:  0.00039704013792864554\n",
      "dg max sq error:  0.003179521993046063\n",
      "dg % correct:  7.25\n",
      "rand rms error:  0.0005139895859291755\n",
      "rand max sq error:  0.004100553854496364\n",
      "rand % correct:  2.25\n",
      "training batch 23/25 (100000 episodes)\n",
      "evaluating on 400 instances...\n",
      "policy rms error:  0.00020111144370464268\n",
      "policy max sq error:  0.0020088912171714523\n",
      "policy % correct:  35.0\n",
      "dg rms error:  0.0005051055053511332\n",
      "dg max sq error:  0.0033311811290607446\n",
      "dg % correct:  8.5\n",
      "rand rms error:  0.0006133933105604943\n",
      "rand max sq error:  0.0036544641241675778\n",
      "rand % correct:  1.25\n",
      "training batch 24/25 (100000 episodes)\n",
      "evaluating on 400 instances...\n",
      "policy rms error:  0.00027933965217287357\n",
      "policy max sq error:  0.0037331175944206743\n",
      "policy % correct:  37.0\n",
      "dg rms error:  0.0006387171034115533\n",
      "dg max sq error:  0.004095559206435116\n",
      "dg % correct:  8.75\n",
      "rand rms error:  0.0007283786471561591\n",
      "rand max sq error:  0.004504397712215877\n",
      "rand % correct:  1.75\n"
     ]
    },
    {
     "data": {
      "image/png": "[encoded data removed]",
      "text/plain": [
       "<Figure size 432x288 with 2 Axes>"
      ]
     },
     "metadata": {
      "needs_background": "light"
     },
     "output_type": "display_data"
    }
   ],
   "source": [
    "train_phase(nbatches, neval)\n",
    "plotprogress()"
   ]
  },
  {
   "cell_type": "code",
   "execution_count": null,
   "metadata": {},
   "outputs": [],
   "source": []
  }
 ],
 "metadata": {
  "kernelspec": {
   "display_name": "minigame",
   "language": "python",
   "name": "minigame"
  },
  "language_info": {
   "codemirror_mode": {
    "name": "ipython",
    "version": 3
   },
   "file_extension": ".py",
   "mimetype": "text/x-python",
   "name": "python",
   "nbconvert_exporter": "python",
   "pygments_lexer": "ipython3",
   "version": "3.6.9"
  }
 },
 "nbformat": 4,
 "nbformat_minor": 4
}
